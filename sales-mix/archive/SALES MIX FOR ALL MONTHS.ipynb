{
 "cells": [
  {
   "cell_type": "code",
   "execution_count": 1,
   "metadata": {},
   "outputs": [],
   "source": [
    "# sm = сырая таблица\n",
    "# sm1 = слайс по нужным столбцам и строкам + столбец с месяцем\n",
    "# sm2 = анпивот по тарифам в плоскую таблицу"
   ]
  },
  {
   "cell_type": "code",
   "execution_count": 11,
   "metadata": {},
   "outputs": [],
   "source": [
    "import pandas as pd\n",
    "from pyxlsb import open_workbook\n",
    "import io\n",
    "import csv\n",
    "from datetime import datetime\n",
    "import re"
   ]
  },
  {
   "cell_type": "code",
   "execution_count": 4,
   "metadata": {
    "scrolled": true
   },
   "outputs": [
    {
     "name": "stdout",
     "output_type": "stream",
     "text": [
      "\\\\corp.tele2.ru\\plm_cluster\\All\\_Плановый Sales mix\\for Tableau\\Расчет целевого Sales mix_июнь.xlsb ...\n"
     ]
    }
   ],
   "source": [
    "filename = r'\\\\corp.tele2.ru\\plm_cluster\\All\\_Плановый Sales mix\\for Tableau\\Расчет целевого Sales mix_июнь.xlsb'\n",
    "print(filename, '...')\n",
    "with open_workbook(filename) as wb:\n",
    "    output = io.StringIO()\n",
    "    writer = csv.writer(output, quoting=csv.QUOTE_NONNUMERIC)\n",
    "    with wb.get_sheet('Channels_MIX') as sheet:\n",
    "        for row in sheet.rows():\n",
    "            csv_line = [r.v for r in row]\n",
    "            writer.writerow(csv_line)\n",
    "    output.seek(0)\n",
    "csvreader = csv.reader(output)"
   ]
  },
  {
   "cell_type": "code",
   "execution_count": 6,
   "metadata": {},
   "outputs": [
    {
     "name": "stdout",
     "output_type": "stream",
     "text": [
      "отчетный месяц: 2020-06-01\n"
     ]
    }
   ],
   "source": [
    "output.seek(0)\n",
    "row1 = next(csvreader)\n",
    "ordinal_days = int(float(row1[0]))\n",
    "report_month_dt = datetime.fromordinal(datetime(1900, 1, 1).toordinal() + ordinal_days - 2).date()\n",
    "print(f'отчетный месяц: {report_month_dt}')"
   ]
  },
  {
   "cell_type": "code",
   "execution_count": 7,
   "metadata": {},
   "outputs": [
    {
     "name": "stdout",
     "output_type": "stream",
     "text": [
      "столбцы со значениями: [0, 1, 2, 3, 72, 73, 74, 75, 76, 77, 78, 79]\n"
     ]
    }
   ],
   "source": [
    "col_indexes = [i for i in range(4)] #столбцы\n",
    "for index, cell_value in enumerate(row1):\n",
    "    try:\n",
    "        cell_value = float(cell_value)\n",
    "        if cell_value in range(161,180): col_indexes.append(index)\n",
    "    except:\n",
    "        continue\n",
    "print(f'столбцы со значениями: {col_indexes}')"
   ]
  },
  {
   "cell_type": "code",
   "execution_count": 8,
   "metadata": {},
   "outputs": [],
   "source": [
    "output.seek(0)\n",
    "for row_number, row in enumerate(csvreader):\n",
    "    if row[0] == 'Регион': \n",
    "        skiprows_count = row_number\n",
    "        break\n",
    "else:\n",
    "    print('Поле \"Регион\" не найдено')"
   ]
  },
  {
   "cell_type": "code",
   "execution_count": 9,
   "metadata": {
    "scrolled": false
   },
   "outputs": [
    {
     "data": {
      "text/html": [
       "<div>\n",
       "<style scoped>\n",
       "    .dataframe tbody tr th:only-of-type {\n",
       "        vertical-align: middle;\n",
       "    }\n",
       "\n",
       "    .dataframe tbody tr th {\n",
       "        vertical-align: top;\n",
       "    }\n",
       "\n",
       "    .dataframe thead th {\n",
       "        text-align: right;\n",
       "    }\n",
       "</style>\n",
       "<table border=\"1\" class=\"dataframe\">\n",
       "  <thead>\n",
       "    <tr style=\"text-align: right;\">\n",
       "      <th></th>\n",
       "      <th>Регион</th>\n",
       "      <th>Channels</th>\n",
       "      <th>МР</th>\n",
       "      <th>Кластер</th>\n",
       "      <th>Классический план</th>\n",
       "      <th>Мой Tele2 план</th>\n",
       "      <th>Мой разговор план</th>\n",
       "      <th>Мой онлайн план</th>\n",
       "      <th>Мой онлайн + план</th>\n",
       "      <th>Безлимит план</th>\n",
       "      <th>Везде онлайн план</th>\n",
       "      <th>Other план</th>\n",
       "    </tr>\n",
       "  </thead>\n",
       "  <tbody>\n",
       "    <tr>\n",
       "      <th>0</th>\n",
       "      <td>Владимир</td>\n",
       "      <td>Total</td>\n",
       "      <td>Центр</td>\n",
       "      <td>Challenger Elite</td>\n",
       "      <td>1058.0</td>\n",
       "      <td>963.0</td>\n",
       "      <td>2694.0</td>\n",
       "      <td>2886.0</td>\n",
       "      <td>961.0</td>\n",
       "      <td>578.0</td>\n",
       "      <td>0.0</td>\n",
       "      <td>481.0</td>\n",
       "    </tr>\n",
       "    <tr>\n",
       "      <th>1</th>\n",
       "      <td>Владимир</td>\n",
       "      <td>MB</td>\n",
       "      <td>Центр</td>\n",
       "      <td>Challenger Elite</td>\n",
       "      <td>276.0</td>\n",
       "      <td>130.0</td>\n",
       "      <td>1187.0</td>\n",
       "      <td>1586.0</td>\n",
       "      <td>684.0</td>\n",
       "      <td>254.0</td>\n",
       "      <td>0.0</td>\n",
       "      <td>395.0</td>\n",
       "    </tr>\n",
       "  </tbody>\n",
       "</table>\n",
       "</div>"
      ],
      "text/plain": [
       "     Регион Channels     МР           Кластер  Классический план  \\\n",
       "0  Владимир    Total  Центр  Challenger Elite             1058.0   \n",
       "1  Владимир       MB  Центр  Challenger Elite              276.0   \n",
       "\n",
       "   Мой Tele2 план  Мой разговор план  Мой онлайн план  Мой онлайн + план  \\\n",
       "0           963.0             2694.0           2886.0              961.0   \n",
       "1           130.0             1187.0           1586.0              684.0   \n",
       "\n",
       "   Безлимит план  Везде онлайн план  Other план  \n",
       "0          578.0                0.0       481.0  \n",
       "1          254.0                0.0       395.0  "
      ]
     },
     "execution_count": 9,
     "metadata": {},
     "output_type": "execute_result"
    }
   ],
   "source": [
    "output.seek(0)\n",
    "sm = pd.read_csv(output, skiprows = skiprows_count)\n",
    "sm1 = sm.iloc[:,col_indexes].dropna()\n",
    "sm1.head(2)"
   ]
  },
  {
   "cell_type": "code",
   "execution_count": 22,
   "metadata": {},
   "outputs": [
    {
     "data": {
      "text/html": [
       "<div>\n",
       "<style scoped>\n",
       "    .dataframe tbody tr th:only-of-type {\n",
       "        vertical-align: middle;\n",
       "    }\n",
       "\n",
       "    .dataframe tbody tr th {\n",
       "        vertical-align: top;\n",
       "    }\n",
       "\n",
       "    .dataframe thead th {\n",
       "        text-align: right;\n",
       "    }\n",
       "</style>\n",
       "<table border=\"1\" class=\"dataframe\">\n",
       "  <thead>\n",
       "    <tr style=\"text-align: right;\">\n",
       "      <th></th>\n",
       "      <th>report_month</th>\n",
       "      <th>region</th>\n",
       "      <th>channel</th>\n",
       "      <th>macroregion</th>\n",
       "      <th>cluster</th>\n",
       "      <th>Классический</th>\n",
       "      <th>Мой Tele2</th>\n",
       "      <th>Мой разговор</th>\n",
       "      <th>Мой онлайн</th>\n",
       "      <th>Мой онлайн +</th>\n",
       "      <th>Безлимит</th>\n",
       "      <th>Везде онлайн</th>\n",
       "      <th>Other</th>\n",
       "    </tr>\n",
       "  </thead>\n",
       "  <tbody>\n",
       "    <tr>\n",
       "      <th>0</th>\n",
       "      <td>2020-06-01</td>\n",
       "      <td>Владимир</td>\n",
       "      <td>Total</td>\n",
       "      <td>Центр</td>\n",
       "      <td>Challenger Elite</td>\n",
       "      <td>1058.0</td>\n",
       "      <td>963.0</td>\n",
       "      <td>2694.0</td>\n",
       "      <td>2886.0</td>\n",
       "      <td>961.0</td>\n",
       "      <td>578.0</td>\n",
       "      <td>0.0</td>\n",
       "      <td>481.0</td>\n",
       "    </tr>\n",
       "    <tr>\n",
       "      <th>1</th>\n",
       "      <td>2020-06-01</td>\n",
       "      <td>Владимир</td>\n",
       "      <td>MB</td>\n",
       "      <td>Центр</td>\n",
       "      <td>Challenger Elite</td>\n",
       "      <td>276.0</td>\n",
       "      <td>130.0</td>\n",
       "      <td>1187.0</td>\n",
       "      <td>1586.0</td>\n",
       "      <td>684.0</td>\n",
       "      <td>254.0</td>\n",
       "      <td>0.0</td>\n",
       "      <td>395.0</td>\n",
       "    </tr>\n",
       "  </tbody>\n",
       "</table>\n",
       "</div>"
      ],
      "text/plain": [
       "  report_month    region channel macroregion           cluster  Классический  \\\n",
       "0   2020-06-01  Владимир   Total       Центр  Challenger Elite        1058.0   \n",
       "1   2020-06-01  Владимир      MB       Центр  Challenger Elite         276.0   \n",
       "\n",
       "   Мой Tele2  Мой разговор  Мой онлайн  Мой онлайн +  Безлимит  Везде онлайн  \\\n",
       "0      963.0        2694.0      2886.0         961.0     578.0           0.0   \n",
       "1      130.0        1187.0      1586.0         684.0     254.0           0.0   \n",
       "\n",
       "   Other  \n",
       "0  481.0  \n",
       "1  395.0  "
      ]
     },
     "execution_count": 22,
     "metadata": {},
     "output_type": "execute_result"
    }
   ],
   "source": [
    "col_names = {\n",
    "    'Регион':'region',\n",
    "    'Channels':'channel',\n",
    "    'МР':'macroregion',\n",
    "    'Кластер':'cluster',\n",
    "    'Мой безлимит':'Безлимит',\n",
    "    'любое старое название':'любое новое название'\n",
    "}\n",
    "sm1 = sm1.rename(columns = col_names).rename(columns=lambda x: re.sub(r'(.+) план', r'\\1', x))\n",
    "# sm1.insert(0,'report_month',report_month_dt)\n",
    "sm1.head(2)"
   ]
  },
  {
   "cell_type": "code",
   "execution_count": null,
   "metadata": {
    "scrolled": true
   },
   "outputs": [],
   "source": [
    "fixed_cols_count = 5\n",
    "sm2 = sm1.melt(id_vars = sm1.columns[:fixed_cols_count].to_list(),\n",
    "         value_vars=sm1.columns[fixed_cols_count:].to_list(),\n",
    "         var_name='tariff',\n",
    "         value_name='subs_count')\n",
    "sm2 = sm2.loc[(sm2.channel != 'Total'),:].dropna()\n",
    "sm2.head()"
   ]
  },
  {
   "cell_type": "code",
   "execution_count": null,
   "metadata": {},
   "outputs": [],
   "source": [
    "sm2pivot = sm2.groupby(['tariff','channel']).sum().reset_index()\n",
    "sm2pivot.pivot(index='tariff', columns='channel', values='subs_count')"
   ]
  },
  {
   "cell_type": "code",
   "execution_count": null,
   "metadata": {
    "scrolled": true
   },
   "outputs": [],
   "source": [
    "# union_df = sm2\n",
    "union_df = pd.concat([union_df,sm2]).drop_duplicates()\n",
    "union_df.shape"
   ]
  },
  {
   "cell_type": "code",
   "execution_count": null,
   "metadata": {},
   "outputs": [],
   "source": [
    "newfilename = r'C:\\Users\\igor.i.plotnikov\\Documents\\My Tableau Repository\\Datasources\\TheGreatDashboard\\Sales Mix.xlsx'\n",
    "union_df.to_excel(newfilename, index = False)"
   ]
  },
  {
   "cell_type": "code",
   "execution_count": null,
   "metadata": {
    "scrolled": true
   },
   "outputs": [],
   "source": [
    "!jupyter nbconvert --to script \"SALES MIX FOR ALL MONTHS.ipynb\""
   ]
  }
 ],
 "metadata": {
  "kernelspec": {
   "display_name": "Python 3",
   "language": "python",
   "name": "python3"
  },
  "language_info": {
   "codemirror_mode": {
    "name": "ipython",
    "version": 3
   },
   "file_extension": ".py",
   "mimetype": "text/x-python",
   "name": "python",
   "nbconvert_exporter": "python",
   "pygments_lexer": "ipython3",
   "version": "3.8.0"
  }
 },
 "nbformat": 4,
 "nbformat_minor": 4
}
