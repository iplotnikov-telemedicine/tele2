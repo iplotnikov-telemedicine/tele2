{
 "cells": [
  {
   "cell_type": "code",
   "execution_count": 1,
   "metadata": {},
   "outputs": [],
   "source": [
    "import os\n",
    "proxy = 'http://10.2.176.162:8080'\n",
    "os.environ['http_proxy'] = proxy \n",
    "os.environ['HTTP_PROXY'] = proxy\n",
    "os.environ['https_proxy'] = proxy\n",
    "os.environ['HTTPS_PROXY'] = proxy"
   ]
  },
  {
   "cell_type": "code",
   "execution_count": 2,
   "metadata": {},
   "outputs": [],
   "source": [
    "import os\n",
    "from datetime import datetime, timedelta, date\n",
    "from pytz import timezone\n",
    "import urllib3\n",
    "import ssl\n",
    "import json\n",
    "import pandas as pd\n",
    "from openapi_client import openapi\n",
    "\n",
    "import configparser\n",
    "c = configparser.ConfigParser()\n",
    "c.read('setup.cfg')\n",
    "token = c['tinkoff']['token']\n",
    "\n",
    "if (not os.environ.get('PYTHONHTTPSVERIFY', '') and getattr(ssl, '_create_unverified_context', None)):\n",
    "    ssl._create_default_https_context = ssl._create_unverified_context\n",
    "    \n",
    "http = urllib3.proxy_from_url('http://10.2.176.162:8080')"
   ]
  },
  {
   "cell_type": "code",
   "execution_count": 3,
   "metadata": {},
   "outputs": [
    {
     "data": {
      "text/plain": [
       "<openapi_client.openapi.OpenApi at 0x1b046a666a0>"
      ]
     },
     "execution_count": 3,
     "metadata": {},
     "output_type": "execute_result"
    }
   ],
   "source": [
    "#подключение к API\n",
    "# client = openapi.sandbox_api_client(token)\n",
    "client = openapi.api_client(token)\n",
    "client"
   ]
  },
  {
   "cell_type": "markdown",
   "metadata": {},
   "source": [
    "#### Содержимое портфеля"
   ]
  },
  {
   "cell_type": "code",
   "execution_count": 5,
   "metadata": {},
   "outputs": [
    {
     "ename": "MaxRetryError",
     "evalue": "HTTPSConnectionPool(host='api-invest.tinkoff.ru', port=443): Max retries exceeded with url: /openapi//portfolio (Caused by NewConnectionError('<urllib3.connection.HTTPSConnection object at 0x000001B056D68940>: Failed to establish a new connection: [WinError 10060] Попытка установить соединение была безуспешной, т.к. от другого компьютера за требуемое время не получен нужный отклик, или было разорвано уже установленное соединение из-за неверного отклика уже подключенного компьютера'))",
     "output_type": "error",
     "traceback": [
      "\u001b[1;31m---------------------------------------------------------------------------\u001b[0m",
      "\u001b[1;31mTimeoutError\u001b[0m                              Traceback (most recent call last)",
      "\u001b[1;32mc:\\users\\igor.i.plotnikov\\appdata\\local\\programs\\python\\python38\\lib\\site-packages\\urllib3\\connection.py\u001b[0m in \u001b[0;36m_new_conn\u001b[1;34m(self)\u001b[0m\n\u001b[0;32m    158\u001b[0m         \u001b[1;32mtry\u001b[0m\u001b[1;33m:\u001b[0m\u001b[1;33m\u001b[0m\u001b[1;33m\u001b[0m\u001b[0m\n\u001b[1;32m--> 159\u001b[1;33m             conn = connection.create_connection(\n\u001b[0m\u001b[0;32m    160\u001b[0m                 \u001b[1;33m(\u001b[0m\u001b[0mself\u001b[0m\u001b[1;33m.\u001b[0m\u001b[0m_dns_host\u001b[0m\u001b[1;33m,\u001b[0m \u001b[0mself\u001b[0m\u001b[1;33m.\u001b[0m\u001b[0mport\u001b[0m\u001b[1;33m)\u001b[0m\u001b[1;33m,\u001b[0m \u001b[0mself\u001b[0m\u001b[1;33m.\u001b[0m\u001b[0mtimeout\u001b[0m\u001b[1;33m,\u001b[0m \u001b[1;33m**\u001b[0m\u001b[0mextra_kw\u001b[0m\u001b[1;33m\u001b[0m\u001b[1;33m\u001b[0m\u001b[0m\n",
      "\u001b[1;32mc:\\users\\igor.i.plotnikov\\appdata\\local\\programs\\python\\python38\\lib\\site-packages\\urllib3\\util\\connection.py\u001b[0m in \u001b[0;36mcreate_connection\u001b[1;34m(address, timeout, source_address, socket_options)\u001b[0m\n\u001b[0;32m     83\u001b[0m     \u001b[1;32mif\u001b[0m \u001b[0merr\u001b[0m \u001b[1;32mis\u001b[0m \u001b[1;32mnot\u001b[0m \u001b[1;32mNone\u001b[0m\u001b[1;33m:\u001b[0m\u001b[1;33m\u001b[0m\u001b[1;33m\u001b[0m\u001b[0m\n\u001b[1;32m---> 84\u001b[1;33m         \u001b[1;32mraise\u001b[0m \u001b[0merr\u001b[0m\u001b[1;33m\u001b[0m\u001b[1;33m\u001b[0m\u001b[0m\n\u001b[0m\u001b[0;32m     85\u001b[0m \u001b[1;33m\u001b[0m\u001b[0m\n",
      "\u001b[1;32mc:\\users\\igor.i.plotnikov\\appdata\\local\\programs\\python\\python38\\lib\\site-packages\\urllib3\\util\\connection.py\u001b[0m in \u001b[0;36mcreate_connection\u001b[1;34m(address, timeout, source_address, socket_options)\u001b[0m\n\u001b[0;32m     73\u001b[0m                 \u001b[0msock\u001b[0m\u001b[1;33m.\u001b[0m\u001b[0mbind\u001b[0m\u001b[1;33m(\u001b[0m\u001b[0msource_address\u001b[0m\u001b[1;33m)\u001b[0m\u001b[1;33m\u001b[0m\u001b[1;33m\u001b[0m\u001b[0m\n\u001b[1;32m---> 74\u001b[1;33m             \u001b[0msock\u001b[0m\u001b[1;33m.\u001b[0m\u001b[0mconnect\u001b[0m\u001b[1;33m(\u001b[0m\u001b[0msa\u001b[0m\u001b[1;33m)\u001b[0m\u001b[1;33m\u001b[0m\u001b[1;33m\u001b[0m\u001b[0m\n\u001b[0m\u001b[0;32m     75\u001b[0m             \u001b[1;32mreturn\u001b[0m \u001b[0msock\u001b[0m\u001b[1;33m\u001b[0m\u001b[1;33m\u001b[0m\u001b[0m\n",
      "\u001b[1;31mTimeoutError\u001b[0m: [WinError 10060] Попытка установить соединение была безуспешной, т.к. от другого компьютера за требуемое время не получен нужный отклик, или было разорвано уже установленное соединение из-за неверного отклика уже подключенного компьютера",
      "\nDuring handling of the above exception, another exception occurred:\n",
      "\u001b[1;31mNewConnectionError\u001b[0m                        Traceback (most recent call last)",
      "\u001b[1;32mc:\\users\\igor.i.plotnikov\\appdata\\local\\programs\\python\\python38\\lib\\site-packages\\urllib3\\connectionpool.py\u001b[0m in \u001b[0;36murlopen\u001b[1;34m(self, method, url, body, headers, retries, redirect, assert_same_host, timeout, pool_timeout, release_conn, chunked, body_pos, **response_kw)\u001b[0m\n\u001b[0;32m    669\u001b[0m             \u001b[1;31m# Make the request on the httplib connection object.\u001b[0m\u001b[1;33m\u001b[0m\u001b[1;33m\u001b[0m\u001b[1;33m\u001b[0m\u001b[0m\n\u001b[1;32m--> 670\u001b[1;33m             httplib_response = self._make_request(\n\u001b[0m\u001b[0;32m    671\u001b[0m                 \u001b[0mconn\u001b[0m\u001b[1;33m,\u001b[0m\u001b[1;33m\u001b[0m\u001b[1;33m\u001b[0m\u001b[0m\n",
      "\u001b[1;32mc:\\users\\igor.i.plotnikov\\appdata\\local\\programs\\python\\python38\\lib\\site-packages\\urllib3\\connectionpool.py\u001b[0m in \u001b[0;36m_make_request\u001b[1;34m(self, conn, method, url, timeout, chunked, **httplib_request_kw)\u001b[0m\n\u001b[0;32m    380\u001b[0m         \u001b[1;32mtry\u001b[0m\u001b[1;33m:\u001b[0m\u001b[1;33m\u001b[0m\u001b[1;33m\u001b[0m\u001b[0m\n\u001b[1;32m--> 381\u001b[1;33m             \u001b[0mself\u001b[0m\u001b[1;33m.\u001b[0m\u001b[0m_validate_conn\u001b[0m\u001b[1;33m(\u001b[0m\u001b[0mconn\u001b[0m\u001b[1;33m)\u001b[0m\u001b[1;33m\u001b[0m\u001b[1;33m\u001b[0m\u001b[0m\n\u001b[0m\u001b[0;32m    382\u001b[0m         \u001b[1;32mexcept\u001b[0m \u001b[1;33m(\u001b[0m\u001b[0mSocketTimeout\u001b[0m\u001b[1;33m,\u001b[0m \u001b[0mBaseSSLError\u001b[0m\u001b[1;33m)\u001b[0m \u001b[1;32mas\u001b[0m \u001b[0me\u001b[0m\u001b[1;33m:\u001b[0m\u001b[1;33m\u001b[0m\u001b[1;33m\u001b[0m\u001b[0m\n",
      "\u001b[1;32mc:\\users\\igor.i.plotnikov\\appdata\\local\\programs\\python\\python38\\lib\\site-packages\\urllib3\\connectionpool.py\u001b[0m in \u001b[0;36m_validate_conn\u001b[1;34m(self, conn)\u001b[0m\n\u001b[0;32m    975\u001b[0m         \u001b[1;32mif\u001b[0m \u001b[1;32mnot\u001b[0m \u001b[0mgetattr\u001b[0m\u001b[1;33m(\u001b[0m\u001b[0mconn\u001b[0m\u001b[1;33m,\u001b[0m \u001b[1;34m\"sock\"\u001b[0m\u001b[1;33m,\u001b[0m \u001b[1;32mNone\u001b[0m\u001b[1;33m)\u001b[0m\u001b[1;33m:\u001b[0m  \u001b[1;31m# AppEngine might not have  `.sock`\u001b[0m\u001b[1;33m\u001b[0m\u001b[1;33m\u001b[0m\u001b[0m\n\u001b[1;32m--> 976\u001b[1;33m             \u001b[0mconn\u001b[0m\u001b[1;33m.\u001b[0m\u001b[0mconnect\u001b[0m\u001b[1;33m(\u001b[0m\u001b[1;33m)\u001b[0m\u001b[1;33m\u001b[0m\u001b[1;33m\u001b[0m\u001b[0m\n\u001b[0m\u001b[0;32m    977\u001b[0m \u001b[1;33m\u001b[0m\u001b[0m\n",
      "\u001b[1;32mc:\\users\\igor.i.plotnikov\\appdata\\local\\programs\\python\\python38\\lib\\site-packages\\urllib3\\connection.py\u001b[0m in \u001b[0;36mconnect\u001b[1;34m(self)\u001b[0m\n\u001b[0;32m    307\u001b[0m         \u001b[1;31m# Add certificate verification\u001b[0m\u001b[1;33m\u001b[0m\u001b[1;33m\u001b[0m\u001b[1;33m\u001b[0m\u001b[0m\n\u001b[1;32m--> 308\u001b[1;33m         \u001b[0mconn\u001b[0m \u001b[1;33m=\u001b[0m \u001b[0mself\u001b[0m\u001b[1;33m.\u001b[0m\u001b[0m_new_conn\u001b[0m\u001b[1;33m(\u001b[0m\u001b[1;33m)\u001b[0m\u001b[1;33m\u001b[0m\u001b[1;33m\u001b[0m\u001b[0m\n\u001b[0m\u001b[0;32m    309\u001b[0m         \u001b[0mhostname\u001b[0m \u001b[1;33m=\u001b[0m \u001b[0mself\u001b[0m\u001b[1;33m.\u001b[0m\u001b[0mhost\u001b[0m\u001b[1;33m\u001b[0m\u001b[1;33m\u001b[0m\u001b[0m\n",
      "\u001b[1;32mc:\\users\\igor.i.plotnikov\\appdata\\local\\programs\\python\\python38\\lib\\site-packages\\urllib3\\connection.py\u001b[0m in \u001b[0;36m_new_conn\u001b[1;34m(self)\u001b[0m\n\u001b[0;32m    170\u001b[0m         \u001b[1;32mexcept\u001b[0m \u001b[0mSocketError\u001b[0m \u001b[1;32mas\u001b[0m \u001b[0me\u001b[0m\u001b[1;33m:\u001b[0m\u001b[1;33m\u001b[0m\u001b[1;33m\u001b[0m\u001b[0m\n\u001b[1;32m--> 171\u001b[1;33m             raise NewConnectionError(\n\u001b[0m\u001b[0;32m    172\u001b[0m                 \u001b[0mself\u001b[0m\u001b[1;33m,\u001b[0m \u001b[1;34m\"Failed to establish a new connection: %s\"\u001b[0m \u001b[1;33m%\u001b[0m \u001b[0me\u001b[0m\u001b[1;33m\u001b[0m\u001b[1;33m\u001b[0m\u001b[0m\n",
      "\u001b[1;31mNewConnectionError\u001b[0m: <urllib3.connection.HTTPSConnection object at 0x000001B056D68940>: Failed to establish a new connection: [WinError 10060] Попытка установить соединение была безуспешной, т.к. от другого компьютера за требуемое время не получен нужный отклик, или было разорвано уже установленное соединение из-за неверного отклика уже подключенного компьютера",
      "\nDuring handling of the above exception, another exception occurred:\n",
      "\u001b[1;31mMaxRetryError\u001b[0m                             Traceback (most recent call last)",
      "\u001b[1;32m<ipython-input-5-0677814c25ea>\u001b[0m in \u001b[0;36m<module>\u001b[1;34m\u001b[0m\n\u001b[1;32m----> 1\u001b[1;33m \u001b[0mpf\u001b[0m \u001b[1;33m=\u001b[0m \u001b[0mclient\u001b[0m\u001b[1;33m.\u001b[0m\u001b[0mportfolio\u001b[0m\u001b[1;33m.\u001b[0m\u001b[0mportfolio_get\u001b[0m\u001b[1;33m(\u001b[0m\u001b[1;33m)\u001b[0m\u001b[1;33m\u001b[0m\u001b[1;33m\u001b[0m\u001b[0m\n\u001b[0m",
      "\u001b[1;32mc:\\users\\igor.i.plotnikov\\appdata\\local\\programs\\python\\python38\\lib\\site-packages\\openapi_genclient\\api\\portfolio_api.py\u001b[0m in \u001b[0;36mportfolio_get\u001b[1;34m(self, **kwargs)\u001b[0m\n\u001b[0;32m    162\u001b[0m         \"\"\"\n\u001b[0;32m    163\u001b[0m         \u001b[0mkwargs\u001b[0m\u001b[1;33m[\u001b[0m\u001b[1;34m'_return_http_data_only'\u001b[0m\u001b[1;33m]\u001b[0m \u001b[1;33m=\u001b[0m \u001b[1;32mTrue\u001b[0m\u001b[1;33m\u001b[0m\u001b[1;33m\u001b[0m\u001b[0m\n\u001b[1;32m--> 164\u001b[1;33m         \u001b[1;32mreturn\u001b[0m \u001b[0mself\u001b[0m\u001b[1;33m.\u001b[0m\u001b[0mportfolio_get_with_http_info\u001b[0m\u001b[1;33m(\u001b[0m\u001b[1;33m**\u001b[0m\u001b[0mkwargs\u001b[0m\u001b[1;33m)\u001b[0m  \u001b[1;31m# noqa: E501\u001b[0m\u001b[1;33m\u001b[0m\u001b[1;33m\u001b[0m\u001b[0m\n\u001b[0m\u001b[0;32m    165\u001b[0m \u001b[1;33m\u001b[0m\u001b[0m\n\u001b[0;32m    166\u001b[0m     \u001b[1;32mdef\u001b[0m \u001b[0mportfolio_get_with_http_info\u001b[0m\u001b[1;33m(\u001b[0m\u001b[0mself\u001b[0m\u001b[1;33m,\u001b[0m \u001b[1;33m**\u001b[0m\u001b[0mkwargs\u001b[0m\u001b[1;33m)\u001b[0m\u001b[1;33m:\u001b[0m  \u001b[1;31m# noqa: E501\u001b[0m\u001b[1;33m\u001b[0m\u001b[1;33m\u001b[0m\u001b[0m\n",
      "\u001b[1;32mc:\\users\\igor.i.plotnikov\\appdata\\local\\programs\\python\\python38\\lib\\site-packages\\openapi_genclient\\api\\portfolio_api.py\u001b[0m in \u001b[0;36mportfolio_get_with_http_info\u001b[1;34m(self, **kwargs)\u001b[0m\n\u001b[0;32m    226\u001b[0m         \u001b[0mauth_settings\u001b[0m \u001b[1;33m=\u001b[0m \u001b[1;33m[\u001b[0m\u001b[1;34m'sso_auth'\u001b[0m\u001b[1;33m]\u001b[0m  \u001b[1;31m# noqa: E501\u001b[0m\u001b[1;33m\u001b[0m\u001b[1;33m\u001b[0m\u001b[0m\n\u001b[0;32m    227\u001b[0m \u001b[1;33m\u001b[0m\u001b[0m\n\u001b[1;32m--> 228\u001b[1;33m         return self.api_client.call_api(\n\u001b[0m\u001b[0;32m    229\u001b[0m             \u001b[1;34m'/portfolio'\u001b[0m\u001b[1;33m,\u001b[0m \u001b[1;34m'GET'\u001b[0m\u001b[1;33m,\u001b[0m\u001b[1;33m\u001b[0m\u001b[1;33m\u001b[0m\u001b[0m\n\u001b[0;32m    230\u001b[0m             \u001b[0mpath_params\u001b[0m\u001b[1;33m,\u001b[0m\u001b[1;33m\u001b[0m\u001b[1;33m\u001b[0m\u001b[0m\n",
      "\u001b[1;32mc:\\users\\igor.i.plotnikov\\appdata\\local\\programs\\python\\python38\\lib\\site-packages\\openapi_genclient\\api_client.py\u001b[0m in \u001b[0;36mcall_api\u001b[1;34m(self, resource_path, method, path_params, query_params, header_params, body, post_params, files, response_type, auth_settings, async_req, _return_http_data_only, collection_formats, _preload_content, _request_timeout, _host)\u001b[0m\n\u001b[0;32m    337\u001b[0m         \"\"\"\n\u001b[0;32m    338\u001b[0m         \u001b[1;32mif\u001b[0m \u001b[1;32mnot\u001b[0m \u001b[0masync_req\u001b[0m\u001b[1;33m:\u001b[0m\u001b[1;33m\u001b[0m\u001b[1;33m\u001b[0m\u001b[0m\n\u001b[1;32m--> 339\u001b[1;33m             return self.__call_api(resource_path, method,\n\u001b[0m\u001b[0;32m    340\u001b[0m                                    \u001b[0mpath_params\u001b[0m\u001b[1;33m,\u001b[0m \u001b[0mquery_params\u001b[0m\u001b[1;33m,\u001b[0m \u001b[0mheader_params\u001b[0m\u001b[1;33m,\u001b[0m\u001b[1;33m\u001b[0m\u001b[1;33m\u001b[0m\u001b[0m\n\u001b[0;32m    341\u001b[0m                                    \u001b[0mbody\u001b[0m\u001b[1;33m,\u001b[0m \u001b[0mpost_params\u001b[0m\u001b[1;33m,\u001b[0m \u001b[0mfiles\u001b[0m\u001b[1;33m,\u001b[0m\u001b[1;33m\u001b[0m\u001b[1;33m\u001b[0m\u001b[0m\n",
      "\u001b[1;32mc:\\users\\igor.i.plotnikov\\appdata\\local\\programs\\python\\python38\\lib\\site-packages\\openapi_genclient\\api_client.py\u001b[0m in \u001b[0;36m__call_api\u001b[1;34m(self, resource_path, method, path_params, query_params, header_params, body, post_params, files, response_type, auth_settings, _return_http_data_only, collection_formats, _preload_content, _request_timeout, _host)\u001b[0m\n\u001b[0;32m    169\u001b[0m \u001b[1;33m\u001b[0m\u001b[0m\n\u001b[0;32m    170\u001b[0m         \u001b[1;31m# perform request and return response\u001b[0m\u001b[1;33m\u001b[0m\u001b[1;33m\u001b[0m\u001b[1;33m\u001b[0m\u001b[0m\n\u001b[1;32m--> 171\u001b[1;33m         response_data = self.request(\n\u001b[0m\u001b[0;32m    172\u001b[0m             \u001b[0mmethod\u001b[0m\u001b[1;33m,\u001b[0m \u001b[0murl\u001b[0m\u001b[1;33m,\u001b[0m \u001b[0mquery_params\u001b[0m\u001b[1;33m=\u001b[0m\u001b[0mquery_params\u001b[0m\u001b[1;33m,\u001b[0m \u001b[0mheaders\u001b[0m\u001b[1;33m=\u001b[0m\u001b[0mheader_params\u001b[0m\u001b[1;33m,\u001b[0m\u001b[1;33m\u001b[0m\u001b[1;33m\u001b[0m\u001b[0m\n\u001b[0;32m    173\u001b[0m             \u001b[0mpost_params\u001b[0m\u001b[1;33m=\u001b[0m\u001b[0mpost_params\u001b[0m\u001b[1;33m,\u001b[0m \u001b[0mbody\u001b[0m\u001b[1;33m=\u001b[0m\u001b[0mbody\u001b[0m\u001b[1;33m,\u001b[0m\u001b[1;33m\u001b[0m\u001b[1;33m\u001b[0m\u001b[0m\n",
      "\u001b[1;32mc:\\users\\igor.i.plotnikov\\appdata\\local\\programs\\python\\python38\\lib\\site-packages\\openapi_genclient\\api_client.py\u001b[0m in \u001b[0;36mrequest\u001b[1;34m(self, method, url, query_params, headers, post_params, body, _preload_content, _request_timeout)\u001b[0m\n\u001b[0;32m    362\u001b[0m         \u001b[1;34m\"\"\"Makes the HTTP request using RESTClient.\"\"\"\u001b[0m\u001b[1;33m\u001b[0m\u001b[1;33m\u001b[0m\u001b[0m\n\u001b[0;32m    363\u001b[0m         \u001b[1;32mif\u001b[0m \u001b[0mmethod\u001b[0m \u001b[1;33m==\u001b[0m \u001b[1;34m\"GET\"\u001b[0m\u001b[1;33m:\u001b[0m\u001b[1;33m\u001b[0m\u001b[1;33m\u001b[0m\u001b[0m\n\u001b[1;32m--> 364\u001b[1;33m             return self.rest_client.GET(url,\n\u001b[0m\u001b[0;32m    365\u001b[0m                                         \u001b[0mquery_params\u001b[0m\u001b[1;33m=\u001b[0m\u001b[0mquery_params\u001b[0m\u001b[1;33m,\u001b[0m\u001b[1;33m\u001b[0m\u001b[1;33m\u001b[0m\u001b[0m\n\u001b[0;32m    366\u001b[0m                                         \u001b[0m_preload_content\u001b[0m\u001b[1;33m=\u001b[0m\u001b[0m_preload_content\u001b[0m\u001b[1;33m,\u001b[0m\u001b[1;33m\u001b[0m\u001b[1;33m\u001b[0m\u001b[0m\n",
      "\u001b[1;32mc:\\users\\igor.i.plotnikov\\appdata\\local\\programs\\python\\python38\\lib\\site-packages\\openapi_genclient\\rest.py\u001b[0m in \u001b[0;36mGET\u001b[1;34m(self, url, headers, query_params, _preload_content, _request_timeout)\u001b[0m\n\u001b[0;32m    234\u001b[0m     def GET(self, url, headers=None, query_params=None, _preload_content=True,\n\u001b[0;32m    235\u001b[0m             _request_timeout=None):\n\u001b[1;32m--> 236\u001b[1;33m         return self.request(\"GET\", url,\n\u001b[0m\u001b[0;32m    237\u001b[0m                             \u001b[0mheaders\u001b[0m\u001b[1;33m=\u001b[0m\u001b[0mheaders\u001b[0m\u001b[1;33m,\u001b[0m\u001b[1;33m\u001b[0m\u001b[1;33m\u001b[0m\u001b[0m\n\u001b[0;32m    238\u001b[0m                             \u001b[0m_preload_content\u001b[0m\u001b[1;33m=\u001b[0m\u001b[0m_preload_content\u001b[0m\u001b[1;33m,\u001b[0m\u001b[1;33m\u001b[0m\u001b[1;33m\u001b[0m\u001b[0m\n",
      "\u001b[1;32mc:\\users\\igor.i.plotnikov\\appdata\\local\\programs\\python\\python38\\lib\\site-packages\\openapi_genclient\\rest.py\u001b[0m in \u001b[0;36mrequest\u001b[1;34m(self, method, url, query_params, headers, body, post_params, _preload_content, _request_timeout)\u001b[0m\n\u001b[0;32m    207\u001b[0m             \u001b[1;31m# For `GET`, `HEAD`\u001b[0m\u001b[1;33m\u001b[0m\u001b[1;33m\u001b[0m\u001b[1;33m\u001b[0m\u001b[0m\n\u001b[0;32m    208\u001b[0m             \u001b[1;32melse\u001b[0m\u001b[1;33m:\u001b[0m\u001b[1;33m\u001b[0m\u001b[1;33m\u001b[0m\u001b[0m\n\u001b[1;32m--> 209\u001b[1;33m                 r = self.pool_manager.request(method, url,\n\u001b[0m\u001b[0;32m    210\u001b[0m                                               \u001b[0mfields\u001b[0m\u001b[1;33m=\u001b[0m\u001b[0mquery_params\u001b[0m\u001b[1;33m,\u001b[0m\u001b[1;33m\u001b[0m\u001b[1;33m\u001b[0m\u001b[0m\n\u001b[0;32m    211\u001b[0m                                               \u001b[0mpreload_content\u001b[0m\u001b[1;33m=\u001b[0m\u001b[0m_preload_content\u001b[0m\u001b[1;33m,\u001b[0m\u001b[1;33m\u001b[0m\u001b[1;33m\u001b[0m\u001b[0m\n",
      "\u001b[1;32mc:\\users\\igor.i.plotnikov\\appdata\\local\\programs\\python\\python38\\lib\\site-packages\\urllib3\\request.py\u001b[0m in \u001b[0;36mrequest\u001b[1;34m(self, method, url, fields, headers, **urlopen_kw)\u001b[0m\n\u001b[0;32m     73\u001b[0m \u001b[1;33m\u001b[0m\u001b[0m\n\u001b[0;32m     74\u001b[0m         \u001b[1;32mif\u001b[0m \u001b[0mmethod\u001b[0m \u001b[1;32min\u001b[0m \u001b[0mself\u001b[0m\u001b[1;33m.\u001b[0m\u001b[0m_encode_url_methods\u001b[0m\u001b[1;33m:\u001b[0m\u001b[1;33m\u001b[0m\u001b[1;33m\u001b[0m\u001b[0m\n\u001b[1;32m---> 75\u001b[1;33m             return self.request_encode_url(\n\u001b[0m\u001b[0;32m     76\u001b[0m                 \u001b[0mmethod\u001b[0m\u001b[1;33m,\u001b[0m \u001b[0murl\u001b[0m\u001b[1;33m,\u001b[0m \u001b[0mfields\u001b[0m\u001b[1;33m=\u001b[0m\u001b[0mfields\u001b[0m\u001b[1;33m,\u001b[0m \u001b[0mheaders\u001b[0m\u001b[1;33m=\u001b[0m\u001b[0mheaders\u001b[0m\u001b[1;33m,\u001b[0m \u001b[1;33m**\u001b[0m\u001b[0murlopen_kw\u001b[0m\u001b[1;33m\u001b[0m\u001b[1;33m\u001b[0m\u001b[0m\n\u001b[0;32m     77\u001b[0m             )\n",
      "\u001b[1;32mc:\\users\\igor.i.plotnikov\\appdata\\local\\programs\\python\\python38\\lib\\site-packages\\urllib3\\request.py\u001b[0m in \u001b[0;36mrequest_encode_url\u001b[1;34m(self, method, url, fields, headers, **urlopen_kw)\u001b[0m\n\u001b[0;32m     95\u001b[0m             \u001b[0murl\u001b[0m \u001b[1;33m+=\u001b[0m \u001b[1;34m\"?\"\u001b[0m \u001b[1;33m+\u001b[0m \u001b[0murlencode\u001b[0m\u001b[1;33m(\u001b[0m\u001b[0mfields\u001b[0m\u001b[1;33m)\u001b[0m\u001b[1;33m\u001b[0m\u001b[1;33m\u001b[0m\u001b[0m\n\u001b[0;32m     96\u001b[0m \u001b[1;33m\u001b[0m\u001b[0m\n\u001b[1;32m---> 97\u001b[1;33m         \u001b[1;32mreturn\u001b[0m \u001b[0mself\u001b[0m\u001b[1;33m.\u001b[0m\u001b[0murlopen\u001b[0m\u001b[1;33m(\u001b[0m\u001b[0mmethod\u001b[0m\u001b[1;33m,\u001b[0m \u001b[0murl\u001b[0m\u001b[1;33m,\u001b[0m \u001b[1;33m**\u001b[0m\u001b[0mextra_kw\u001b[0m\u001b[1;33m)\u001b[0m\u001b[1;33m\u001b[0m\u001b[1;33m\u001b[0m\u001b[0m\n\u001b[0m\u001b[0;32m     98\u001b[0m \u001b[1;33m\u001b[0m\u001b[0m\n\u001b[0;32m     99\u001b[0m     def request_encode_body(\n",
      "\u001b[1;32mc:\\users\\igor.i.plotnikov\\appdata\\local\\programs\\python\\python38\\lib\\site-packages\\urllib3\\poolmanager.py\u001b[0m in \u001b[0;36murlopen\u001b[1;34m(self, method, url, redirect, **kw)\u001b[0m\n\u001b[0;32m    334\u001b[0m             \u001b[0mresponse\u001b[0m \u001b[1;33m=\u001b[0m \u001b[0mconn\u001b[0m\u001b[1;33m.\u001b[0m\u001b[0murlopen\u001b[0m\u001b[1;33m(\u001b[0m\u001b[0mmethod\u001b[0m\u001b[1;33m,\u001b[0m \u001b[0murl\u001b[0m\u001b[1;33m,\u001b[0m \u001b[1;33m**\u001b[0m\u001b[0mkw\u001b[0m\u001b[1;33m)\u001b[0m\u001b[1;33m\u001b[0m\u001b[1;33m\u001b[0m\u001b[0m\n\u001b[0;32m    335\u001b[0m         \u001b[1;32melse\u001b[0m\u001b[1;33m:\u001b[0m\u001b[1;33m\u001b[0m\u001b[1;33m\u001b[0m\u001b[0m\n\u001b[1;32m--> 336\u001b[1;33m             \u001b[0mresponse\u001b[0m \u001b[1;33m=\u001b[0m \u001b[0mconn\u001b[0m\u001b[1;33m.\u001b[0m\u001b[0murlopen\u001b[0m\u001b[1;33m(\u001b[0m\u001b[0mmethod\u001b[0m\u001b[1;33m,\u001b[0m \u001b[0mu\u001b[0m\u001b[1;33m.\u001b[0m\u001b[0mrequest_uri\u001b[0m\u001b[1;33m,\u001b[0m \u001b[1;33m**\u001b[0m\u001b[0mkw\u001b[0m\u001b[1;33m)\u001b[0m\u001b[1;33m\u001b[0m\u001b[1;33m\u001b[0m\u001b[0m\n\u001b[0m\u001b[0;32m    337\u001b[0m \u001b[1;33m\u001b[0m\u001b[0m\n\u001b[0;32m    338\u001b[0m         \u001b[0mredirect_location\u001b[0m \u001b[1;33m=\u001b[0m \u001b[0mredirect\u001b[0m \u001b[1;32mand\u001b[0m \u001b[0mresponse\u001b[0m\u001b[1;33m.\u001b[0m\u001b[0mget_redirect_location\u001b[0m\u001b[1;33m(\u001b[0m\u001b[1;33m)\u001b[0m\u001b[1;33m\u001b[0m\u001b[1;33m\u001b[0m\u001b[0m\n",
      "\u001b[1;32mc:\\users\\igor.i.plotnikov\\appdata\\local\\programs\\python\\python38\\lib\\site-packages\\urllib3\\connectionpool.py\u001b[0m in \u001b[0;36murlopen\u001b[1;34m(self, method, url, body, headers, retries, redirect, assert_same_host, timeout, pool_timeout, release_conn, chunked, body_pos, **response_kw)\u001b[0m\n\u001b[0;32m    750\u001b[0m                 \u001b[1;34m\"Retrying (%r) after connection broken by '%r': %s\"\u001b[0m\u001b[1;33m,\u001b[0m \u001b[0mretries\u001b[0m\u001b[1;33m,\u001b[0m \u001b[0merr\u001b[0m\u001b[1;33m,\u001b[0m \u001b[0murl\u001b[0m\u001b[1;33m\u001b[0m\u001b[1;33m\u001b[0m\u001b[0m\n\u001b[0;32m    751\u001b[0m             )\n\u001b[1;32m--> 752\u001b[1;33m             return self.urlopen(\n\u001b[0m\u001b[0;32m    753\u001b[0m                 \u001b[0mmethod\u001b[0m\u001b[1;33m,\u001b[0m\u001b[1;33m\u001b[0m\u001b[1;33m\u001b[0m\u001b[0m\n\u001b[0;32m    754\u001b[0m                 \u001b[0murl\u001b[0m\u001b[1;33m,\u001b[0m\u001b[1;33m\u001b[0m\u001b[1;33m\u001b[0m\u001b[0m\n",
      "\u001b[1;32mc:\\users\\igor.i.plotnikov\\appdata\\local\\programs\\python\\python38\\lib\\site-packages\\urllib3\\connectionpool.py\u001b[0m in \u001b[0;36murlopen\u001b[1;34m(self, method, url, body, headers, retries, redirect, assert_same_host, timeout, pool_timeout, release_conn, chunked, body_pos, **response_kw)\u001b[0m\n\u001b[0;32m    750\u001b[0m                 \u001b[1;34m\"Retrying (%r) after connection broken by '%r': %s\"\u001b[0m\u001b[1;33m,\u001b[0m \u001b[0mretries\u001b[0m\u001b[1;33m,\u001b[0m \u001b[0merr\u001b[0m\u001b[1;33m,\u001b[0m \u001b[0murl\u001b[0m\u001b[1;33m\u001b[0m\u001b[1;33m\u001b[0m\u001b[0m\n\u001b[0;32m    751\u001b[0m             )\n\u001b[1;32m--> 752\u001b[1;33m             return self.urlopen(\n\u001b[0m\u001b[0;32m    753\u001b[0m                 \u001b[0mmethod\u001b[0m\u001b[1;33m,\u001b[0m\u001b[1;33m\u001b[0m\u001b[1;33m\u001b[0m\u001b[0m\n\u001b[0;32m    754\u001b[0m                 \u001b[0murl\u001b[0m\u001b[1;33m,\u001b[0m\u001b[1;33m\u001b[0m\u001b[1;33m\u001b[0m\u001b[0m\n",
      "\u001b[1;32mc:\\users\\igor.i.plotnikov\\appdata\\local\\programs\\python\\python38\\lib\\site-packages\\urllib3\\connectionpool.py\u001b[0m in \u001b[0;36murlopen\u001b[1;34m(self, method, url, body, headers, retries, redirect, assert_same_host, timeout, pool_timeout, release_conn, chunked, body_pos, **response_kw)\u001b[0m\n\u001b[0;32m    750\u001b[0m                 \u001b[1;34m\"Retrying (%r) after connection broken by '%r': %s\"\u001b[0m\u001b[1;33m,\u001b[0m \u001b[0mretries\u001b[0m\u001b[1;33m,\u001b[0m \u001b[0merr\u001b[0m\u001b[1;33m,\u001b[0m \u001b[0murl\u001b[0m\u001b[1;33m\u001b[0m\u001b[1;33m\u001b[0m\u001b[0m\n\u001b[0;32m    751\u001b[0m             )\n\u001b[1;32m--> 752\u001b[1;33m             return self.urlopen(\n\u001b[0m\u001b[0;32m    753\u001b[0m                 \u001b[0mmethod\u001b[0m\u001b[1;33m,\u001b[0m\u001b[1;33m\u001b[0m\u001b[1;33m\u001b[0m\u001b[0m\n\u001b[0;32m    754\u001b[0m                 \u001b[0murl\u001b[0m\u001b[1;33m,\u001b[0m\u001b[1;33m\u001b[0m\u001b[1;33m\u001b[0m\u001b[0m\n",
      "\u001b[1;32mc:\\users\\igor.i.plotnikov\\appdata\\local\\programs\\python\\python38\\lib\\site-packages\\urllib3\\connectionpool.py\u001b[0m in \u001b[0;36murlopen\u001b[1;34m(self, method, url, body, headers, retries, redirect, assert_same_host, timeout, pool_timeout, release_conn, chunked, body_pos, **response_kw)\u001b[0m\n\u001b[0;32m    722\u001b[0m                 \u001b[0me\u001b[0m \u001b[1;33m=\u001b[0m \u001b[0mProtocolError\u001b[0m\u001b[1;33m(\u001b[0m\u001b[1;34m\"Connection aborted.\"\u001b[0m\u001b[1;33m,\u001b[0m \u001b[0me\u001b[0m\u001b[1;33m)\u001b[0m\u001b[1;33m\u001b[0m\u001b[1;33m\u001b[0m\u001b[0m\n\u001b[0;32m    723\u001b[0m \u001b[1;33m\u001b[0m\u001b[0m\n\u001b[1;32m--> 724\u001b[1;33m             retries = retries.increment(\n\u001b[0m\u001b[0;32m    725\u001b[0m                 \u001b[0mmethod\u001b[0m\u001b[1;33m,\u001b[0m \u001b[0murl\u001b[0m\u001b[1;33m,\u001b[0m \u001b[0merror\u001b[0m\u001b[1;33m=\u001b[0m\u001b[0me\u001b[0m\u001b[1;33m,\u001b[0m \u001b[0m_pool\u001b[0m\u001b[1;33m=\u001b[0m\u001b[0mself\u001b[0m\u001b[1;33m,\u001b[0m \u001b[0m_stacktrace\u001b[0m\u001b[1;33m=\u001b[0m\u001b[0msys\u001b[0m\u001b[1;33m.\u001b[0m\u001b[0mexc_info\u001b[0m\u001b[1;33m(\u001b[0m\u001b[1;33m)\u001b[0m\u001b[1;33m[\u001b[0m\u001b[1;36m2\u001b[0m\u001b[1;33m]\u001b[0m\u001b[1;33m\u001b[0m\u001b[1;33m\u001b[0m\u001b[0m\n\u001b[0;32m    726\u001b[0m             )\n",
      "\u001b[1;32mc:\\users\\igor.i.plotnikov\\appdata\\local\\programs\\python\\python38\\lib\\site-packages\\urllib3\\util\\retry.py\u001b[0m in \u001b[0;36mincrement\u001b[1;34m(self, method, url, response, error, _pool, _stacktrace)\u001b[0m\n\u001b[0;32m    437\u001b[0m \u001b[1;33m\u001b[0m\u001b[0m\n\u001b[0;32m    438\u001b[0m         \u001b[1;32mif\u001b[0m \u001b[0mnew_retry\u001b[0m\u001b[1;33m.\u001b[0m\u001b[0mis_exhausted\u001b[0m\u001b[1;33m(\u001b[0m\u001b[1;33m)\u001b[0m\u001b[1;33m:\u001b[0m\u001b[1;33m\u001b[0m\u001b[1;33m\u001b[0m\u001b[0m\n\u001b[1;32m--> 439\u001b[1;33m             \u001b[1;32mraise\u001b[0m \u001b[0mMaxRetryError\u001b[0m\u001b[1;33m(\u001b[0m\u001b[0m_pool\u001b[0m\u001b[1;33m,\u001b[0m \u001b[0murl\u001b[0m\u001b[1;33m,\u001b[0m \u001b[0merror\u001b[0m \u001b[1;32mor\u001b[0m \u001b[0mResponseError\u001b[0m\u001b[1;33m(\u001b[0m\u001b[0mcause\u001b[0m\u001b[1;33m)\u001b[0m\u001b[1;33m)\u001b[0m\u001b[1;33m\u001b[0m\u001b[1;33m\u001b[0m\u001b[0m\n\u001b[0m\u001b[0;32m    440\u001b[0m \u001b[1;33m\u001b[0m\u001b[0m\n\u001b[0;32m    441\u001b[0m         \u001b[0mlog\u001b[0m\u001b[1;33m.\u001b[0m\u001b[0mdebug\u001b[0m\u001b[1;33m(\u001b[0m\u001b[1;34m\"Incremented Retry for (url='%s'): %r\"\u001b[0m\u001b[1;33m,\u001b[0m \u001b[0murl\u001b[0m\u001b[1;33m,\u001b[0m \u001b[0mnew_retry\u001b[0m\u001b[1;33m)\u001b[0m\u001b[1;33m\u001b[0m\u001b[1;33m\u001b[0m\u001b[0m\n",
      "\u001b[1;31mMaxRetryError\u001b[0m: HTTPSConnectionPool(host='api-invest.tinkoff.ru', port=443): Max retries exceeded with url: /openapi//portfolio (Caused by NewConnectionError('<urllib3.connection.HTTPSConnection object at 0x000001B056D68940>: Failed to establish a new connection: [WinError 10060] Попытка установить соединение была безуспешной, т.к. от другого компьютера за требуемое время не получен нужный отклик, или было разорвано уже установленное соединение из-за неверного отклика уже подключенного компьютера'))"
     ]
    }
   ],
   "source": [
    "pf = client.portfolio.portfolio_get()"
   ]
  },
  {
   "cell_type": "code",
   "execution_count": 5,
   "metadata": {
    "scrolled": true
   },
   "outputs": [
    {
     "ename": "KeyboardInterrupt",
     "evalue": "",
     "output_type": "error",
     "traceback": [
      "\u001b[1;31m---------------------------------------------------------------------------\u001b[0m",
      "\u001b[1;31mTimeoutError\u001b[0m                              Traceback (most recent call last)",
      "\u001b[1;32mc:\\users\\igor.i.plotnikov\\appdata\\local\\programs\\python\\python38\\lib\\site-packages\\urllib3\\util\\connection.py\u001b[0m in \u001b[0;36mcreate_connection\u001b[1;34m(address, timeout, source_address, socket_options)\u001b[0m\n\u001b[0;32m     73\u001b[0m                 \u001b[0msock\u001b[0m\u001b[1;33m.\u001b[0m\u001b[0mbind\u001b[0m\u001b[1;33m(\u001b[0m\u001b[0msource_address\u001b[0m\u001b[1;33m)\u001b[0m\u001b[1;33m\u001b[0m\u001b[1;33m\u001b[0m\u001b[0m\n\u001b[1;32m---> 74\u001b[1;33m             \u001b[0msock\u001b[0m\u001b[1;33m.\u001b[0m\u001b[0mconnect\u001b[0m\u001b[1;33m(\u001b[0m\u001b[0msa\u001b[0m\u001b[1;33m)\u001b[0m\u001b[1;33m\u001b[0m\u001b[1;33m\u001b[0m\u001b[0m\n\u001b[0m\u001b[0;32m     75\u001b[0m             \u001b[1;32mreturn\u001b[0m \u001b[0msock\u001b[0m\u001b[1;33m\u001b[0m\u001b[1;33m\u001b[0m\u001b[0m\n",
      "\u001b[1;31mTimeoutError\u001b[0m: [WinError 10060] Попытка установить соединение была безуспешной, т.к. от другого компьютера за требуемое время не получен нужный отклик, или было разорвано уже установленное соединение из-за неверного отклика уже подключенного компьютера",
      "\nDuring handling of the above exception, another exception occurred:\n",
      "\u001b[1;31mKeyboardInterrupt\u001b[0m                         Traceback (most recent call last)",
      "\u001b[1;32m<ipython-input-5-74cfe48eb622>\u001b[0m in \u001b[0;36m<module>\u001b[1;34m\u001b[0m\n\u001b[1;32m----> 1\u001b[1;33m \u001b[0mpf\u001b[0m \u001b[1;33m=\u001b[0m \u001b[0mclient\u001b[0m\u001b[1;33m.\u001b[0m\u001b[0mportfolio\u001b[0m\u001b[1;33m.\u001b[0m\u001b[0mportfolio_get\u001b[0m\u001b[1;33m(\u001b[0m\u001b[1;33m)\u001b[0m\u001b[1;33m\u001b[0m\u001b[1;33m\u001b[0m\u001b[0m\n\u001b[0m\u001b[0;32m      2\u001b[0m pf_columns = [\n\u001b[0;32m      3\u001b[0m     \u001b[1;34m'figi'\u001b[0m\u001b[1;33m,\u001b[0m\u001b[1;33m\u001b[0m\u001b[1;33m\u001b[0m\u001b[0m\n\u001b[0;32m      4\u001b[0m     \u001b[1;34m'ticker'\u001b[0m\u001b[1;33m,\u001b[0m\u001b[1;33m\u001b[0m\u001b[1;33m\u001b[0m\u001b[0m\n\u001b[0;32m      5\u001b[0m     \u001b[1;34m'isin'\u001b[0m\u001b[1;33m,\u001b[0m\u001b[1;33m\u001b[0m\u001b[1;33m\u001b[0m\u001b[0m\n",
      "\u001b[1;32mc:\\users\\igor.i.plotnikov\\appdata\\local\\programs\\python\\python38\\lib\\site-packages\\openapi_genclient\\api\\portfolio_api.py\u001b[0m in \u001b[0;36mportfolio_get\u001b[1;34m(self, **kwargs)\u001b[0m\n\u001b[0;32m    162\u001b[0m         \"\"\"\n\u001b[0;32m    163\u001b[0m         \u001b[0mkwargs\u001b[0m\u001b[1;33m[\u001b[0m\u001b[1;34m'_return_http_data_only'\u001b[0m\u001b[1;33m]\u001b[0m \u001b[1;33m=\u001b[0m \u001b[1;32mTrue\u001b[0m\u001b[1;33m\u001b[0m\u001b[1;33m\u001b[0m\u001b[0m\n\u001b[1;32m--> 164\u001b[1;33m         \u001b[1;32mreturn\u001b[0m \u001b[0mself\u001b[0m\u001b[1;33m.\u001b[0m\u001b[0mportfolio_get_with_http_info\u001b[0m\u001b[1;33m(\u001b[0m\u001b[1;33m**\u001b[0m\u001b[0mkwargs\u001b[0m\u001b[1;33m)\u001b[0m  \u001b[1;31m# noqa: E501\u001b[0m\u001b[1;33m\u001b[0m\u001b[1;33m\u001b[0m\u001b[0m\n\u001b[0m\u001b[0;32m    165\u001b[0m \u001b[1;33m\u001b[0m\u001b[0m\n\u001b[0;32m    166\u001b[0m     \u001b[1;32mdef\u001b[0m \u001b[0mportfolio_get_with_http_info\u001b[0m\u001b[1;33m(\u001b[0m\u001b[0mself\u001b[0m\u001b[1;33m,\u001b[0m \u001b[1;33m**\u001b[0m\u001b[0mkwargs\u001b[0m\u001b[1;33m)\u001b[0m\u001b[1;33m:\u001b[0m  \u001b[1;31m# noqa: E501\u001b[0m\u001b[1;33m\u001b[0m\u001b[1;33m\u001b[0m\u001b[0m\n",
      "\u001b[1;32mc:\\users\\igor.i.plotnikov\\appdata\\local\\programs\\python\\python38\\lib\\site-packages\\openapi_genclient\\api\\portfolio_api.py\u001b[0m in \u001b[0;36mportfolio_get_with_http_info\u001b[1;34m(self, **kwargs)\u001b[0m\n\u001b[0;32m    226\u001b[0m         \u001b[0mauth_settings\u001b[0m \u001b[1;33m=\u001b[0m \u001b[1;33m[\u001b[0m\u001b[1;34m'sso_auth'\u001b[0m\u001b[1;33m]\u001b[0m  \u001b[1;31m# noqa: E501\u001b[0m\u001b[1;33m\u001b[0m\u001b[1;33m\u001b[0m\u001b[0m\n\u001b[0;32m    227\u001b[0m \u001b[1;33m\u001b[0m\u001b[0m\n\u001b[1;32m--> 228\u001b[1;33m         return self.api_client.call_api(\n\u001b[0m\u001b[0;32m    229\u001b[0m             \u001b[1;34m'/portfolio'\u001b[0m\u001b[1;33m,\u001b[0m \u001b[1;34m'GET'\u001b[0m\u001b[1;33m,\u001b[0m\u001b[1;33m\u001b[0m\u001b[1;33m\u001b[0m\u001b[0m\n\u001b[0;32m    230\u001b[0m             \u001b[0mpath_params\u001b[0m\u001b[1;33m,\u001b[0m\u001b[1;33m\u001b[0m\u001b[1;33m\u001b[0m\u001b[0m\n",
      "\u001b[1;32mc:\\users\\igor.i.plotnikov\\appdata\\local\\programs\\python\\python38\\lib\\site-packages\\openapi_genclient\\api_client.py\u001b[0m in \u001b[0;36mcall_api\u001b[1;34m(self, resource_path, method, path_params, query_params, header_params, body, post_params, files, response_type, auth_settings, async_req, _return_http_data_only, collection_formats, _preload_content, _request_timeout, _host)\u001b[0m\n\u001b[0;32m    337\u001b[0m         \"\"\"\n\u001b[0;32m    338\u001b[0m         \u001b[1;32mif\u001b[0m \u001b[1;32mnot\u001b[0m \u001b[0masync_req\u001b[0m\u001b[1;33m:\u001b[0m\u001b[1;33m\u001b[0m\u001b[1;33m\u001b[0m\u001b[0m\n\u001b[1;32m--> 339\u001b[1;33m             return self.__call_api(resource_path, method,\n\u001b[0m\u001b[0;32m    340\u001b[0m                                    \u001b[0mpath_params\u001b[0m\u001b[1;33m,\u001b[0m \u001b[0mquery_params\u001b[0m\u001b[1;33m,\u001b[0m \u001b[0mheader_params\u001b[0m\u001b[1;33m,\u001b[0m\u001b[1;33m\u001b[0m\u001b[1;33m\u001b[0m\u001b[0m\n\u001b[0;32m    341\u001b[0m                                    \u001b[0mbody\u001b[0m\u001b[1;33m,\u001b[0m \u001b[0mpost_params\u001b[0m\u001b[1;33m,\u001b[0m \u001b[0mfiles\u001b[0m\u001b[1;33m,\u001b[0m\u001b[1;33m\u001b[0m\u001b[1;33m\u001b[0m\u001b[0m\n",
      "\u001b[1;32mc:\\users\\igor.i.plotnikov\\appdata\\local\\programs\\python\\python38\\lib\\site-packages\\openapi_genclient\\api_client.py\u001b[0m in \u001b[0;36m__call_api\u001b[1;34m(self, resource_path, method, path_params, query_params, header_params, body, post_params, files, response_type, auth_settings, _return_http_data_only, collection_formats, _preload_content, _request_timeout, _host)\u001b[0m\n\u001b[0;32m    169\u001b[0m \u001b[1;33m\u001b[0m\u001b[0m\n\u001b[0;32m    170\u001b[0m         \u001b[1;31m# perform request and return response\u001b[0m\u001b[1;33m\u001b[0m\u001b[1;33m\u001b[0m\u001b[1;33m\u001b[0m\u001b[0m\n\u001b[1;32m--> 171\u001b[1;33m         response_data = self.request(\n\u001b[0m\u001b[0;32m    172\u001b[0m             \u001b[0mmethod\u001b[0m\u001b[1;33m,\u001b[0m \u001b[0murl\u001b[0m\u001b[1;33m,\u001b[0m \u001b[0mquery_params\u001b[0m\u001b[1;33m=\u001b[0m\u001b[0mquery_params\u001b[0m\u001b[1;33m,\u001b[0m \u001b[0mheaders\u001b[0m\u001b[1;33m=\u001b[0m\u001b[0mheader_params\u001b[0m\u001b[1;33m,\u001b[0m\u001b[1;33m\u001b[0m\u001b[1;33m\u001b[0m\u001b[0m\n\u001b[0;32m    173\u001b[0m             \u001b[0mpost_params\u001b[0m\u001b[1;33m=\u001b[0m\u001b[0mpost_params\u001b[0m\u001b[1;33m,\u001b[0m \u001b[0mbody\u001b[0m\u001b[1;33m=\u001b[0m\u001b[0mbody\u001b[0m\u001b[1;33m,\u001b[0m\u001b[1;33m\u001b[0m\u001b[1;33m\u001b[0m\u001b[0m\n",
      "\u001b[1;32mc:\\users\\igor.i.plotnikov\\appdata\\local\\programs\\python\\python38\\lib\\site-packages\\openapi_genclient\\api_client.py\u001b[0m in \u001b[0;36mrequest\u001b[1;34m(self, method, url, query_params, headers, post_params, body, _preload_content, _request_timeout)\u001b[0m\n\u001b[0;32m    362\u001b[0m         \u001b[1;34m\"\"\"Makes the HTTP request using RESTClient.\"\"\"\u001b[0m\u001b[1;33m\u001b[0m\u001b[1;33m\u001b[0m\u001b[0m\n\u001b[0;32m    363\u001b[0m         \u001b[1;32mif\u001b[0m \u001b[0mmethod\u001b[0m \u001b[1;33m==\u001b[0m \u001b[1;34m\"GET\"\u001b[0m\u001b[1;33m:\u001b[0m\u001b[1;33m\u001b[0m\u001b[1;33m\u001b[0m\u001b[0m\n\u001b[1;32m--> 364\u001b[1;33m             return self.rest_client.GET(url,\n\u001b[0m\u001b[0;32m    365\u001b[0m                                         \u001b[0mquery_params\u001b[0m\u001b[1;33m=\u001b[0m\u001b[0mquery_params\u001b[0m\u001b[1;33m,\u001b[0m\u001b[1;33m\u001b[0m\u001b[1;33m\u001b[0m\u001b[0m\n\u001b[0;32m    366\u001b[0m                                         \u001b[0m_preload_content\u001b[0m\u001b[1;33m=\u001b[0m\u001b[0m_preload_content\u001b[0m\u001b[1;33m,\u001b[0m\u001b[1;33m\u001b[0m\u001b[1;33m\u001b[0m\u001b[0m\n",
      "\u001b[1;32mc:\\users\\igor.i.plotnikov\\appdata\\local\\programs\\python\\python38\\lib\\site-packages\\openapi_genclient\\rest.py\u001b[0m in \u001b[0;36mGET\u001b[1;34m(self, url, headers, query_params, _preload_content, _request_timeout)\u001b[0m\n\u001b[0;32m    234\u001b[0m     def GET(self, url, headers=None, query_params=None, _preload_content=True,\n\u001b[0;32m    235\u001b[0m             _request_timeout=None):\n\u001b[1;32m--> 236\u001b[1;33m         return self.request(\"GET\", url,\n\u001b[0m\u001b[0;32m    237\u001b[0m                             \u001b[0mheaders\u001b[0m\u001b[1;33m=\u001b[0m\u001b[0mheaders\u001b[0m\u001b[1;33m,\u001b[0m\u001b[1;33m\u001b[0m\u001b[1;33m\u001b[0m\u001b[0m\n\u001b[0;32m    238\u001b[0m                             \u001b[0m_preload_content\u001b[0m\u001b[1;33m=\u001b[0m\u001b[0m_preload_content\u001b[0m\u001b[1;33m,\u001b[0m\u001b[1;33m\u001b[0m\u001b[1;33m\u001b[0m\u001b[0m\n",
      "\u001b[1;32mc:\\users\\igor.i.plotnikov\\appdata\\local\\programs\\python\\python38\\lib\\site-packages\\openapi_genclient\\rest.py\u001b[0m in \u001b[0;36mrequest\u001b[1;34m(self, method, url, query_params, headers, body, post_params, _preload_content, _request_timeout)\u001b[0m\n\u001b[0;32m    207\u001b[0m             \u001b[1;31m# For `GET`, `HEAD`\u001b[0m\u001b[1;33m\u001b[0m\u001b[1;33m\u001b[0m\u001b[1;33m\u001b[0m\u001b[0m\n\u001b[0;32m    208\u001b[0m             \u001b[1;32melse\u001b[0m\u001b[1;33m:\u001b[0m\u001b[1;33m\u001b[0m\u001b[1;33m\u001b[0m\u001b[0m\n\u001b[1;32m--> 209\u001b[1;33m                 r = self.pool_manager.request(method, url,\n\u001b[0m\u001b[0;32m    210\u001b[0m                                               \u001b[0mfields\u001b[0m\u001b[1;33m=\u001b[0m\u001b[0mquery_params\u001b[0m\u001b[1;33m,\u001b[0m\u001b[1;33m\u001b[0m\u001b[1;33m\u001b[0m\u001b[0m\n\u001b[0;32m    211\u001b[0m                                               \u001b[0mpreload_content\u001b[0m\u001b[1;33m=\u001b[0m\u001b[0m_preload_content\u001b[0m\u001b[1;33m,\u001b[0m\u001b[1;33m\u001b[0m\u001b[1;33m\u001b[0m\u001b[0m\n",
      "\u001b[1;32mc:\\users\\igor.i.plotnikov\\appdata\\local\\programs\\python\\python38\\lib\\site-packages\\urllib3\\request.py\u001b[0m in \u001b[0;36mrequest\u001b[1;34m(self, method, url, fields, headers, **urlopen_kw)\u001b[0m\n\u001b[0;32m     73\u001b[0m \u001b[1;33m\u001b[0m\u001b[0m\n\u001b[0;32m     74\u001b[0m         \u001b[1;32mif\u001b[0m \u001b[0mmethod\u001b[0m \u001b[1;32min\u001b[0m \u001b[0mself\u001b[0m\u001b[1;33m.\u001b[0m\u001b[0m_encode_url_methods\u001b[0m\u001b[1;33m:\u001b[0m\u001b[1;33m\u001b[0m\u001b[1;33m\u001b[0m\u001b[0m\n\u001b[1;32m---> 75\u001b[1;33m             return self.request_encode_url(\n\u001b[0m\u001b[0;32m     76\u001b[0m                 \u001b[0mmethod\u001b[0m\u001b[1;33m,\u001b[0m \u001b[0murl\u001b[0m\u001b[1;33m,\u001b[0m \u001b[0mfields\u001b[0m\u001b[1;33m=\u001b[0m\u001b[0mfields\u001b[0m\u001b[1;33m,\u001b[0m \u001b[0mheaders\u001b[0m\u001b[1;33m=\u001b[0m\u001b[0mheaders\u001b[0m\u001b[1;33m,\u001b[0m \u001b[1;33m**\u001b[0m\u001b[0murlopen_kw\u001b[0m\u001b[1;33m\u001b[0m\u001b[1;33m\u001b[0m\u001b[0m\n\u001b[0;32m     77\u001b[0m             )\n",
      "\u001b[1;32mc:\\users\\igor.i.plotnikov\\appdata\\local\\programs\\python\\python38\\lib\\site-packages\\urllib3\\request.py\u001b[0m in \u001b[0;36mrequest_encode_url\u001b[1;34m(self, method, url, fields, headers, **urlopen_kw)\u001b[0m\n\u001b[0;32m     95\u001b[0m             \u001b[0murl\u001b[0m \u001b[1;33m+=\u001b[0m \u001b[1;34m\"?\"\u001b[0m \u001b[1;33m+\u001b[0m \u001b[0murlencode\u001b[0m\u001b[1;33m(\u001b[0m\u001b[0mfields\u001b[0m\u001b[1;33m)\u001b[0m\u001b[1;33m\u001b[0m\u001b[1;33m\u001b[0m\u001b[0m\n\u001b[0;32m     96\u001b[0m \u001b[1;33m\u001b[0m\u001b[0m\n\u001b[1;32m---> 97\u001b[1;33m         \u001b[1;32mreturn\u001b[0m \u001b[0mself\u001b[0m\u001b[1;33m.\u001b[0m\u001b[0murlopen\u001b[0m\u001b[1;33m(\u001b[0m\u001b[0mmethod\u001b[0m\u001b[1;33m,\u001b[0m \u001b[0murl\u001b[0m\u001b[1;33m,\u001b[0m \u001b[1;33m**\u001b[0m\u001b[0mextra_kw\u001b[0m\u001b[1;33m)\u001b[0m\u001b[1;33m\u001b[0m\u001b[1;33m\u001b[0m\u001b[0m\n\u001b[0m\u001b[0;32m     98\u001b[0m \u001b[1;33m\u001b[0m\u001b[0m\n\u001b[0;32m     99\u001b[0m     def request_encode_body(\n",
      "\u001b[1;32mc:\\users\\igor.i.plotnikov\\appdata\\local\\programs\\python\\python38\\lib\\site-packages\\urllib3\\poolmanager.py\u001b[0m in \u001b[0;36murlopen\u001b[1;34m(self, method, url, redirect, **kw)\u001b[0m\n\u001b[0;32m    334\u001b[0m             \u001b[0mresponse\u001b[0m \u001b[1;33m=\u001b[0m \u001b[0mconn\u001b[0m\u001b[1;33m.\u001b[0m\u001b[0murlopen\u001b[0m\u001b[1;33m(\u001b[0m\u001b[0mmethod\u001b[0m\u001b[1;33m,\u001b[0m \u001b[0murl\u001b[0m\u001b[1;33m,\u001b[0m \u001b[1;33m**\u001b[0m\u001b[0mkw\u001b[0m\u001b[1;33m)\u001b[0m\u001b[1;33m\u001b[0m\u001b[1;33m\u001b[0m\u001b[0m\n\u001b[0;32m    335\u001b[0m         \u001b[1;32melse\u001b[0m\u001b[1;33m:\u001b[0m\u001b[1;33m\u001b[0m\u001b[1;33m\u001b[0m\u001b[0m\n\u001b[1;32m--> 336\u001b[1;33m             \u001b[0mresponse\u001b[0m \u001b[1;33m=\u001b[0m \u001b[0mconn\u001b[0m\u001b[1;33m.\u001b[0m\u001b[0murlopen\u001b[0m\u001b[1;33m(\u001b[0m\u001b[0mmethod\u001b[0m\u001b[1;33m,\u001b[0m \u001b[0mu\u001b[0m\u001b[1;33m.\u001b[0m\u001b[0mrequest_uri\u001b[0m\u001b[1;33m,\u001b[0m \u001b[1;33m**\u001b[0m\u001b[0mkw\u001b[0m\u001b[1;33m)\u001b[0m\u001b[1;33m\u001b[0m\u001b[1;33m\u001b[0m\u001b[0m\n\u001b[0m\u001b[0;32m    337\u001b[0m \u001b[1;33m\u001b[0m\u001b[0m\n\u001b[0;32m    338\u001b[0m         \u001b[0mredirect_location\u001b[0m \u001b[1;33m=\u001b[0m \u001b[0mredirect\u001b[0m \u001b[1;32mand\u001b[0m \u001b[0mresponse\u001b[0m\u001b[1;33m.\u001b[0m\u001b[0mget_redirect_location\u001b[0m\u001b[1;33m(\u001b[0m\u001b[1;33m)\u001b[0m\u001b[1;33m\u001b[0m\u001b[1;33m\u001b[0m\u001b[0m\n",
      "\u001b[1;32mc:\\users\\igor.i.plotnikov\\appdata\\local\\programs\\python\\python38\\lib\\site-packages\\urllib3\\connectionpool.py\u001b[0m in \u001b[0;36murlopen\u001b[1;34m(self, method, url, body, headers, retries, redirect, assert_same_host, timeout, pool_timeout, release_conn, chunked, body_pos, **response_kw)\u001b[0m\n\u001b[0;32m    750\u001b[0m                 \u001b[1;34m\"Retrying (%r) after connection broken by '%r': %s\"\u001b[0m\u001b[1;33m,\u001b[0m \u001b[0mretries\u001b[0m\u001b[1;33m,\u001b[0m \u001b[0merr\u001b[0m\u001b[1;33m,\u001b[0m \u001b[0murl\u001b[0m\u001b[1;33m\u001b[0m\u001b[1;33m\u001b[0m\u001b[0m\n\u001b[0;32m    751\u001b[0m             )\n\u001b[1;32m--> 752\u001b[1;33m             return self.urlopen(\n\u001b[0m\u001b[0;32m    753\u001b[0m                 \u001b[0mmethod\u001b[0m\u001b[1;33m,\u001b[0m\u001b[1;33m\u001b[0m\u001b[1;33m\u001b[0m\u001b[0m\n\u001b[0;32m    754\u001b[0m                 \u001b[0murl\u001b[0m\u001b[1;33m,\u001b[0m\u001b[1;33m\u001b[0m\u001b[1;33m\u001b[0m\u001b[0m\n",
      "\u001b[1;32mc:\\users\\igor.i.plotnikov\\appdata\\local\\programs\\python\\python38\\lib\\site-packages\\urllib3\\connectionpool.py\u001b[0m in \u001b[0;36murlopen\u001b[1;34m(self, method, url, body, headers, retries, redirect, assert_same_host, timeout, pool_timeout, release_conn, chunked, body_pos, **response_kw)\u001b[0m\n\u001b[0;32m    750\u001b[0m                 \u001b[1;34m\"Retrying (%r) after connection broken by '%r': %s\"\u001b[0m\u001b[1;33m,\u001b[0m \u001b[0mretries\u001b[0m\u001b[1;33m,\u001b[0m \u001b[0merr\u001b[0m\u001b[1;33m,\u001b[0m \u001b[0murl\u001b[0m\u001b[1;33m\u001b[0m\u001b[1;33m\u001b[0m\u001b[0m\n\u001b[0;32m    751\u001b[0m             )\n\u001b[1;32m--> 752\u001b[1;33m             return self.urlopen(\n\u001b[0m\u001b[0;32m    753\u001b[0m                 \u001b[0mmethod\u001b[0m\u001b[1;33m,\u001b[0m\u001b[1;33m\u001b[0m\u001b[1;33m\u001b[0m\u001b[0m\n\u001b[0;32m    754\u001b[0m                 \u001b[0murl\u001b[0m\u001b[1;33m,\u001b[0m\u001b[1;33m\u001b[0m\u001b[1;33m\u001b[0m\u001b[0m\n",
      "\u001b[1;32mc:\\users\\igor.i.plotnikov\\appdata\\local\\programs\\python\\python38\\lib\\site-packages\\urllib3\\connectionpool.py\u001b[0m in \u001b[0;36murlopen\u001b[1;34m(self, method, url, body, headers, retries, redirect, assert_same_host, timeout, pool_timeout, release_conn, chunked, body_pos, **response_kw)\u001b[0m\n\u001b[0;32m    750\u001b[0m                 \u001b[1;34m\"Retrying (%r) after connection broken by '%r': %s\"\u001b[0m\u001b[1;33m,\u001b[0m \u001b[0mretries\u001b[0m\u001b[1;33m,\u001b[0m \u001b[0merr\u001b[0m\u001b[1;33m,\u001b[0m \u001b[0murl\u001b[0m\u001b[1;33m\u001b[0m\u001b[1;33m\u001b[0m\u001b[0m\n\u001b[0;32m    751\u001b[0m             )\n\u001b[1;32m--> 752\u001b[1;33m             return self.urlopen(\n\u001b[0m\u001b[0;32m    753\u001b[0m                 \u001b[0mmethod\u001b[0m\u001b[1;33m,\u001b[0m\u001b[1;33m\u001b[0m\u001b[1;33m\u001b[0m\u001b[0m\n\u001b[0;32m    754\u001b[0m                 \u001b[0murl\u001b[0m\u001b[1;33m,\u001b[0m\u001b[1;33m\u001b[0m\u001b[1;33m\u001b[0m\u001b[0m\n",
      "\u001b[1;32mc:\\users\\igor.i.plotnikov\\appdata\\local\\programs\\python\\python38\\lib\\site-packages\\urllib3\\connectionpool.py\u001b[0m in \u001b[0;36murlopen\u001b[1;34m(self, method, url, body, headers, retries, redirect, assert_same_host, timeout, pool_timeout, release_conn, chunked, body_pos, **response_kw)\u001b[0m\n\u001b[0;32m    668\u001b[0m \u001b[1;33m\u001b[0m\u001b[0m\n\u001b[0;32m    669\u001b[0m             \u001b[1;31m# Make the request on the httplib connection object.\u001b[0m\u001b[1;33m\u001b[0m\u001b[1;33m\u001b[0m\u001b[1;33m\u001b[0m\u001b[0m\n\u001b[1;32m--> 670\u001b[1;33m             httplib_response = self._make_request(\n\u001b[0m\u001b[0;32m    671\u001b[0m                 \u001b[0mconn\u001b[0m\u001b[1;33m,\u001b[0m\u001b[1;33m\u001b[0m\u001b[1;33m\u001b[0m\u001b[0m\n\u001b[0;32m    672\u001b[0m                 \u001b[0mmethod\u001b[0m\u001b[1;33m,\u001b[0m\u001b[1;33m\u001b[0m\u001b[1;33m\u001b[0m\u001b[0m\n",
      "\u001b[1;32mc:\\users\\igor.i.plotnikov\\appdata\\local\\programs\\python\\python38\\lib\\site-packages\\urllib3\\connectionpool.py\u001b[0m in \u001b[0;36m_make_request\u001b[1;34m(self, conn, method, url, timeout, chunked, **httplib_request_kw)\u001b[0m\n\u001b[0;32m    379\u001b[0m         \u001b[1;31m# Trigger any extra validation we need to do.\u001b[0m\u001b[1;33m\u001b[0m\u001b[1;33m\u001b[0m\u001b[1;33m\u001b[0m\u001b[0m\n\u001b[0;32m    380\u001b[0m         \u001b[1;32mtry\u001b[0m\u001b[1;33m:\u001b[0m\u001b[1;33m\u001b[0m\u001b[1;33m\u001b[0m\u001b[0m\n\u001b[1;32m--> 381\u001b[1;33m             \u001b[0mself\u001b[0m\u001b[1;33m.\u001b[0m\u001b[0m_validate_conn\u001b[0m\u001b[1;33m(\u001b[0m\u001b[0mconn\u001b[0m\u001b[1;33m)\u001b[0m\u001b[1;33m\u001b[0m\u001b[1;33m\u001b[0m\u001b[0m\n\u001b[0m\u001b[0;32m    382\u001b[0m         \u001b[1;32mexcept\u001b[0m \u001b[1;33m(\u001b[0m\u001b[0mSocketTimeout\u001b[0m\u001b[1;33m,\u001b[0m \u001b[0mBaseSSLError\u001b[0m\u001b[1;33m)\u001b[0m \u001b[1;32mas\u001b[0m \u001b[0me\u001b[0m\u001b[1;33m:\u001b[0m\u001b[1;33m\u001b[0m\u001b[1;33m\u001b[0m\u001b[0m\n\u001b[0;32m    383\u001b[0m             \u001b[1;31m# Py2 raises this as a BaseSSLError, Py3 raises it as socket timeout.\u001b[0m\u001b[1;33m\u001b[0m\u001b[1;33m\u001b[0m\u001b[1;33m\u001b[0m\u001b[0m\n",
      "\u001b[1;32mc:\\users\\igor.i.plotnikov\\appdata\\local\\programs\\python\\python38\\lib\\site-packages\\urllib3\\connectionpool.py\u001b[0m in \u001b[0;36m_validate_conn\u001b[1;34m(self, conn)\u001b[0m\n\u001b[0;32m    974\u001b[0m         \u001b[1;31m# Force connect early to allow us to validate the connection.\u001b[0m\u001b[1;33m\u001b[0m\u001b[1;33m\u001b[0m\u001b[1;33m\u001b[0m\u001b[0m\n\u001b[0;32m    975\u001b[0m         \u001b[1;32mif\u001b[0m \u001b[1;32mnot\u001b[0m \u001b[0mgetattr\u001b[0m\u001b[1;33m(\u001b[0m\u001b[0mconn\u001b[0m\u001b[1;33m,\u001b[0m \u001b[1;34m\"sock\"\u001b[0m\u001b[1;33m,\u001b[0m \u001b[1;32mNone\u001b[0m\u001b[1;33m)\u001b[0m\u001b[1;33m:\u001b[0m  \u001b[1;31m# AppEngine might not have  `.sock`\u001b[0m\u001b[1;33m\u001b[0m\u001b[1;33m\u001b[0m\u001b[0m\n\u001b[1;32m--> 976\u001b[1;33m             \u001b[0mconn\u001b[0m\u001b[1;33m.\u001b[0m\u001b[0mconnect\u001b[0m\u001b[1;33m(\u001b[0m\u001b[1;33m)\u001b[0m\u001b[1;33m\u001b[0m\u001b[1;33m\u001b[0m\u001b[0m\n\u001b[0m\u001b[0;32m    977\u001b[0m \u001b[1;33m\u001b[0m\u001b[0m\n\u001b[0;32m    978\u001b[0m         \u001b[1;32mif\u001b[0m \u001b[1;32mnot\u001b[0m \u001b[0mconn\u001b[0m\u001b[1;33m.\u001b[0m\u001b[0mis_verified\u001b[0m\u001b[1;33m:\u001b[0m\u001b[1;33m\u001b[0m\u001b[1;33m\u001b[0m\u001b[0m\n",
      "\u001b[1;32mc:\\users\\igor.i.plotnikov\\appdata\\local\\programs\\python\\python38\\lib\\site-packages\\urllib3\\connection.py\u001b[0m in \u001b[0;36mconnect\u001b[1;34m(self)\u001b[0m\n\u001b[0;32m    306\u001b[0m     \u001b[1;32mdef\u001b[0m \u001b[0mconnect\u001b[0m\u001b[1;33m(\u001b[0m\u001b[0mself\u001b[0m\u001b[1;33m)\u001b[0m\u001b[1;33m:\u001b[0m\u001b[1;33m\u001b[0m\u001b[1;33m\u001b[0m\u001b[0m\n\u001b[0;32m    307\u001b[0m         \u001b[1;31m# Add certificate verification\u001b[0m\u001b[1;33m\u001b[0m\u001b[1;33m\u001b[0m\u001b[1;33m\u001b[0m\u001b[0m\n\u001b[1;32m--> 308\u001b[1;33m         \u001b[0mconn\u001b[0m \u001b[1;33m=\u001b[0m \u001b[0mself\u001b[0m\u001b[1;33m.\u001b[0m\u001b[0m_new_conn\u001b[0m\u001b[1;33m(\u001b[0m\u001b[1;33m)\u001b[0m\u001b[1;33m\u001b[0m\u001b[1;33m\u001b[0m\u001b[0m\n\u001b[0m\u001b[0;32m    309\u001b[0m         \u001b[0mhostname\u001b[0m \u001b[1;33m=\u001b[0m \u001b[0mself\u001b[0m\u001b[1;33m.\u001b[0m\u001b[0mhost\u001b[0m\u001b[1;33m\u001b[0m\u001b[1;33m\u001b[0m\u001b[0m\n\u001b[0;32m    310\u001b[0m \u001b[1;33m\u001b[0m\u001b[0m\n",
      "\u001b[1;32mc:\\users\\igor.i.plotnikov\\appdata\\local\\programs\\python\\python38\\lib\\site-packages\\urllib3\\connection.py\u001b[0m in \u001b[0;36m_new_conn\u001b[1;34m(self)\u001b[0m\n\u001b[0;32m    157\u001b[0m \u001b[1;33m\u001b[0m\u001b[0m\n\u001b[0;32m    158\u001b[0m         \u001b[1;32mtry\u001b[0m\u001b[1;33m:\u001b[0m\u001b[1;33m\u001b[0m\u001b[1;33m\u001b[0m\u001b[0m\n\u001b[1;32m--> 159\u001b[1;33m             conn = connection.create_connection(\n\u001b[0m\u001b[0;32m    160\u001b[0m                 \u001b[1;33m(\u001b[0m\u001b[0mself\u001b[0m\u001b[1;33m.\u001b[0m\u001b[0m_dns_host\u001b[0m\u001b[1;33m,\u001b[0m \u001b[0mself\u001b[0m\u001b[1;33m.\u001b[0m\u001b[0mport\u001b[0m\u001b[1;33m)\u001b[0m\u001b[1;33m,\u001b[0m \u001b[0mself\u001b[0m\u001b[1;33m.\u001b[0m\u001b[0mtimeout\u001b[0m\u001b[1;33m,\u001b[0m \u001b[1;33m**\u001b[0m\u001b[0mextra_kw\u001b[0m\u001b[1;33m\u001b[0m\u001b[1;33m\u001b[0m\u001b[0m\n\u001b[0;32m    161\u001b[0m             )\n",
      "\u001b[1;32mc:\\users\\igor.i.plotnikov\\appdata\\local\\programs\\python\\python38\\lib\\site-packages\\urllib3\\util\\connection.py\u001b[0m in \u001b[0;36mcreate_connection\u001b[1;34m(address, timeout, source_address, socket_options)\u001b[0m\n\u001b[0;32m     72\u001b[0m             \u001b[1;32mif\u001b[0m \u001b[0msource_address\u001b[0m\u001b[1;33m:\u001b[0m\u001b[1;33m\u001b[0m\u001b[1;33m\u001b[0m\u001b[0m\n\u001b[0;32m     73\u001b[0m                 \u001b[0msock\u001b[0m\u001b[1;33m.\u001b[0m\u001b[0mbind\u001b[0m\u001b[1;33m(\u001b[0m\u001b[0msource_address\u001b[0m\u001b[1;33m)\u001b[0m\u001b[1;33m\u001b[0m\u001b[1;33m\u001b[0m\u001b[0m\n\u001b[1;32m---> 74\u001b[1;33m             \u001b[0msock\u001b[0m\u001b[1;33m.\u001b[0m\u001b[0mconnect\u001b[0m\u001b[1;33m(\u001b[0m\u001b[0msa\u001b[0m\u001b[1;33m)\u001b[0m\u001b[1;33m\u001b[0m\u001b[1;33m\u001b[0m\u001b[0m\n\u001b[0m\u001b[0;32m     75\u001b[0m             \u001b[1;32mreturn\u001b[0m \u001b[0msock\u001b[0m\u001b[1;33m\u001b[0m\u001b[1;33m\u001b[0m\u001b[0m\n\u001b[0;32m     76\u001b[0m \u001b[1;33m\u001b[0m\u001b[0m\n",
      "\u001b[1;31mKeyboardInterrupt\u001b[0m: "
     ]
    }
   ],
   "source": [
    "pf = client.portfolio.portfolio_get()\n",
    "pf_columns = [\n",
    "    'figi',\n",
    "    'ticker',\n",
    "    'isin',\n",
    "    'instrument_type',\n",
    "    'balance',\n",
    "    'blocked',\n",
    "    'expected yield currency',\n",
    "    'expected yield value',\n",
    "    'lots',\n",
    "    'avg pos price currency',\n",
    "    'avg pos price value',\n",
    "    'avg pos price no_nkd',\n",
    "    'name',\n",
    "]\n",
    "\n",
    "df = pd.DataFrame(columns = pf_columns)\n",
    "\n",
    "for pos in pf.payload.positions:\n",
    "    df = df.append(\n",
    "            pd.Series(\n",
    "                [\n",
    "                    pos.figi,\n",
    "                    pos.ticker,\n",
    "                    pos.isin,\n",
    "                    pos.instrument_type,\n",
    "                    pos.balance,\n",
    "                    pos.blocked,\n",
    "                    pos.expected_yield.currency,\n",
    "                    pos.expected_yield.value,\n",
    "                    pos.lots,\n",
    "                    pos.average_position_price.currency,\n",
    "                    pos.average_position_price.value,\n",
    "                    pos.average_position_price_no_nkd,\n",
    "                    pos.name,\n",
    "                ],\n",
    "            index = pf_columns),\n",
    "        ignore_index = True\n",
    "        )\n",
    "df.head()"
   ]
  },
  {
   "cell_type": "code",
   "execution_count": 38,
   "metadata": {},
   "outputs": [
    {
     "data": {
      "text/plain": [
       "{'tracking_id': 'b432132272700041',\n",
       " 'status': 'Ok',\n",
       " 'payload': {'positions': [{'figi': 'BBG000CL9VN6',\n",
       "    'ticker': 'NFLX',\n",
       "    'isin': 'US64110L1061',\n",
       "    'instrument_type': 'Stock',\n",
       "    'balance': 2.0,\n",
       "    'blocked': None,\n",
       "    'expected_yield': {'currency': 'USD', 'value': 28.2},\n",
       "    'lots': 2,\n",
       "    'average_position_price': {'currency': 'USD', 'value': 502.9},\n",
       "    'average_position_price_no_nkd': None,\n",
       "    'name': 'Netflix'},\n",
       "   {'figi': 'BBG000BVV7G1',\n",
       "    'ticker': 'TXN',\n",
       "    'isin': 'US8825081040',\n",
       "    'instrument_type': 'Stock',\n",
       "    'balance': 4.0,\n",
       "    'blocked': None,\n",
       "    'expected_yield': {'currency': 'USD', 'value': 30.2},\n",
       "    'lots': 4,\n",
       "    'average_position_price': {'currency': 'USD', 'value': 158.67},\n",
       "    'average_position_price_no_nkd': None,\n",
       "    'name': 'Texas Instruments'},\n",
       "   {'figi': 'BBG000QXWHD1',\n",
       "    'ticker': 'BIDU',\n",
       "    'isin': 'US0567521085',\n",
       "    'instrument_type': 'Stock',\n",
       "    'balance': 3.0,\n",
       "    'blocked': None,\n",
       "    'expected_yield': {'currency': 'USD', 'value': -0.67},\n",
       "    'lots': 3,\n",
       "    'average_position_price': {'currency': 'USD', 'value': 144.32},\n",
       "    'average_position_price_no_nkd': None,\n",
       "    'name': 'Baidu'},\n",
       "   {'figi': 'BBG000DQTXY6',\n",
       "    'ticker': 'DHI',\n",
       "    'isin': 'US23331A1097',\n",
       "    'instrument_type': 'Stock',\n",
       "    'balance': 6.0,\n",
       "    'blocked': None,\n",
       "    'expected_yield': {'currency': 'USD', 'value': -15.66},\n",
       "    'lots': 6,\n",
       "    'average_position_price': {'currency': 'USD', 'value': 76.18},\n",
       "    'average_position_price_no_nkd': None,\n",
       "    'name': 'D.R. Horton'},\n",
       "   {'figi': 'BBG000BH4R78',\n",
       "    'ticker': 'DIS',\n",
       "    'isin': 'US2546871060',\n",
       "    'instrument_type': 'Stock',\n",
       "    'balance': 7.0,\n",
       "    'blocked': None,\n",
       "    'expected_yield': {'currency': 'USD', 'value': 36.23},\n",
       "    'lots': 7,\n",
       "    'average_position_price': {'currency': 'USD', 'value': 147.82},\n",
       "    'average_position_price_no_nkd': None,\n",
       "    'name': 'Walt Disney'},\n",
       "   {'figi': 'BBG000BN2DC2',\n",
       "    'ticker': 'CRM',\n",
       "    'isin': 'US79466L3024',\n",
       "    'instrument_type': 'Stock',\n",
       "    'balance': 2.0,\n",
       "    'blocked': None,\n",
       "    'expected_yield': {'currency': 'USD', 'value': 1.92},\n",
       "    'lots': 2,\n",
       "    'average_position_price': {'currency': 'USD', 'value': 227.49},\n",
       "    'average_position_price_no_nkd': None,\n",
       "    'name': 'Salesforce'},\n",
       "   {'figi': 'BBG000BB5006',\n",
       "    'ticker': 'ADBE',\n",
       "    'isin': 'US00724F1012',\n",
       "    'instrument_type': 'Stock',\n",
       "    'balance': 1.0,\n",
       "    'blocked': None,\n",
       "    'expected_yield': {'currency': 'USD', 'value': 4.77},\n",
       "    'lots': 1,\n",
       "    'average_position_price': {'currency': 'USD', 'value': 487.44},\n",
       "    'average_position_price_no_nkd': None,\n",
       "    'name': 'Adobe'},\n",
       "   {'figi': 'BBG000BLRT07',\n",
       "    'ticker': 'IDXX',\n",
       "    'isin': 'US45168D1046',\n",
       "    'instrument_type': 'Stock',\n",
       "    'balance': 1.0,\n",
       "    'blocked': None,\n",
       "    'expected_yield': {'currency': 'USD', 'value': 2.38},\n",
       "    'lots': 1,\n",
       "    'average_position_price': {'currency': 'USD', 'value': 456.15},\n",
       "    'average_position_price_no_nkd': None,\n",
       "    'name': 'IDEXX'},\n",
       "   {'figi': 'BBG000BP8Z50',\n",
       "    'ticker': 'MSI',\n",
       "    'isin': 'US6200763075',\n",
       "    'instrument_type': 'Stock',\n",
       "    'balance': 5.0,\n",
       "    'blocked': None,\n",
       "    'expected_yield': {'currency': 'USD', 'value': -11.95},\n",
       "    'lots': 5,\n",
       "    'average_position_price': {'currency': 'USD', 'value': 172.34},\n",
       "    'average_position_price_no_nkd': None,\n",
       "    'name': 'Motorola Solutions'},\n",
       "   {'figi': 'BBG000BBQCY0',\n",
       "    'ticker': 'AMD',\n",
       "    'isin': 'US0079031078',\n",
       "    'instrument_type': 'Stock',\n",
       "    'balance': 2.0,\n",
       "    'blocked': None,\n",
       "    'expected_yield': {'currency': 'USD', 'value': 13.72},\n",
       "    'lots': 2,\n",
       "    'average_position_price': {'currency': 'USD', 'value': 86.95},\n",
       "    'average_position_price_no_nkd': None,\n",
       "    'name': 'AMD'},\n",
       "   {'figi': 'BBG000QP35H2',\n",
       "    'ticker': 'FATE',\n",
       "    'isin': 'US31189P1021',\n",
       "    'instrument_type': 'Stock',\n",
       "    'balance': 5.0,\n",
       "    'blocked': None,\n",
       "    'expected_yield': {'currency': 'USD', 'value': 136.0},\n",
       "    'lots': 5,\n",
       "    'average_position_price': {'currency': 'USD', 'value': 55.8},\n",
       "    'average_position_price_no_nkd': None,\n",
       "    'name': 'Fate Therapeutics Inc'},\n",
       "   {'figi': 'BBG000F61RJ8',\n",
       "    'ticker': 'ACM',\n",
       "    'isin': 'US00766T1007',\n",
       "    'instrument_type': 'Stock',\n",
       "    'balance': 4.0,\n",
       "    'blocked': None,\n",
       "    'expected_yield': {'currency': 'USD', 'value': -6.52},\n",
       "    'lots': 4,\n",
       "    'average_position_price': {'currency': 'USD', 'value': 52.6},\n",
       "    'average_position_price_no_nkd': None,\n",
       "    'name': 'AECOM'},\n",
       "   {'figi': 'BBG000CZ8W54',\n",
       "    'ticker': 'HALO',\n",
       "    'isin': 'US40637H1095',\n",
       "    'instrument_type': 'Stock',\n",
       "    'balance': 7.0,\n",
       "    'blocked': None,\n",
       "    'expected_yield': {'currency': 'USD', 'value': -1.82},\n",
       "    'lots': 7,\n",
       "    'average_position_price': {'currency': 'USD', 'value': 40.7},\n",
       "    'average_position_price_no_nkd': None,\n",
       "    'name': 'Halozyme Therapeutics Inc'},\n",
       "   {'figi': 'BBG000C5HS04',\n",
       "    'ticker': 'NKE',\n",
       "    'isin': 'US6541061031',\n",
       "    'instrument_type': 'Stock',\n",
       "    'balance': 4.0,\n",
       "    'blocked': None,\n",
       "    'expected_yield': {'currency': 'USD', 'value': 12.24},\n",
       "    'lots': 4,\n",
       "    'average_position_price': {'currency': 'USD', 'value': 135.58},\n",
       "    'average_position_price_no_nkd': None,\n",
       "    'name': 'NIKE'},\n",
       "   {'figi': 'BBG005YHY0Q7',\n",
       "    'ticker': 'JD',\n",
       "    'isin': 'US47215P1066',\n",
       "    'instrument_type': 'Stock',\n",
       "    'balance': 5.0,\n",
       "    'blocked': None,\n",
       "    'expected_yield': {'currency': 'USD', 'value': -8.0},\n",
       "    'lots': 5,\n",
       "    'average_position_price': {'currency': 'USD', 'value': 85.75},\n",
       "    'average_position_price_no_nkd': None,\n",
       "    'name': 'JD.com'},\n",
       "   {'figi': 'BBG000BVPV84',\n",
       "    'ticker': 'AMZN',\n",
       "    'isin': 'US0231351067',\n",
       "    'instrument_type': 'Stock',\n",
       "    'balance': 1.0,\n",
       "    'blocked': None,\n",
       "    'expected_yield': {'currency': 'USD', 'value': -11.61},\n",
       "    'lots': 1,\n",
       "    'average_position_price': {'currency': 'USD', 'value': 3170.0},\n",
       "    'average_position_price_no_nkd': None,\n",
       "    'name': 'Amazon.com'},\n",
       "   {'figi': 'BBG000B9XRY4',\n",
       "    'ticker': 'AAPL',\n",
       "    'isin': 'US0378331005',\n",
       "    'instrument_type': 'Stock',\n",
       "    'balance': 2.0,\n",
       "    'blocked': None,\n",
       "    'expected_yield': {'currency': 'USD', 'value': 6.28},\n",
       "    'lots': 2,\n",
       "    'average_position_price': {'currency': 'USD', 'value': 120.4},\n",
       "    'average_position_price_no_nkd': None,\n",
       "    'name': 'Apple'},\n",
       "   {'figi': 'BBG001QD41M9',\n",
       "    'ticker': 'APTV',\n",
       "    'isin': 'JE00B783TY65',\n",
       "    'instrument_type': 'Stock',\n",
       "    'balance': 4.0,\n",
       "    'blocked': None,\n",
       "    'expected_yield': {'currency': 'USD', 'value': 8.4},\n",
       "    'lots': 4,\n",
       "    'average_position_price': {'currency': 'USD', 'value': 121.67},\n",
       "    'average_position_price_no_nkd': None,\n",
       "    'name': 'Aptiv'},\n",
       "   {'figi': 'BBG000BCQ4P6',\n",
       "    'ticker': 'AVY',\n",
       "    'isin': 'US0536111091',\n",
       "    'instrument_type': 'Stock',\n",
       "    'balance': 4.0,\n",
       "    'blocked': None,\n",
       "    'expected_yield': {'currency': 'USD', 'value': 8.8},\n",
       "    'lots': 4,\n",
       "    'average_position_price': {'currency': 'USD', 'value': 151.67},\n",
       "    'average_position_price_no_nkd': None,\n",
       "    'name': 'Avery Dennison'},\n",
       "   {'figi': 'BBG000MM2P62',\n",
       "    'ticker': 'FB',\n",
       "    'isin': 'US30303M1027',\n",
       "    'instrument_type': 'Stock',\n",
       "    'balance': 1.0,\n",
       "    'blocked': None,\n",
       "    'expected_yield': {'currency': 'USD', 'value': 10.3},\n",
       "    'lots': 1,\n",
       "    'average_position_price': {'currency': 'USD', 'value': 274.4},\n",
       "    'average_position_price_no_nkd': None,\n",
       "    'name': 'Facebook'},\n",
       "   {'figi': 'BBG000BBCDZ2',\n",
       "    'ticker': 'ROK',\n",
       "    'isin': 'US7739031091',\n",
       "    'instrument_type': 'Stock',\n",
       "    'balance': 2.0,\n",
       "    'blocked': None,\n",
       "    'expected_yield': {'currency': 'USD', 'value': -29.38},\n",
       "    'lots': 2,\n",
       "    'average_position_price': {'currency': 'USD', 'value': 257.76},\n",
       "    'average_position_price_no_nkd': None,\n",
       "    'name': 'Rockwell Automation'},\n",
       "   {'figi': 'BBG00K7T3037',\n",
       "    'ticker': 'BILI',\n",
       "    'isin': 'US0900401060',\n",
       "    'instrument_type': 'Stock',\n",
       "    'balance': 5.0,\n",
       "    'blocked': None,\n",
       "    'expected_yield': {'currency': 'USD', 'value': 44.95},\n",
       "    'lots': 5,\n",
       "    'average_position_price': {'currency': 'USD', 'value': 63.49},\n",
       "    'average_position_price_no_nkd': None,\n",
       "    'name': 'Bilibili Inc'},\n",
       "   {'figi': 'BBG005VKB7D7',\n",
       "    'ticker': 'FXCN',\n",
       "    'isin': 'IE00BD3QFB18',\n",
       "    'instrument_type': 'Etf',\n",
       "    'balance': 65.0,\n",
       "    'blocked': None,\n",
       "    'expected_yield': {'currency': 'RUB', 'value': 252.0},\n",
       "    'lots': 65,\n",
       "    'average_position_price': {'currency': 'RUB', 'value': 3905.0},\n",
       "    'average_position_price_no_nkd': None,\n",
       "    'name': 'FinEx Акции китайских компаний'},\n",
       "   {'figi': 'BBG005HLTYH9',\n",
       "    'ticker': 'FXIT',\n",
       "    'isin': 'IE00BD3QJ757',\n",
       "    'instrument_type': 'Etf',\n",
       "    'balance': 43.0,\n",
       "    'blocked': None,\n",
       "    'expected_yield': {'currency': 'RUB', 'value': 166670.0},\n",
       "    'lots': 43,\n",
       "    'average_position_price': {'currency': 'RUB', 'value': 5374.0},\n",
       "    'average_position_price_no_nkd': None,\n",
       "    'name': 'FinEx Акции компаний IT-сектора США'},\n",
       "   {'figi': 'BBG0013HGFT4',\n",
       "    'ticker': 'USD000UTSTOM',\n",
       "    'isin': None,\n",
       "    'instrument_type': 'Currency',\n",
       "    'balance': 71.29,\n",
       "    'blocked': None,\n",
       "    'expected_yield': {'currency': 'RUB', 'value': -202.82},\n",
       "    'lots': 0,\n",
       "    'average_position_price': {'currency': 'RUB', 'value': 76.01},\n",
       "    'average_position_price_no_nkd': None,\n",
       "    'name': 'Доллар США'}]}}"
      ]
     },
     "execution_count": 38,
     "metadata": {},
     "output_type": "execute_result"
    }
   ],
   "source": [
    "pf_dict = pf.to_dict()\n",
    "usd_cost = pf_dict['USD000UTSTOM']\n",
    "# pf_dict['average_position_price']['value']"
   ]
  },
  {
   "cell_type": "code",
   "execution_count": 51,
   "metadata": {
    "scrolled": true
   },
   "outputs": [
    {
     "name": "stdout",
     "output_type": "stream",
     "text": [
      "Netflix USD 502.9 5777.520100000001 5777.520100000001 2143.482 7921.002100000001\n",
      "Texas Instruments USD 158.67 5777.520100000001 5777.520100000001 2295.502 8073.0221\n",
      "Baidu USD 144.32 5777.520100000001 5777.520100000001 -50.926700000000004 5726.593400000001\n",
      "D.R. Horton USD 76.18 5777.520100000001 5777.520100000001 -1190.3166 4587.2035000000005\n",
      "Walt Disney USD 147.82 5777.520100000001 5777.520100000001 2753.8423 8531.3624\n",
      "Salesforce USD 227.49 5777.520100000001 5777.520100000001 145.9392 5923.4593\n",
      "Adobe USD 487.44 5777.520100000001 5777.520100000001 362.5677 6140.0878\n",
      "IDEXX USD 456.15 5777.520100000001 5777.520100000001 180.90380000000002 5958.423900000001\n",
      "Motorola Solutions USD 172.34 5777.520100000001 5777.520100000001 -908.3195000000001 4869.2006\n",
      "AMD USD 86.95 5777.520100000001 5777.520100000001 1042.8572000000001 6820.377300000001\n",
      "Fate Therapeutics Inc USD 55.8 5777.520100000001 5777.520100000001 10337.36 16114.880100000002\n",
      "AECOM USD 52.6 5777.520100000001 5777.520100000001 -495.5852 5281.9349\n",
      "Halozyme Therapeutics Inc USD 40.7 5777.520100000001 5777.520100000001 -138.3382 5639.1819000000005\n",
      "NIKE USD 135.58 5777.520100000001 5777.520100000001 930.3624000000001 6707.882500000001\n",
      "JD.com USD 85.75 5777.520100000001 5777.520100000001 -608.08 5169.440100000001\n",
      "Amazon.com USD 3170.0 5777.520100000001 5777.520100000001 -882.4761 4895.044000000001\n",
      "Apple USD 120.4 5777.520100000001 5777.520100000001 477.34280000000007 6254.862900000001\n",
      "Aptiv USD 121.67 5777.520100000001 5777.520100000001 638.484 6416.004100000001\n",
      "Avery Dennison USD 151.67 5777.520100000001 5777.520100000001 668.8880000000001 6446.408100000001\n",
      "Facebook USD 274.4 5777.520100000001 5777.520100000001 782.9030000000001 6560.423100000001\n",
      "Rockwell Automation USD 257.76 5777.520100000001 5777.520100000001 -2233.1738 3544.3463000000006\n",
      "Bilibili Inc USD 63.49 5777.520100000001 5777.520100000001 3416.6495000000004 9194.169600000001\n",
      "FinEx Акции китайских компаний RUB 3905.0 5777.520100000001 5777.520100000001 19154.52 24932.040100000002\n",
      "FinEx Акции компаний IT-сектора США RUB 5374.0 5777.520100000001 5777.520100000001 12668586.700000001 12674364.2201\n",
      "Доллар США RUB 76.01 5777.520100000001 5777.520100000001 -15416.3482 -9638.828099999999\n"
     ]
    }
   ],
   "source": [
    "for pos in pf.payload.positions:\n",
    "    if pos.ticker == 'USD000UTSTOM':\n",
    "        usd_value = pos.average_position_price.value\n",
    "    else:\n",
    "        usd_value = 100\n",
    "\n",
    "pf_amount_rub = 0\n",
    "for pos in pf.payload.positions:\n",
    "    rub_price = ((pos.average_position_price.value * usd_value)\n",
    "#                  if pos.average_position_price.currency == 'USD'\n",
    "#                  else pos.average_position_price.value\n",
    "    )\n",
    "    rub_yield = pos.expected_yield.value * usd_value\n",
    "    pf_price_rub = pf_amount_rub + rub_value\n",
    "    pf_yield_rub = pf_price_rub + rub_yield\n",
    "    print(pos.name,\n",
    "          pos.average_position_price.currency,\n",
    "          pos.average_position_price.value,\n",
    "          rub_value,\n",
    "          pf_price_rub,\n",
    "          rub_yield,\n",
    "          pf_yield_rub\n",
    "         )"
   ]
  },
  {
   "cell_type": "code",
   "execution_count": 52,
   "metadata": {},
   "outputs": [
    {
     "ename": "MaxRetryError",
     "evalue": "HTTPSConnectionPool(host='api-invest.tinkoff.ru', port=443): Max retries exceeded with url: /openapi//market/search/by-figi?figi=BBG0013HGFT4 (Caused by NewConnectionError('<urllib3.connection.HTTPSConnection object at 0x000001EF7B827BB0>: Failed to establish a new connection: [WinError 10060] Попытка установить соединение была безуспешной, т.к. от другого компьютера за требуемое время не получен нужный отклик, или было разорвано уже установленное соединение из-за неверного отклика уже подключенного компьютера'))",
     "output_type": "error",
     "traceback": [
      "\u001b[1;31m---------------------------------------------------------------------------\u001b[0m",
      "\u001b[1;31mTimeoutError\u001b[0m                              Traceback (most recent call last)",
      "\u001b[1;32mc:\\users\\igor.i.plotnikov\\appdata\\local\\programs\\python\\python38\\lib\\site-packages\\urllib3\\connection.py\u001b[0m in \u001b[0;36m_new_conn\u001b[1;34m(self)\u001b[0m\n\u001b[0;32m    158\u001b[0m         \u001b[1;32mtry\u001b[0m\u001b[1;33m:\u001b[0m\u001b[1;33m\u001b[0m\u001b[1;33m\u001b[0m\u001b[0m\n\u001b[1;32m--> 159\u001b[1;33m             conn = connection.create_connection(\n\u001b[0m\u001b[0;32m    160\u001b[0m                 \u001b[1;33m(\u001b[0m\u001b[0mself\u001b[0m\u001b[1;33m.\u001b[0m\u001b[0m_dns_host\u001b[0m\u001b[1;33m,\u001b[0m \u001b[0mself\u001b[0m\u001b[1;33m.\u001b[0m\u001b[0mport\u001b[0m\u001b[1;33m)\u001b[0m\u001b[1;33m,\u001b[0m \u001b[0mself\u001b[0m\u001b[1;33m.\u001b[0m\u001b[0mtimeout\u001b[0m\u001b[1;33m,\u001b[0m \u001b[1;33m**\u001b[0m\u001b[0mextra_kw\u001b[0m\u001b[1;33m\u001b[0m\u001b[1;33m\u001b[0m\u001b[0m\n",
      "\u001b[1;32mc:\\users\\igor.i.plotnikov\\appdata\\local\\programs\\python\\python38\\lib\\site-packages\\urllib3\\util\\connection.py\u001b[0m in \u001b[0;36mcreate_connection\u001b[1;34m(address, timeout, source_address, socket_options)\u001b[0m\n\u001b[0;32m     83\u001b[0m     \u001b[1;32mif\u001b[0m \u001b[0merr\u001b[0m \u001b[1;32mis\u001b[0m \u001b[1;32mnot\u001b[0m \u001b[1;32mNone\u001b[0m\u001b[1;33m:\u001b[0m\u001b[1;33m\u001b[0m\u001b[1;33m\u001b[0m\u001b[0m\n\u001b[1;32m---> 84\u001b[1;33m         \u001b[1;32mraise\u001b[0m \u001b[0merr\u001b[0m\u001b[1;33m\u001b[0m\u001b[1;33m\u001b[0m\u001b[0m\n\u001b[0m\u001b[0;32m     85\u001b[0m \u001b[1;33m\u001b[0m\u001b[0m\n",
      "\u001b[1;32mc:\\users\\igor.i.plotnikov\\appdata\\local\\programs\\python\\python38\\lib\\site-packages\\urllib3\\util\\connection.py\u001b[0m in \u001b[0;36mcreate_connection\u001b[1;34m(address, timeout, source_address, socket_options)\u001b[0m\n\u001b[0;32m     73\u001b[0m                 \u001b[0msock\u001b[0m\u001b[1;33m.\u001b[0m\u001b[0mbind\u001b[0m\u001b[1;33m(\u001b[0m\u001b[0msource_address\u001b[0m\u001b[1;33m)\u001b[0m\u001b[1;33m\u001b[0m\u001b[1;33m\u001b[0m\u001b[0m\n\u001b[1;32m---> 74\u001b[1;33m             \u001b[0msock\u001b[0m\u001b[1;33m.\u001b[0m\u001b[0mconnect\u001b[0m\u001b[1;33m(\u001b[0m\u001b[0msa\u001b[0m\u001b[1;33m)\u001b[0m\u001b[1;33m\u001b[0m\u001b[1;33m\u001b[0m\u001b[0m\n\u001b[0m\u001b[0;32m     75\u001b[0m             \u001b[1;32mreturn\u001b[0m \u001b[0msock\u001b[0m\u001b[1;33m\u001b[0m\u001b[1;33m\u001b[0m\u001b[0m\n",
      "\u001b[1;31mTimeoutError\u001b[0m: [WinError 10060] Попытка установить соединение была безуспешной, т.к. от другого компьютера за требуемое время не получен нужный отклик, или было разорвано уже установленное соединение из-за неверного отклика уже подключенного компьютера",
      "\nDuring handling of the above exception, another exception occurred:\n",
      "\u001b[1;31mNewConnectionError\u001b[0m                        Traceback (most recent call last)",
      "\u001b[1;32mc:\\users\\igor.i.plotnikov\\appdata\\local\\programs\\python\\python38\\lib\\site-packages\\urllib3\\connectionpool.py\u001b[0m in \u001b[0;36murlopen\u001b[1;34m(self, method, url, body, headers, retries, redirect, assert_same_host, timeout, pool_timeout, release_conn, chunked, body_pos, **response_kw)\u001b[0m\n\u001b[0;32m    669\u001b[0m             \u001b[1;31m# Make the request on the httplib connection object.\u001b[0m\u001b[1;33m\u001b[0m\u001b[1;33m\u001b[0m\u001b[1;33m\u001b[0m\u001b[0m\n\u001b[1;32m--> 670\u001b[1;33m             httplib_response = self._make_request(\n\u001b[0m\u001b[0;32m    671\u001b[0m                 \u001b[0mconn\u001b[0m\u001b[1;33m,\u001b[0m\u001b[1;33m\u001b[0m\u001b[1;33m\u001b[0m\u001b[0m\n",
      "\u001b[1;32mc:\\users\\igor.i.plotnikov\\appdata\\local\\programs\\python\\python38\\lib\\site-packages\\urllib3\\connectionpool.py\u001b[0m in \u001b[0;36m_make_request\u001b[1;34m(self, conn, method, url, timeout, chunked, **httplib_request_kw)\u001b[0m\n\u001b[0;32m    380\u001b[0m         \u001b[1;32mtry\u001b[0m\u001b[1;33m:\u001b[0m\u001b[1;33m\u001b[0m\u001b[1;33m\u001b[0m\u001b[0m\n\u001b[1;32m--> 381\u001b[1;33m             \u001b[0mself\u001b[0m\u001b[1;33m.\u001b[0m\u001b[0m_validate_conn\u001b[0m\u001b[1;33m(\u001b[0m\u001b[0mconn\u001b[0m\u001b[1;33m)\u001b[0m\u001b[1;33m\u001b[0m\u001b[1;33m\u001b[0m\u001b[0m\n\u001b[0m\u001b[0;32m    382\u001b[0m         \u001b[1;32mexcept\u001b[0m \u001b[1;33m(\u001b[0m\u001b[0mSocketTimeout\u001b[0m\u001b[1;33m,\u001b[0m \u001b[0mBaseSSLError\u001b[0m\u001b[1;33m)\u001b[0m \u001b[1;32mas\u001b[0m \u001b[0me\u001b[0m\u001b[1;33m:\u001b[0m\u001b[1;33m\u001b[0m\u001b[1;33m\u001b[0m\u001b[0m\n",
      "\u001b[1;32mc:\\users\\igor.i.plotnikov\\appdata\\local\\programs\\python\\python38\\lib\\site-packages\\urllib3\\connectionpool.py\u001b[0m in \u001b[0;36m_validate_conn\u001b[1;34m(self, conn)\u001b[0m\n\u001b[0;32m    975\u001b[0m         \u001b[1;32mif\u001b[0m \u001b[1;32mnot\u001b[0m \u001b[0mgetattr\u001b[0m\u001b[1;33m(\u001b[0m\u001b[0mconn\u001b[0m\u001b[1;33m,\u001b[0m \u001b[1;34m\"sock\"\u001b[0m\u001b[1;33m,\u001b[0m \u001b[1;32mNone\u001b[0m\u001b[1;33m)\u001b[0m\u001b[1;33m:\u001b[0m  \u001b[1;31m# AppEngine might not have  `.sock`\u001b[0m\u001b[1;33m\u001b[0m\u001b[1;33m\u001b[0m\u001b[0m\n\u001b[1;32m--> 976\u001b[1;33m             \u001b[0mconn\u001b[0m\u001b[1;33m.\u001b[0m\u001b[0mconnect\u001b[0m\u001b[1;33m(\u001b[0m\u001b[1;33m)\u001b[0m\u001b[1;33m\u001b[0m\u001b[1;33m\u001b[0m\u001b[0m\n\u001b[0m\u001b[0;32m    977\u001b[0m \u001b[1;33m\u001b[0m\u001b[0m\n",
      "\u001b[1;32mc:\\users\\igor.i.plotnikov\\appdata\\local\\programs\\python\\python38\\lib\\site-packages\\urllib3\\connection.py\u001b[0m in \u001b[0;36mconnect\u001b[1;34m(self)\u001b[0m\n\u001b[0;32m    307\u001b[0m         \u001b[1;31m# Add certificate verification\u001b[0m\u001b[1;33m\u001b[0m\u001b[1;33m\u001b[0m\u001b[1;33m\u001b[0m\u001b[0m\n\u001b[1;32m--> 308\u001b[1;33m         \u001b[0mconn\u001b[0m \u001b[1;33m=\u001b[0m \u001b[0mself\u001b[0m\u001b[1;33m.\u001b[0m\u001b[0m_new_conn\u001b[0m\u001b[1;33m(\u001b[0m\u001b[1;33m)\u001b[0m\u001b[1;33m\u001b[0m\u001b[1;33m\u001b[0m\u001b[0m\n\u001b[0m\u001b[0;32m    309\u001b[0m         \u001b[0mhostname\u001b[0m \u001b[1;33m=\u001b[0m \u001b[0mself\u001b[0m\u001b[1;33m.\u001b[0m\u001b[0mhost\u001b[0m\u001b[1;33m\u001b[0m\u001b[1;33m\u001b[0m\u001b[0m\n",
      "\u001b[1;32mc:\\users\\igor.i.plotnikov\\appdata\\local\\programs\\python\\python38\\lib\\site-packages\\urllib3\\connection.py\u001b[0m in \u001b[0;36m_new_conn\u001b[1;34m(self)\u001b[0m\n\u001b[0;32m    170\u001b[0m         \u001b[1;32mexcept\u001b[0m \u001b[0mSocketError\u001b[0m \u001b[1;32mas\u001b[0m \u001b[0me\u001b[0m\u001b[1;33m:\u001b[0m\u001b[1;33m\u001b[0m\u001b[1;33m\u001b[0m\u001b[0m\n\u001b[1;32m--> 171\u001b[1;33m             raise NewConnectionError(\n\u001b[0m\u001b[0;32m    172\u001b[0m                 \u001b[0mself\u001b[0m\u001b[1;33m,\u001b[0m \u001b[1;34m\"Failed to establish a new connection: %s\"\u001b[0m \u001b[1;33m%\u001b[0m \u001b[0me\u001b[0m\u001b[1;33m\u001b[0m\u001b[1;33m\u001b[0m\u001b[0m\n",
      "\u001b[1;31mNewConnectionError\u001b[0m: <urllib3.connection.HTTPSConnection object at 0x000001EF7B827BB0>: Failed to establish a new connection: [WinError 10060] Попытка установить соединение была безуспешной, т.к. от другого компьютера за требуемое время не получен нужный отклик, или было разорвано уже установленное соединение из-за неверного отклика уже подключенного компьютера",
      "\nDuring handling of the above exception, another exception occurred:\n",
      "\u001b[1;31mMaxRetryError\u001b[0m                             Traceback (most recent call last)",
      "\u001b[1;32m<ipython-input-52-c343d088c952>\u001b[0m in \u001b[0;36m<module>\u001b[1;34m\u001b[0m\n\u001b[1;32m----> 1\u001b[1;33m \u001b[0mclient\u001b[0m\u001b[1;33m.\u001b[0m\u001b[0mmarket\u001b[0m\u001b[1;33m.\u001b[0m\u001b[0mmarket_search_by_figi_get\u001b[0m\u001b[1;33m(\u001b[0m\u001b[1;34m'BBG0013HGFT4'\u001b[0m\u001b[1;33m)\u001b[0m\u001b[1;33m\u001b[0m\u001b[1;33m\u001b[0m\u001b[0m\n\u001b[0m",
      "\u001b[1;32mc:\\users\\igor.i.plotnikov\\appdata\\local\\programs\\python\\python38\\lib\\site-packages\\openapi_genclient\\api\\market_api.py\u001b[0m in \u001b[0;36mmarket_search_by_figi_get\u001b[1;34m(self, figi, **kwargs)\u001b[0m\n\u001b[0;32m    598\u001b[0m         \"\"\"\n\u001b[0;32m    599\u001b[0m         \u001b[0mkwargs\u001b[0m\u001b[1;33m[\u001b[0m\u001b[1;34m'_return_http_data_only'\u001b[0m\u001b[1;33m]\u001b[0m \u001b[1;33m=\u001b[0m \u001b[1;32mTrue\u001b[0m\u001b[1;33m\u001b[0m\u001b[1;33m\u001b[0m\u001b[0m\n\u001b[1;32m--> 600\u001b[1;33m         \u001b[1;32mreturn\u001b[0m \u001b[0mself\u001b[0m\u001b[1;33m.\u001b[0m\u001b[0mmarket_search_by_figi_get_with_http_info\u001b[0m\u001b[1;33m(\u001b[0m\u001b[0mfigi\u001b[0m\u001b[1;33m,\u001b[0m \u001b[1;33m**\u001b[0m\u001b[0mkwargs\u001b[0m\u001b[1;33m)\u001b[0m  \u001b[1;31m# noqa: E501\u001b[0m\u001b[1;33m\u001b[0m\u001b[1;33m\u001b[0m\u001b[0m\n\u001b[0m\u001b[0;32m    601\u001b[0m \u001b[1;33m\u001b[0m\u001b[0m\n\u001b[0;32m    602\u001b[0m     \u001b[1;32mdef\u001b[0m \u001b[0mmarket_search_by_figi_get_with_http_info\u001b[0m\u001b[1;33m(\u001b[0m\u001b[0mself\u001b[0m\u001b[1;33m,\u001b[0m \u001b[0mfigi\u001b[0m\u001b[1;33m,\u001b[0m \u001b[1;33m**\u001b[0m\u001b[0mkwargs\u001b[0m\u001b[1;33m)\u001b[0m\u001b[1;33m:\u001b[0m  \u001b[1;31m# noqa: E501\u001b[0m\u001b[1;33m\u001b[0m\u001b[1;33m\u001b[0m\u001b[0m\n",
      "\u001b[1;32mc:\\users\\igor.i.plotnikov\\appdata\\local\\programs\\python\\python38\\lib\\site-packages\\openapi_genclient\\api\\market_api.py\u001b[0m in \u001b[0;36mmarket_search_by_figi_get_with_http_info\u001b[1;34m(self, figi, **kwargs)\u001b[0m\n\u001b[0;32m    666\u001b[0m         \u001b[0mauth_settings\u001b[0m \u001b[1;33m=\u001b[0m \u001b[1;33m[\u001b[0m\u001b[1;34m'sso_auth'\u001b[0m\u001b[1;33m]\u001b[0m  \u001b[1;31m# noqa: E501\u001b[0m\u001b[1;33m\u001b[0m\u001b[1;33m\u001b[0m\u001b[0m\n\u001b[0;32m    667\u001b[0m \u001b[1;33m\u001b[0m\u001b[0m\n\u001b[1;32m--> 668\u001b[1;33m         return self.api_client.call_api(\n\u001b[0m\u001b[0;32m    669\u001b[0m             \u001b[1;34m'/market/search/by-figi'\u001b[0m\u001b[1;33m,\u001b[0m \u001b[1;34m'GET'\u001b[0m\u001b[1;33m,\u001b[0m\u001b[1;33m\u001b[0m\u001b[1;33m\u001b[0m\u001b[0m\n\u001b[0;32m    670\u001b[0m             \u001b[0mpath_params\u001b[0m\u001b[1;33m,\u001b[0m\u001b[1;33m\u001b[0m\u001b[1;33m\u001b[0m\u001b[0m\n",
      "\u001b[1;32mc:\\users\\igor.i.plotnikov\\appdata\\local\\programs\\python\\python38\\lib\\site-packages\\openapi_genclient\\api_client.py\u001b[0m in \u001b[0;36mcall_api\u001b[1;34m(self, resource_path, method, path_params, query_params, header_params, body, post_params, files, response_type, auth_settings, async_req, _return_http_data_only, collection_formats, _preload_content, _request_timeout, _host)\u001b[0m\n\u001b[0;32m    337\u001b[0m         \"\"\"\n\u001b[0;32m    338\u001b[0m         \u001b[1;32mif\u001b[0m \u001b[1;32mnot\u001b[0m \u001b[0masync_req\u001b[0m\u001b[1;33m:\u001b[0m\u001b[1;33m\u001b[0m\u001b[1;33m\u001b[0m\u001b[0m\n\u001b[1;32m--> 339\u001b[1;33m             return self.__call_api(resource_path, method,\n\u001b[0m\u001b[0;32m    340\u001b[0m                                    \u001b[0mpath_params\u001b[0m\u001b[1;33m,\u001b[0m \u001b[0mquery_params\u001b[0m\u001b[1;33m,\u001b[0m \u001b[0mheader_params\u001b[0m\u001b[1;33m,\u001b[0m\u001b[1;33m\u001b[0m\u001b[1;33m\u001b[0m\u001b[0m\n\u001b[0;32m    341\u001b[0m                                    \u001b[0mbody\u001b[0m\u001b[1;33m,\u001b[0m \u001b[0mpost_params\u001b[0m\u001b[1;33m,\u001b[0m \u001b[0mfiles\u001b[0m\u001b[1;33m,\u001b[0m\u001b[1;33m\u001b[0m\u001b[1;33m\u001b[0m\u001b[0m\n",
      "\u001b[1;32mc:\\users\\igor.i.plotnikov\\appdata\\local\\programs\\python\\python38\\lib\\site-packages\\openapi_genclient\\api_client.py\u001b[0m in \u001b[0;36m__call_api\u001b[1;34m(self, resource_path, method, path_params, query_params, header_params, body, post_params, files, response_type, auth_settings, _return_http_data_only, collection_formats, _preload_content, _request_timeout, _host)\u001b[0m\n\u001b[0;32m    169\u001b[0m \u001b[1;33m\u001b[0m\u001b[0m\n\u001b[0;32m    170\u001b[0m         \u001b[1;31m# perform request and return response\u001b[0m\u001b[1;33m\u001b[0m\u001b[1;33m\u001b[0m\u001b[1;33m\u001b[0m\u001b[0m\n\u001b[1;32m--> 171\u001b[1;33m         response_data = self.request(\n\u001b[0m\u001b[0;32m    172\u001b[0m             \u001b[0mmethod\u001b[0m\u001b[1;33m,\u001b[0m \u001b[0murl\u001b[0m\u001b[1;33m,\u001b[0m \u001b[0mquery_params\u001b[0m\u001b[1;33m=\u001b[0m\u001b[0mquery_params\u001b[0m\u001b[1;33m,\u001b[0m \u001b[0mheaders\u001b[0m\u001b[1;33m=\u001b[0m\u001b[0mheader_params\u001b[0m\u001b[1;33m,\u001b[0m\u001b[1;33m\u001b[0m\u001b[1;33m\u001b[0m\u001b[0m\n\u001b[0;32m    173\u001b[0m             \u001b[0mpost_params\u001b[0m\u001b[1;33m=\u001b[0m\u001b[0mpost_params\u001b[0m\u001b[1;33m,\u001b[0m \u001b[0mbody\u001b[0m\u001b[1;33m=\u001b[0m\u001b[0mbody\u001b[0m\u001b[1;33m,\u001b[0m\u001b[1;33m\u001b[0m\u001b[1;33m\u001b[0m\u001b[0m\n",
      "\u001b[1;32mc:\\users\\igor.i.plotnikov\\appdata\\local\\programs\\python\\python38\\lib\\site-packages\\openapi_genclient\\api_client.py\u001b[0m in \u001b[0;36mrequest\u001b[1;34m(self, method, url, query_params, headers, post_params, body, _preload_content, _request_timeout)\u001b[0m\n\u001b[0;32m    362\u001b[0m         \u001b[1;34m\"\"\"Makes the HTTP request using RESTClient.\"\"\"\u001b[0m\u001b[1;33m\u001b[0m\u001b[1;33m\u001b[0m\u001b[0m\n\u001b[0;32m    363\u001b[0m         \u001b[1;32mif\u001b[0m \u001b[0mmethod\u001b[0m \u001b[1;33m==\u001b[0m \u001b[1;34m\"GET\"\u001b[0m\u001b[1;33m:\u001b[0m\u001b[1;33m\u001b[0m\u001b[1;33m\u001b[0m\u001b[0m\n\u001b[1;32m--> 364\u001b[1;33m             return self.rest_client.GET(url,\n\u001b[0m\u001b[0;32m    365\u001b[0m                                         \u001b[0mquery_params\u001b[0m\u001b[1;33m=\u001b[0m\u001b[0mquery_params\u001b[0m\u001b[1;33m,\u001b[0m\u001b[1;33m\u001b[0m\u001b[1;33m\u001b[0m\u001b[0m\n\u001b[0;32m    366\u001b[0m                                         \u001b[0m_preload_content\u001b[0m\u001b[1;33m=\u001b[0m\u001b[0m_preload_content\u001b[0m\u001b[1;33m,\u001b[0m\u001b[1;33m\u001b[0m\u001b[1;33m\u001b[0m\u001b[0m\n",
      "\u001b[1;32mc:\\users\\igor.i.plotnikov\\appdata\\local\\programs\\python\\python38\\lib\\site-packages\\openapi_genclient\\rest.py\u001b[0m in \u001b[0;36mGET\u001b[1;34m(self, url, headers, query_params, _preload_content, _request_timeout)\u001b[0m\n\u001b[0;32m    234\u001b[0m     def GET(self, url, headers=None, query_params=None, _preload_content=True,\n\u001b[0;32m    235\u001b[0m             _request_timeout=None):\n\u001b[1;32m--> 236\u001b[1;33m         return self.request(\"GET\", url,\n\u001b[0m\u001b[0;32m    237\u001b[0m                             \u001b[0mheaders\u001b[0m\u001b[1;33m=\u001b[0m\u001b[0mheaders\u001b[0m\u001b[1;33m,\u001b[0m\u001b[1;33m\u001b[0m\u001b[1;33m\u001b[0m\u001b[0m\n\u001b[0;32m    238\u001b[0m                             \u001b[0m_preload_content\u001b[0m\u001b[1;33m=\u001b[0m\u001b[0m_preload_content\u001b[0m\u001b[1;33m,\u001b[0m\u001b[1;33m\u001b[0m\u001b[1;33m\u001b[0m\u001b[0m\n",
      "\u001b[1;32mc:\\users\\igor.i.plotnikov\\appdata\\local\\programs\\python\\python38\\lib\\site-packages\\openapi_genclient\\rest.py\u001b[0m in \u001b[0;36mrequest\u001b[1;34m(self, method, url, query_params, headers, body, post_params, _preload_content, _request_timeout)\u001b[0m\n\u001b[0;32m    207\u001b[0m             \u001b[1;31m# For `GET`, `HEAD`\u001b[0m\u001b[1;33m\u001b[0m\u001b[1;33m\u001b[0m\u001b[1;33m\u001b[0m\u001b[0m\n\u001b[0;32m    208\u001b[0m             \u001b[1;32melse\u001b[0m\u001b[1;33m:\u001b[0m\u001b[1;33m\u001b[0m\u001b[1;33m\u001b[0m\u001b[0m\n\u001b[1;32m--> 209\u001b[1;33m                 r = self.pool_manager.request(method, url,\n\u001b[0m\u001b[0;32m    210\u001b[0m                                               \u001b[0mfields\u001b[0m\u001b[1;33m=\u001b[0m\u001b[0mquery_params\u001b[0m\u001b[1;33m,\u001b[0m\u001b[1;33m\u001b[0m\u001b[1;33m\u001b[0m\u001b[0m\n\u001b[0;32m    211\u001b[0m                                               \u001b[0mpreload_content\u001b[0m\u001b[1;33m=\u001b[0m\u001b[0m_preload_content\u001b[0m\u001b[1;33m,\u001b[0m\u001b[1;33m\u001b[0m\u001b[1;33m\u001b[0m\u001b[0m\n",
      "\u001b[1;32mc:\\users\\igor.i.plotnikov\\appdata\\local\\programs\\python\\python38\\lib\\site-packages\\urllib3\\request.py\u001b[0m in \u001b[0;36mrequest\u001b[1;34m(self, method, url, fields, headers, **urlopen_kw)\u001b[0m\n\u001b[0;32m     73\u001b[0m \u001b[1;33m\u001b[0m\u001b[0m\n\u001b[0;32m     74\u001b[0m         \u001b[1;32mif\u001b[0m \u001b[0mmethod\u001b[0m \u001b[1;32min\u001b[0m \u001b[0mself\u001b[0m\u001b[1;33m.\u001b[0m\u001b[0m_encode_url_methods\u001b[0m\u001b[1;33m:\u001b[0m\u001b[1;33m\u001b[0m\u001b[1;33m\u001b[0m\u001b[0m\n\u001b[1;32m---> 75\u001b[1;33m             return self.request_encode_url(\n\u001b[0m\u001b[0;32m     76\u001b[0m                 \u001b[0mmethod\u001b[0m\u001b[1;33m,\u001b[0m \u001b[0murl\u001b[0m\u001b[1;33m,\u001b[0m \u001b[0mfields\u001b[0m\u001b[1;33m=\u001b[0m\u001b[0mfields\u001b[0m\u001b[1;33m,\u001b[0m \u001b[0mheaders\u001b[0m\u001b[1;33m=\u001b[0m\u001b[0mheaders\u001b[0m\u001b[1;33m,\u001b[0m \u001b[1;33m**\u001b[0m\u001b[0murlopen_kw\u001b[0m\u001b[1;33m\u001b[0m\u001b[1;33m\u001b[0m\u001b[0m\n\u001b[0;32m     77\u001b[0m             )\n",
      "\u001b[1;32mc:\\users\\igor.i.plotnikov\\appdata\\local\\programs\\python\\python38\\lib\\site-packages\\urllib3\\request.py\u001b[0m in \u001b[0;36mrequest_encode_url\u001b[1;34m(self, method, url, fields, headers, **urlopen_kw)\u001b[0m\n\u001b[0;32m     95\u001b[0m             \u001b[0murl\u001b[0m \u001b[1;33m+=\u001b[0m \u001b[1;34m\"?\"\u001b[0m \u001b[1;33m+\u001b[0m \u001b[0murlencode\u001b[0m\u001b[1;33m(\u001b[0m\u001b[0mfields\u001b[0m\u001b[1;33m)\u001b[0m\u001b[1;33m\u001b[0m\u001b[1;33m\u001b[0m\u001b[0m\n\u001b[0;32m     96\u001b[0m \u001b[1;33m\u001b[0m\u001b[0m\n\u001b[1;32m---> 97\u001b[1;33m         \u001b[1;32mreturn\u001b[0m \u001b[0mself\u001b[0m\u001b[1;33m.\u001b[0m\u001b[0murlopen\u001b[0m\u001b[1;33m(\u001b[0m\u001b[0mmethod\u001b[0m\u001b[1;33m,\u001b[0m \u001b[0murl\u001b[0m\u001b[1;33m,\u001b[0m \u001b[1;33m**\u001b[0m\u001b[0mextra_kw\u001b[0m\u001b[1;33m)\u001b[0m\u001b[1;33m\u001b[0m\u001b[1;33m\u001b[0m\u001b[0m\n\u001b[0m\u001b[0;32m     98\u001b[0m \u001b[1;33m\u001b[0m\u001b[0m\n\u001b[0;32m     99\u001b[0m     def request_encode_body(\n",
      "\u001b[1;32mc:\\users\\igor.i.plotnikov\\appdata\\local\\programs\\python\\python38\\lib\\site-packages\\urllib3\\poolmanager.py\u001b[0m in \u001b[0;36murlopen\u001b[1;34m(self, method, url, redirect, **kw)\u001b[0m\n\u001b[0;32m    334\u001b[0m             \u001b[0mresponse\u001b[0m \u001b[1;33m=\u001b[0m \u001b[0mconn\u001b[0m\u001b[1;33m.\u001b[0m\u001b[0murlopen\u001b[0m\u001b[1;33m(\u001b[0m\u001b[0mmethod\u001b[0m\u001b[1;33m,\u001b[0m \u001b[0murl\u001b[0m\u001b[1;33m,\u001b[0m \u001b[1;33m**\u001b[0m\u001b[0mkw\u001b[0m\u001b[1;33m)\u001b[0m\u001b[1;33m\u001b[0m\u001b[1;33m\u001b[0m\u001b[0m\n\u001b[0;32m    335\u001b[0m         \u001b[1;32melse\u001b[0m\u001b[1;33m:\u001b[0m\u001b[1;33m\u001b[0m\u001b[1;33m\u001b[0m\u001b[0m\n\u001b[1;32m--> 336\u001b[1;33m             \u001b[0mresponse\u001b[0m \u001b[1;33m=\u001b[0m \u001b[0mconn\u001b[0m\u001b[1;33m.\u001b[0m\u001b[0murlopen\u001b[0m\u001b[1;33m(\u001b[0m\u001b[0mmethod\u001b[0m\u001b[1;33m,\u001b[0m \u001b[0mu\u001b[0m\u001b[1;33m.\u001b[0m\u001b[0mrequest_uri\u001b[0m\u001b[1;33m,\u001b[0m \u001b[1;33m**\u001b[0m\u001b[0mkw\u001b[0m\u001b[1;33m)\u001b[0m\u001b[1;33m\u001b[0m\u001b[1;33m\u001b[0m\u001b[0m\n\u001b[0m\u001b[0;32m    337\u001b[0m \u001b[1;33m\u001b[0m\u001b[0m\n\u001b[0;32m    338\u001b[0m         \u001b[0mredirect_location\u001b[0m \u001b[1;33m=\u001b[0m \u001b[0mredirect\u001b[0m \u001b[1;32mand\u001b[0m \u001b[0mresponse\u001b[0m\u001b[1;33m.\u001b[0m\u001b[0mget_redirect_location\u001b[0m\u001b[1;33m(\u001b[0m\u001b[1;33m)\u001b[0m\u001b[1;33m\u001b[0m\u001b[1;33m\u001b[0m\u001b[0m\n",
      "\u001b[1;32mc:\\users\\igor.i.plotnikov\\appdata\\local\\programs\\python\\python38\\lib\\site-packages\\urllib3\\connectionpool.py\u001b[0m in \u001b[0;36murlopen\u001b[1;34m(self, method, url, body, headers, retries, redirect, assert_same_host, timeout, pool_timeout, release_conn, chunked, body_pos, **response_kw)\u001b[0m\n\u001b[0;32m    750\u001b[0m                 \u001b[1;34m\"Retrying (%r) after connection broken by '%r': %s\"\u001b[0m\u001b[1;33m,\u001b[0m \u001b[0mretries\u001b[0m\u001b[1;33m,\u001b[0m \u001b[0merr\u001b[0m\u001b[1;33m,\u001b[0m \u001b[0murl\u001b[0m\u001b[1;33m\u001b[0m\u001b[1;33m\u001b[0m\u001b[0m\n\u001b[0;32m    751\u001b[0m             )\n\u001b[1;32m--> 752\u001b[1;33m             return self.urlopen(\n\u001b[0m\u001b[0;32m    753\u001b[0m                 \u001b[0mmethod\u001b[0m\u001b[1;33m,\u001b[0m\u001b[1;33m\u001b[0m\u001b[1;33m\u001b[0m\u001b[0m\n\u001b[0;32m    754\u001b[0m                 \u001b[0murl\u001b[0m\u001b[1;33m,\u001b[0m\u001b[1;33m\u001b[0m\u001b[1;33m\u001b[0m\u001b[0m\n",
      "\u001b[1;32mc:\\users\\igor.i.plotnikov\\appdata\\local\\programs\\python\\python38\\lib\\site-packages\\urllib3\\connectionpool.py\u001b[0m in \u001b[0;36murlopen\u001b[1;34m(self, method, url, body, headers, retries, redirect, assert_same_host, timeout, pool_timeout, release_conn, chunked, body_pos, **response_kw)\u001b[0m\n\u001b[0;32m    750\u001b[0m                 \u001b[1;34m\"Retrying (%r) after connection broken by '%r': %s\"\u001b[0m\u001b[1;33m,\u001b[0m \u001b[0mretries\u001b[0m\u001b[1;33m,\u001b[0m \u001b[0merr\u001b[0m\u001b[1;33m,\u001b[0m \u001b[0murl\u001b[0m\u001b[1;33m\u001b[0m\u001b[1;33m\u001b[0m\u001b[0m\n\u001b[0;32m    751\u001b[0m             )\n\u001b[1;32m--> 752\u001b[1;33m             return self.urlopen(\n\u001b[0m\u001b[0;32m    753\u001b[0m                 \u001b[0mmethod\u001b[0m\u001b[1;33m,\u001b[0m\u001b[1;33m\u001b[0m\u001b[1;33m\u001b[0m\u001b[0m\n\u001b[0;32m    754\u001b[0m                 \u001b[0murl\u001b[0m\u001b[1;33m,\u001b[0m\u001b[1;33m\u001b[0m\u001b[1;33m\u001b[0m\u001b[0m\n",
      "\u001b[1;32mc:\\users\\igor.i.plotnikov\\appdata\\local\\programs\\python\\python38\\lib\\site-packages\\urllib3\\connectionpool.py\u001b[0m in \u001b[0;36murlopen\u001b[1;34m(self, method, url, body, headers, retries, redirect, assert_same_host, timeout, pool_timeout, release_conn, chunked, body_pos, **response_kw)\u001b[0m\n\u001b[0;32m    750\u001b[0m                 \u001b[1;34m\"Retrying (%r) after connection broken by '%r': %s\"\u001b[0m\u001b[1;33m,\u001b[0m \u001b[0mretries\u001b[0m\u001b[1;33m,\u001b[0m \u001b[0merr\u001b[0m\u001b[1;33m,\u001b[0m \u001b[0murl\u001b[0m\u001b[1;33m\u001b[0m\u001b[1;33m\u001b[0m\u001b[0m\n\u001b[0;32m    751\u001b[0m             )\n\u001b[1;32m--> 752\u001b[1;33m             return self.urlopen(\n\u001b[0m\u001b[0;32m    753\u001b[0m                 \u001b[0mmethod\u001b[0m\u001b[1;33m,\u001b[0m\u001b[1;33m\u001b[0m\u001b[1;33m\u001b[0m\u001b[0m\n\u001b[0;32m    754\u001b[0m                 \u001b[0murl\u001b[0m\u001b[1;33m,\u001b[0m\u001b[1;33m\u001b[0m\u001b[1;33m\u001b[0m\u001b[0m\n",
      "\u001b[1;32mc:\\users\\igor.i.plotnikov\\appdata\\local\\programs\\python\\python38\\lib\\site-packages\\urllib3\\connectionpool.py\u001b[0m in \u001b[0;36murlopen\u001b[1;34m(self, method, url, body, headers, retries, redirect, assert_same_host, timeout, pool_timeout, release_conn, chunked, body_pos, **response_kw)\u001b[0m\n\u001b[0;32m    722\u001b[0m                 \u001b[0me\u001b[0m \u001b[1;33m=\u001b[0m \u001b[0mProtocolError\u001b[0m\u001b[1;33m(\u001b[0m\u001b[1;34m\"Connection aborted.\"\u001b[0m\u001b[1;33m,\u001b[0m \u001b[0me\u001b[0m\u001b[1;33m)\u001b[0m\u001b[1;33m\u001b[0m\u001b[1;33m\u001b[0m\u001b[0m\n\u001b[0;32m    723\u001b[0m \u001b[1;33m\u001b[0m\u001b[0m\n\u001b[1;32m--> 724\u001b[1;33m             retries = retries.increment(\n\u001b[0m\u001b[0;32m    725\u001b[0m                 \u001b[0mmethod\u001b[0m\u001b[1;33m,\u001b[0m \u001b[0murl\u001b[0m\u001b[1;33m,\u001b[0m \u001b[0merror\u001b[0m\u001b[1;33m=\u001b[0m\u001b[0me\u001b[0m\u001b[1;33m,\u001b[0m \u001b[0m_pool\u001b[0m\u001b[1;33m=\u001b[0m\u001b[0mself\u001b[0m\u001b[1;33m,\u001b[0m \u001b[0m_stacktrace\u001b[0m\u001b[1;33m=\u001b[0m\u001b[0msys\u001b[0m\u001b[1;33m.\u001b[0m\u001b[0mexc_info\u001b[0m\u001b[1;33m(\u001b[0m\u001b[1;33m)\u001b[0m\u001b[1;33m[\u001b[0m\u001b[1;36m2\u001b[0m\u001b[1;33m]\u001b[0m\u001b[1;33m\u001b[0m\u001b[1;33m\u001b[0m\u001b[0m\n\u001b[0;32m    726\u001b[0m             )\n",
      "\u001b[1;32mc:\\users\\igor.i.plotnikov\\appdata\\local\\programs\\python\\python38\\lib\\site-packages\\urllib3\\util\\retry.py\u001b[0m in \u001b[0;36mincrement\u001b[1;34m(self, method, url, response, error, _pool, _stacktrace)\u001b[0m\n\u001b[0;32m    437\u001b[0m \u001b[1;33m\u001b[0m\u001b[0m\n\u001b[0;32m    438\u001b[0m         \u001b[1;32mif\u001b[0m \u001b[0mnew_retry\u001b[0m\u001b[1;33m.\u001b[0m\u001b[0mis_exhausted\u001b[0m\u001b[1;33m(\u001b[0m\u001b[1;33m)\u001b[0m\u001b[1;33m:\u001b[0m\u001b[1;33m\u001b[0m\u001b[1;33m\u001b[0m\u001b[0m\n\u001b[1;32m--> 439\u001b[1;33m             \u001b[1;32mraise\u001b[0m \u001b[0mMaxRetryError\u001b[0m\u001b[1;33m(\u001b[0m\u001b[0m_pool\u001b[0m\u001b[1;33m,\u001b[0m \u001b[0murl\u001b[0m\u001b[1;33m,\u001b[0m \u001b[0merror\u001b[0m \u001b[1;32mor\u001b[0m \u001b[0mResponseError\u001b[0m\u001b[1;33m(\u001b[0m\u001b[0mcause\u001b[0m\u001b[1;33m)\u001b[0m\u001b[1;33m)\u001b[0m\u001b[1;33m\u001b[0m\u001b[1;33m\u001b[0m\u001b[0m\n\u001b[0m\u001b[0;32m    440\u001b[0m \u001b[1;33m\u001b[0m\u001b[0m\n\u001b[0;32m    441\u001b[0m         \u001b[0mlog\u001b[0m\u001b[1;33m.\u001b[0m\u001b[0mdebug\u001b[0m\u001b[1;33m(\u001b[0m\u001b[1;34m\"Incremented Retry for (url='%s'): %r\"\u001b[0m\u001b[1;33m,\u001b[0m \u001b[0murl\u001b[0m\u001b[1;33m,\u001b[0m \u001b[0mnew_retry\u001b[0m\u001b[1;33m)\u001b[0m\u001b[1;33m\u001b[0m\u001b[1;33m\u001b[0m\u001b[0m\n",
      "\u001b[1;31mMaxRetryError\u001b[0m: HTTPSConnectionPool(host='api-invest.tinkoff.ru', port=443): Max retries exceeded with url: /openapi//market/search/by-figi?figi=BBG0013HGFT4 (Caused by NewConnectionError('<urllib3.connection.HTTPSConnection object at 0x000001EF7B827BB0>: Failed to establish a new connection: [WinError 10060] Попытка установить соединение была безуспешной, т.к. от другого компьютера за требуемое время не получен нужный отклик, или было разорвано уже установленное соединение из-за неверного отклика уже подключенного компьютера'))"
     ]
    }
   ],
   "source": [
    "client.market.market_search_by_figi_get('BBG0013HGFT4')"
   ]
  },
  {
   "cell_type": "markdown",
   "metadata": {},
   "source": [
    "# Атрибуты для каждой позиции в портфеле"
   ]
  },
  {
   "cell_type": "code",
   "execution_count": 27,
   "metadata": {
    "scrolled": true
   },
   "outputs": [
    {
     "name": "stdout",
     "output_type": "stream",
     "text": [
      "figi: BBG0013HGFT4\n",
      "ticker: USD000UTSTOM\n",
      "isin: None\n",
      "instrument_type: Currency\n",
      "balance: 71.29\n",
      "blocked: None\n",
      "expected_yield: {'currency': 'RUB', 'value': -202.82}\n",
      "lots: 0\n",
      "average_position_price: {'currency': 'RUB', 'value': 76.01}\n",
      "average_position_price_no_nkd: None\n",
      "name: Доллар США\n"
     ]
    }
   ],
   "source": [
    "for pos in pf.payload.positions:\n",
    "    if pos.name == 'Доллар США': \n",
    "        for attr in pos.attribute_map:\n",
    "            print(f'{attr}:', getattr(pos, attr))\n",
    "        break"
   ]
  },
  {
   "cell_type": "markdown",
   "metadata": {},
   "source": [
    "#### Получить подневную историю инструмента по тикеру"
   ]
  },
  {
   "cell_type": "code",
   "execution_count": 16,
   "metadata": {},
   "outputs": [
    {
     "data": {
      "text/plain": [
       "{'payload': {'candles': [{'c': 3912.0,\n",
       "                          'figi': 'BBG005VKB7D7',\n",
       "                          'h': 3935.5,\n",
       "                          'interval': 'day',\n",
       "                          'l': 3904.0,\n",
       "                          'o': 3930.0,\n",
       "                          'time': datetime.datetime(2020, 12, 8, 7, 0, tzinfo=tzutc()),\n",
       "                          'v': 7719}],\n",
       "             'figi': 'BBG005VKB7D7',\n",
       "             'interval': 'day'},\n",
       " 'status': 'Ok',\n",
       " 'tracking_id': '5162f18f62a21beb'}"
      ]
     },
     "execution_count": 16,
     "metadata": {},
     "output_type": "execute_result"
    }
   ],
   "source": [
    "client.market.market_candles_get(\n",
    "        'BBG005VKB7D7', \n",
    "        datetime.now(tz=timezone('Europe/Moscow')) - timedelta(days=1), \n",
    "        datetime.now(tz=timezone('Europe/Moscow')), \n",
    "        'day')"
   ]
  },
  {
   "cell_type": "markdown",
   "metadata": {},
   "source": [
    "#### Получить подневную историю инструмента по тикеру (датафрейм)"
   ]
  },
  {
   "cell_type": "code",
   "execution_count": 12,
   "metadata": {},
   "outputs": [
    {
     "data": {
      "text/html": [
       "<div>\n",
       "<style scoped>\n",
       "    .dataframe tbody tr th:only-of-type {\n",
       "        vertical-align: middle;\n",
       "    }\n",
       "\n",
       "    .dataframe tbody tr th {\n",
       "        vertical-align: top;\n",
       "    }\n",
       "\n",
       "    .dataframe thead th {\n",
       "        text-align: right;\n",
       "    }\n",
       "</style>\n",
       "<table border=\"1\" class=\"dataframe\">\n",
       "  <thead>\n",
       "    <tr style=\"text-align: right;\">\n",
       "      <th></th>\n",
       "      <th>date</th>\n",
       "      <th>ticker</th>\n",
       "      <th>open</th>\n",
       "      <th>highest</th>\n",
       "      <th>lowest</th>\n",
       "      <th>close</th>\n",
       "      <th>volume</th>\n",
       "    </tr>\n",
       "  </thead>\n",
       "  <tbody>\n",
       "    <tr>\n",
       "      <th>0</th>\n",
       "      <td>2020-12-01 07:00:00+00:00</td>\n",
       "      <td>FXCN</td>\n",
       "      <td>4136.0</td>\n",
       "      <td>4149.0</td>\n",
       "      <td>4060.5</td>\n",
       "      <td>4068.0</td>\n",
       "      <td>34983</td>\n",
       "    </tr>\n",
       "    <tr>\n",
       "      <th>1</th>\n",
       "      <td>2020-12-02 07:00:00+00:00</td>\n",
       "      <td>FXCN</td>\n",
       "      <td>4100.0</td>\n",
       "      <td>4106.5</td>\n",
       "      <td>3988.0</td>\n",
       "      <td>4002.5</td>\n",
       "      <td>40515</td>\n",
       "    </tr>\n",
       "    <tr>\n",
       "      <th>2</th>\n",
       "      <td>2020-12-03 07:00:00+00:00</td>\n",
       "      <td>FXCN</td>\n",
       "      <td>4030.0</td>\n",
       "      <td>4049.0</td>\n",
       "      <td>3990.0</td>\n",
       "      <td>4011.5</td>\n",
       "      <td>22660</td>\n",
       "    </tr>\n",
       "    <tr>\n",
       "      <th>3</th>\n",
       "      <td>2020-12-04 07:00:00+00:00</td>\n",
       "      <td>FXCN</td>\n",
       "      <td>4012.0</td>\n",
       "      <td>4047.5</td>\n",
       "      <td>3942.0</td>\n",
       "      <td>3990.0</td>\n",
       "      <td>25765</td>\n",
       "    </tr>\n",
       "  </tbody>\n",
       "</table>\n",
       "</div>"
      ],
      "text/plain": [
       "                        date ticker    open  highest  lowest   close volume\n",
       "0  2020-12-01 07:00:00+00:00   FXCN  4136.0   4149.0  4060.5  4068.0  34983\n",
       "1  2020-12-02 07:00:00+00:00   FXCN  4100.0   4106.5  3988.0  4002.5  40515\n",
       "2  2020-12-03 07:00:00+00:00   FXCN  4030.0   4049.0  3990.0  4011.5  22660\n",
       "3  2020-12-04 07:00:00+00:00   FXCN  4012.0   4047.5  3942.0  3990.0  25765"
      ]
     },
     "execution_count": 12,
     "metadata": {},
     "output_type": "execute_result"
    }
   ],
   "source": [
    "def get_daily_history(ticker: str, date_from: str, date_to: str, interval_in='day') -> pd.DataFrame:\n",
    "    my_columns = ['date','ticker','open','highest','lowest','close','volume']\n",
    "    df = pd.DataFrame(columns = my_columns)\n",
    "\n",
    "    dt_from = datetime.strptime(date_from, '%Y-%m-%d')\n",
    "    dt_from_with_tz = dt_from.replace(tzinfo=timezone('Europe/Moscow'))\n",
    "\n",
    "    dt_to = datetime.strptime(date_to, '%Y-%m-%d')\n",
    "    dt_to_with_tz = dt_to.replace(tzinfo=timezone('Europe/Moscow'))\n",
    "\n",
    "    figi = get_figi_by_ticker(ticker)\n",
    "    hisory = client.market.market_candles_get(figi, dt_from_with_tz, dt_to_with_tz, interval_in)\n",
    "    \n",
    "    for candle in hisory.payload.candles:\n",
    "        df = df.append(\n",
    "            pd.Series(\n",
    "                [\n",
    "                    candle.time,\n",
    "                    ticker,\n",
    "                    candle.o,\n",
    "                    candle.h,\n",
    "                    candle.l,\n",
    "                    candle.c,\n",
    "                    candle.v\n",
    "                   \n",
    "                ],\n",
    "            index = my_columns),\n",
    "        ignore_index = True\n",
    "        )\n",
    "    return df\n",
    "get_daily_history('FXCN', '2020-12-01', '2020-12-07')"
   ]
  },
  {
   "cell_type": "markdown",
   "metadata": {},
   "source": [
    "#### Получить портфель по тикерам (датафрейм)"
   ]
  },
  {
   "cell_type": "code",
   "execution_count": 19,
   "metadata": {},
   "outputs": [
    {
     "data": {
      "text/html": [
       "<div>\n",
       "<style scoped>\n",
       "    .dataframe tbody tr th:only-of-type {\n",
       "        vertical-align: middle;\n",
       "    }\n",
       "\n",
       "    .dataframe tbody tr th {\n",
       "        vertical-align: top;\n",
       "    }\n",
       "\n",
       "    .dataframe thead th {\n",
       "        text-align: right;\n",
       "    }\n",
       "</style>\n",
       "<table border=\"1\" class=\"dataframe\">\n",
       "  <thead>\n",
       "    <tr style=\"text-align: right;\">\n",
       "      <th></th>\n",
       "      <th>date</th>\n",
       "      <th>ticker</th>\n",
       "      <th>open</th>\n",
       "      <th>highest</th>\n",
       "      <th>lowest</th>\n",
       "      <th>close</th>\n",
       "      <th>volume</th>\n",
       "      <th>currency</th>\n",
       "      <th>name</th>\n",
       "      <th>lots</th>\n",
       "      <th>cur_value</th>\n",
       "      <th>rub_value</th>\n",
       "    </tr>\n",
       "  </thead>\n",
       "  <tbody>\n",
       "    <tr>\n",
       "      <th>0</th>\n",
       "      <td>2020-12-07 07:00:00+00:00</td>\n",
       "      <td>NFLX</td>\n",
       "      <td>499.96</td>\n",
       "      <td>517.71</td>\n",
       "      <td>496.57</td>\n",
       "      <td>515.78</td>\n",
       "      <td>1175365</td>\n",
       "      <td>USD</td>\n",
       "      <td>Netflix</td>\n",
       "      <td>2</td>\n",
       "      <td>1031.56</td>\n",
       "      <td>78398.56</td>\n",
       "    </tr>\n",
       "    <tr>\n",
       "      <th>0</th>\n",
       "      <td>2020-12-07 07:00:00+00:00</td>\n",
       "      <td>TXN</td>\n",
       "      <td>165.81</td>\n",
       "      <td>167.91</td>\n",
       "      <td>165.48</td>\n",
       "      <td>166.29</td>\n",
       "      <td>2024111</td>\n",
       "      <td>USD</td>\n",
       "      <td>Texas Instruments</td>\n",
       "      <td>4</td>\n",
       "      <td>665.16</td>\n",
       "      <td>50552.16</td>\n",
       "    </tr>\n",
       "    <tr>\n",
       "      <th>0</th>\n",
       "      <td>2020-12-07 07:00:00+00:00</td>\n",
       "      <td>BIDU</td>\n",
       "      <td>145.00</td>\n",
       "      <td>145.14</td>\n",
       "      <td>141.50</td>\n",
       "      <td>144.30</td>\n",
       "      <td>690969</td>\n",
       "      <td>USD</td>\n",
       "      <td>Baidu</td>\n",
       "      <td>3</td>\n",
       "      <td>432.90</td>\n",
       "      <td>32900.40</td>\n",
       "    </tr>\n",
       "    <tr>\n",
       "      <th>0</th>\n",
       "      <td>2020-12-07 07:00:00+00:00</td>\n",
       "      <td>DHI</td>\n",
       "      <td>71.55</td>\n",
       "      <td>73.99</td>\n",
       "      <td>70.65</td>\n",
       "      <td>73.80</td>\n",
       "      <td>431798</td>\n",
       "      <td>USD</td>\n",
       "      <td>D.R. Horton</td>\n",
       "      <td>6</td>\n",
       "      <td>442.80</td>\n",
       "      <td>33652.80</td>\n",
       "    </tr>\n",
       "    <tr>\n",
       "      <th>0</th>\n",
       "      <td>2020-12-07 07:00:00+00:00</td>\n",
       "      <td>DIS</td>\n",
       "      <td>153.27</td>\n",
       "      <td>155.23</td>\n",
       "      <td>152.29</td>\n",
       "      <td>153.68</td>\n",
       "      <td>723313</td>\n",
       "      <td>USD</td>\n",
       "      <td>Walt Disney</td>\n",
       "      <td>7</td>\n",
       "      <td>1075.76</td>\n",
       "      <td>81757.76</td>\n",
       "    </tr>\n",
       "  </tbody>\n",
       "</table>\n",
       "</div>"
      ],
      "text/plain": [
       "                        date ticker    open  highest  lowest   close   volume  \\\n",
       "0  2020-12-07 07:00:00+00:00   NFLX  499.96   517.71  496.57  515.78  1175365   \n",
       "0  2020-12-07 07:00:00+00:00    TXN  165.81   167.91  165.48  166.29  2024111   \n",
       "0  2020-12-07 07:00:00+00:00   BIDU  145.00   145.14  141.50  144.30   690969   \n",
       "0  2020-12-07 07:00:00+00:00    DHI   71.55    73.99   70.65   73.80   431798   \n",
       "0  2020-12-07 07:00:00+00:00    DIS  153.27   155.23  152.29  153.68   723313   \n",
       "\n",
       "  currency               name  lots  cur_value  rub_value  \n",
       "0      USD            Netflix     2    1031.56   78398.56  \n",
       "0      USD  Texas Instruments     4     665.16   50552.16  \n",
       "0      USD              Baidu     3     432.90   32900.40  \n",
       "0      USD        D.R. Horton     6     442.80   33652.80  \n",
       "0      USD        Walt Disney     7    1075.76   81757.76  "
      ]
     },
     "execution_count": 19,
     "metadata": {},
     "output_type": "execute_result"
    }
   ],
   "source": [
    "current_date = datetime.now(tz=timezone('Europe/Moscow')) - timedelta(days=1)\n",
    "union_df = pd.DataFrame()\n",
    "for pos in pf.payload.positions:\n",
    "    df = get_daily_history(pos.ticker, '2020-12-07', '2020-12-08')\n",
    "    df['currency'] = pos.average_position_price.currency\n",
    "    df['name'] = pos.name\n",
    "    df['lots'] = pos.lots\n",
    "    df['cur_value'] = df['lots'] * df['close']\n",
    "    df['rub_value'] = df.apply(lambda row: row['cur_value'] * 76 if row['currency'] == 'USD' else row['cur_value'], axis=1)\n",
    "    union_df = pd.concat([union_df, df])\n",
    "union_df.head()"
   ]
  },
  {
   "cell_type": "code",
   "execution_count": 23,
   "metadata": {},
   "outputs": [
    {
     "data": {
      "text/html": [
       "<div>\n",
       "<style scoped>\n",
       "    .dataframe tbody tr th:only-of-type {\n",
       "        vertical-align: middle;\n",
       "    }\n",
       "\n",
       "    .dataframe tbody tr th {\n",
       "        vertical-align: top;\n",
       "    }\n",
       "\n",
       "    .dataframe thead th {\n",
       "        text-align: right;\n",
       "    }\n",
       "</style>\n",
       "<table border=\"1\" class=\"dataframe\">\n",
       "  <thead>\n",
       "    <tr style=\"text-align: right;\">\n",
       "      <th></th>\n",
       "      <th>date</th>\n",
       "      <th>ticker</th>\n",
       "      <th>open</th>\n",
       "      <th>highest</th>\n",
       "      <th>lowest</th>\n",
       "      <th>close</th>\n",
       "      <th>volume</th>\n",
       "      <th>currency</th>\n",
       "      <th>name</th>\n",
       "      <th>lots</th>\n",
       "      <th>cur_value</th>\n",
       "      <th>rub_value</th>\n",
       "    </tr>\n",
       "  </thead>\n",
       "  <tbody>\n",
       "    <tr>\n",
       "      <th>0</th>\n",
       "      <td>2020-12-07 07:00:00+00:00</td>\n",
       "      <td>USD000UTSTOM</td>\n",
       "      <td>74.2675</td>\n",
       "      <td>74.52</td>\n",
       "      <td>73.3</td>\n",
       "      <td>73.64</td>\n",
       "      <td>3863550</td>\n",
       "      <td>RUB</td>\n",
       "      <td>Доллар США</td>\n",
       "      <td>0</td>\n",
       "      <td>0.0</td>\n",
       "      <td>0.0</td>\n",
       "    </tr>\n",
       "  </tbody>\n",
       "</table>\n",
       "</div>"
      ],
      "text/plain": [
       "                        date        ticker     open  highest  lowest  close  \\\n",
       "0  2020-12-07 07:00:00+00:00  USD000UTSTOM  74.2675    74.52    73.3  73.64   \n",
       "\n",
       "    volume currency        name  lots  cur_value  rub_value  \n",
       "0  3863550      RUB  Доллар США     0        0.0        0.0  "
      ]
     },
     "execution_count": 23,
     "metadata": {},
     "output_type": "execute_result"
    }
   ],
   "source": [
    "union_df[union_df.name == 'Доллар США']"
   ]
  },
  {
   "cell_type": "code",
   "execution_count": 28,
   "metadata": {
    "scrolled": false
   },
   "outputs": [
    {
     "data": {
      "application/vnd.plotly.v1+json": {
       "config": {
        "plotlyServerURL": "https://plot.ly"
       },
       "data": [
        {
         "domain": {
          "x": [
           0,
           1
          ],
          "y": [
           0,
           1
          ]
         },
         "hovertemplate": "name=%{label}<br>rub_value=%{value}<extra></extra>",
         "labels": [
          "Netflix",
          "Texas Instruments",
          "Baidu",
          "D.R. Horton",
          "Walt Disney",
          "Salesforce",
          "Adobe",
          "IDEXX",
          "Motorola Solutions",
          "AMD",
          "Fate Therapeutics Inc",
          "AECOM",
          "Halozyme Therapeutics Inc",
          "NIKE",
          "JD.com",
          "Amazon.com",
          "Apple",
          "Aptiv",
          "Avery Dennison",
          "Facebook",
          "Rockwell Automation",
          "Bilibili Inc",
          "FinEx Акции китайских компаний",
          "FinEx Акции китайских компаний",
          "FinEx Акции компаний IT-сектора США",
          "FinEx Акции компаний IT-сектора США",
          "Доллар США"
         ],
         "legendgroup": "",
         "name": "",
         "showlegend": true,
         "type": "pie",
         "values": [
          78398.56,
          50552.159999999996,
          32900.4,
          33652.799999999996,
          81757.76,
          34610.4,
          37411,
          34911.36,
          64774.8,
          14298.64,
          31832.6,
          15537.44,
          21514.079999999998,
          42180,
          31726.2,
          240008,
          18810,
          37531.84,
          46870.72,
          21704.079999999998,
          37259.76,
          27569,
          255580,
          255450,
          401534,
          401018,
          0
         ]
        }
       ],
       "layout": {
        "legend": {
         "tracegroupgap": 0
        },
        "margin": {
         "t": 60
        },
        "template": {
         "data": {
          "bar": [
           {
            "error_x": {
             "color": "#2a3f5f"
            },
            "error_y": {
             "color": "#2a3f5f"
            },
            "marker": {
             "line": {
              "color": "#E5ECF6",
              "width": 0.5
             }
            },
            "type": "bar"
           }
          ],
          "barpolar": [
           {
            "marker": {
             "line": {
              "color": "#E5ECF6",
              "width": 0.5
             }
            },
            "type": "barpolar"
           }
          ],
          "carpet": [
           {
            "aaxis": {
             "endlinecolor": "#2a3f5f",
             "gridcolor": "white",
             "linecolor": "white",
             "minorgridcolor": "white",
             "startlinecolor": "#2a3f5f"
            },
            "baxis": {
             "endlinecolor": "#2a3f5f",
             "gridcolor": "white",
             "linecolor": "white",
             "minorgridcolor": "white",
             "startlinecolor": "#2a3f5f"
            },
            "type": "carpet"
           }
          ],
          "choropleth": [
           {
            "colorbar": {
             "outlinewidth": 0,
             "ticks": ""
            },
            "type": "choropleth"
           }
          ],
          "contour": [
           {
            "colorbar": {
             "outlinewidth": 0,
             "ticks": ""
            },
            "colorscale": [
             [
              0,
              "#0d0887"
             ],
             [
              0.1111111111111111,
              "#46039f"
             ],
             [
              0.2222222222222222,
              "#7201a8"
             ],
             [
              0.3333333333333333,
              "#9c179e"
             ],
             [
              0.4444444444444444,
              "#bd3786"
             ],
             [
              0.5555555555555556,
              "#d8576b"
             ],
             [
              0.6666666666666666,
              "#ed7953"
             ],
             [
              0.7777777777777778,
              "#fb9f3a"
             ],
             [
              0.8888888888888888,
              "#fdca26"
             ],
             [
              1,
              "#f0f921"
             ]
            ],
            "type": "contour"
           }
          ],
          "contourcarpet": [
           {
            "colorbar": {
             "outlinewidth": 0,
             "ticks": ""
            },
            "type": "contourcarpet"
           }
          ],
          "heatmap": [
           {
            "colorbar": {
             "outlinewidth": 0,
             "ticks": ""
            },
            "colorscale": [
             [
              0,
              "#0d0887"
             ],
             [
              0.1111111111111111,
              "#46039f"
             ],
             [
              0.2222222222222222,
              "#7201a8"
             ],
             [
              0.3333333333333333,
              "#9c179e"
             ],
             [
              0.4444444444444444,
              "#bd3786"
             ],
             [
              0.5555555555555556,
              "#d8576b"
             ],
             [
              0.6666666666666666,
              "#ed7953"
             ],
             [
              0.7777777777777778,
              "#fb9f3a"
             ],
             [
              0.8888888888888888,
              "#fdca26"
             ],
             [
              1,
              "#f0f921"
             ]
            ],
            "type": "heatmap"
           }
          ],
          "heatmapgl": [
           {
            "colorbar": {
             "outlinewidth": 0,
             "ticks": ""
            },
            "colorscale": [
             [
              0,
              "#0d0887"
             ],
             [
              0.1111111111111111,
              "#46039f"
             ],
             [
              0.2222222222222222,
              "#7201a8"
             ],
             [
              0.3333333333333333,
              "#9c179e"
             ],
             [
              0.4444444444444444,
              "#bd3786"
             ],
             [
              0.5555555555555556,
              "#d8576b"
             ],
             [
              0.6666666666666666,
              "#ed7953"
             ],
             [
              0.7777777777777778,
              "#fb9f3a"
             ],
             [
              0.8888888888888888,
              "#fdca26"
             ],
             [
              1,
              "#f0f921"
             ]
            ],
            "type": "heatmapgl"
           }
          ],
          "histogram": [
           {
            "marker": {
             "colorbar": {
              "outlinewidth": 0,
              "ticks": ""
             }
            },
            "type": "histogram"
           }
          ],
          "histogram2d": [
           {
            "colorbar": {
             "outlinewidth": 0,
             "ticks": ""
            },
            "colorscale": [
             [
              0,
              "#0d0887"
             ],
             [
              0.1111111111111111,
              "#46039f"
             ],
             [
              0.2222222222222222,
              "#7201a8"
             ],
             [
              0.3333333333333333,
              "#9c179e"
             ],
             [
              0.4444444444444444,
              "#bd3786"
             ],
             [
              0.5555555555555556,
              "#d8576b"
             ],
             [
              0.6666666666666666,
              "#ed7953"
             ],
             [
              0.7777777777777778,
              "#fb9f3a"
             ],
             [
              0.8888888888888888,
              "#fdca26"
             ],
             [
              1,
              "#f0f921"
             ]
            ],
            "type": "histogram2d"
           }
          ],
          "histogram2dcontour": [
           {
            "colorbar": {
             "outlinewidth": 0,
             "ticks": ""
            },
            "colorscale": [
             [
              0,
              "#0d0887"
             ],
             [
              0.1111111111111111,
              "#46039f"
             ],
             [
              0.2222222222222222,
              "#7201a8"
             ],
             [
              0.3333333333333333,
              "#9c179e"
             ],
             [
              0.4444444444444444,
              "#bd3786"
             ],
             [
              0.5555555555555556,
              "#d8576b"
             ],
             [
              0.6666666666666666,
              "#ed7953"
             ],
             [
              0.7777777777777778,
              "#fb9f3a"
             ],
             [
              0.8888888888888888,
              "#fdca26"
             ],
             [
              1,
              "#f0f921"
             ]
            ],
            "type": "histogram2dcontour"
           }
          ],
          "mesh3d": [
           {
            "colorbar": {
             "outlinewidth": 0,
             "ticks": ""
            },
            "type": "mesh3d"
           }
          ],
          "parcoords": [
           {
            "line": {
             "colorbar": {
              "outlinewidth": 0,
              "ticks": ""
             }
            },
            "type": "parcoords"
           }
          ],
          "pie": [
           {
            "automargin": true,
            "type": "pie"
           }
          ],
          "scatter": [
           {
            "marker": {
             "colorbar": {
              "outlinewidth": 0,
              "ticks": ""
             }
            },
            "type": "scatter"
           }
          ],
          "scatter3d": [
           {
            "line": {
             "colorbar": {
              "outlinewidth": 0,
              "ticks": ""
             }
            },
            "marker": {
             "colorbar": {
              "outlinewidth": 0,
              "ticks": ""
             }
            },
            "type": "scatter3d"
           }
          ],
          "scattercarpet": [
           {
            "marker": {
             "colorbar": {
              "outlinewidth": 0,
              "ticks": ""
             }
            },
            "type": "scattercarpet"
           }
          ],
          "scattergeo": [
           {
            "marker": {
             "colorbar": {
              "outlinewidth": 0,
              "ticks": ""
             }
            },
            "type": "scattergeo"
           }
          ],
          "scattergl": [
           {
            "marker": {
             "colorbar": {
              "outlinewidth": 0,
              "ticks": ""
             }
            },
            "type": "scattergl"
           }
          ],
          "scattermapbox": [
           {
            "marker": {
             "colorbar": {
              "outlinewidth": 0,
              "ticks": ""
             }
            },
            "type": "scattermapbox"
           }
          ],
          "scatterpolar": [
           {
            "marker": {
             "colorbar": {
              "outlinewidth": 0,
              "ticks": ""
             }
            },
            "type": "scatterpolar"
           }
          ],
          "scatterpolargl": [
           {
            "marker": {
             "colorbar": {
              "outlinewidth": 0,
              "ticks": ""
             }
            },
            "type": "scatterpolargl"
           }
          ],
          "scatterternary": [
           {
            "marker": {
             "colorbar": {
              "outlinewidth": 0,
              "ticks": ""
             }
            },
            "type": "scatterternary"
           }
          ],
          "surface": [
           {
            "colorbar": {
             "outlinewidth": 0,
             "ticks": ""
            },
            "colorscale": [
             [
              0,
              "#0d0887"
             ],
             [
              0.1111111111111111,
              "#46039f"
             ],
             [
              0.2222222222222222,
              "#7201a8"
             ],
             [
              0.3333333333333333,
              "#9c179e"
             ],
             [
              0.4444444444444444,
              "#bd3786"
             ],
             [
              0.5555555555555556,
              "#d8576b"
             ],
             [
              0.6666666666666666,
              "#ed7953"
             ],
             [
              0.7777777777777778,
              "#fb9f3a"
             ],
             [
              0.8888888888888888,
              "#fdca26"
             ],
             [
              1,
              "#f0f921"
             ]
            ],
            "type": "surface"
           }
          ],
          "table": [
           {
            "cells": {
             "fill": {
              "color": "#EBF0F8"
             },
             "line": {
              "color": "white"
             }
            },
            "header": {
             "fill": {
              "color": "#C8D4E3"
             },
             "line": {
              "color": "white"
             }
            },
            "type": "table"
           }
          ]
         },
         "layout": {
          "annotationdefaults": {
           "arrowcolor": "#2a3f5f",
           "arrowhead": 0,
           "arrowwidth": 1
          },
          "coloraxis": {
           "colorbar": {
            "outlinewidth": 0,
            "ticks": ""
           }
          },
          "colorscale": {
           "diverging": [
            [
             0,
             "#8e0152"
            ],
            [
             0.1,
             "#c51b7d"
            ],
            [
             0.2,
             "#de77ae"
            ],
            [
             0.3,
             "#f1b6da"
            ],
            [
             0.4,
             "#fde0ef"
            ],
            [
             0.5,
             "#f7f7f7"
            ],
            [
             0.6,
             "#e6f5d0"
            ],
            [
             0.7,
             "#b8e186"
            ],
            [
             0.8,
             "#7fbc41"
            ],
            [
             0.9,
             "#4d9221"
            ],
            [
             1,
             "#276419"
            ]
           ],
           "sequential": [
            [
             0,
             "#0d0887"
            ],
            [
             0.1111111111111111,
             "#46039f"
            ],
            [
             0.2222222222222222,
             "#7201a8"
            ],
            [
             0.3333333333333333,
             "#9c179e"
            ],
            [
             0.4444444444444444,
             "#bd3786"
            ],
            [
             0.5555555555555556,
             "#d8576b"
            ],
            [
             0.6666666666666666,
             "#ed7953"
            ],
            [
             0.7777777777777778,
             "#fb9f3a"
            ],
            [
             0.8888888888888888,
             "#fdca26"
            ],
            [
             1,
             "#f0f921"
            ]
           ],
           "sequentialminus": [
            [
             0,
             "#0d0887"
            ],
            [
             0.1111111111111111,
             "#46039f"
            ],
            [
             0.2222222222222222,
             "#7201a8"
            ],
            [
             0.3333333333333333,
             "#9c179e"
            ],
            [
             0.4444444444444444,
             "#bd3786"
            ],
            [
             0.5555555555555556,
             "#d8576b"
            ],
            [
             0.6666666666666666,
             "#ed7953"
            ],
            [
             0.7777777777777778,
             "#fb9f3a"
            ],
            [
             0.8888888888888888,
             "#fdca26"
            ],
            [
             1,
             "#f0f921"
            ]
           ]
          },
          "colorway": [
           "#636efa",
           "#EF553B",
           "#00cc96",
           "#ab63fa",
           "#FFA15A",
           "#19d3f3",
           "#FF6692",
           "#B6E880",
           "#FF97FF",
           "#FECB52"
          ],
          "font": {
           "color": "#2a3f5f"
          },
          "geo": {
           "bgcolor": "white",
           "lakecolor": "white",
           "landcolor": "#E5ECF6",
           "showlakes": true,
           "showland": true,
           "subunitcolor": "white"
          },
          "hoverlabel": {
           "align": "left"
          },
          "hovermode": "closest",
          "mapbox": {
           "style": "light"
          },
          "paper_bgcolor": "white",
          "plot_bgcolor": "#E5ECF6",
          "polar": {
           "angularaxis": {
            "gridcolor": "white",
            "linecolor": "white",
            "ticks": ""
           },
           "bgcolor": "#E5ECF6",
           "radialaxis": {
            "gridcolor": "white",
            "linecolor": "white",
            "ticks": ""
           }
          },
          "scene": {
           "xaxis": {
            "backgroundcolor": "#E5ECF6",
            "gridcolor": "white",
            "gridwidth": 2,
            "linecolor": "white",
            "showbackground": true,
            "ticks": "",
            "zerolinecolor": "white"
           },
           "yaxis": {
            "backgroundcolor": "#E5ECF6",
            "gridcolor": "white",
            "gridwidth": 2,
            "linecolor": "white",
            "showbackground": true,
            "ticks": "",
            "zerolinecolor": "white"
           },
           "zaxis": {
            "backgroundcolor": "#E5ECF6",
            "gridcolor": "white",
            "gridwidth": 2,
            "linecolor": "white",
            "showbackground": true,
            "ticks": "",
            "zerolinecolor": "white"
           }
          },
          "shapedefaults": {
           "line": {
            "color": "#2a3f5f"
           }
          },
          "ternary": {
           "aaxis": {
            "gridcolor": "white",
            "linecolor": "white",
            "ticks": ""
           },
           "baxis": {
            "gridcolor": "white",
            "linecolor": "white",
            "ticks": ""
           },
           "bgcolor": "#E5ECF6",
           "caxis": {
            "gridcolor": "white",
            "linecolor": "white",
            "ticks": ""
           }
          },
          "title": {
           "x": 0.05
          },
          "xaxis": {
           "automargin": true,
           "gridcolor": "white",
           "linecolor": "white",
           "ticks": "",
           "title": {
            "standoff": 15
           },
           "zerolinecolor": "white",
           "zerolinewidth": 2
          },
          "yaxis": {
           "automargin": true,
           "gridcolor": "white",
           "linecolor": "white",
           "ticks": "",
           "title": {
            "standoff": 15
           },
           "zerolinecolor": "white",
           "zerolinewidth": 2
          }
         }
        }
       }
      },
      "text/html": [
       "<div>\n",
       "        \n",
       "        \n",
       "            <div id=\"7a016d0b-9584-493d-b6bf-bc1a5389d207\" class=\"plotly-graph-div\" style=\"height:525px; width:100%;\"></div>\n",
       "            <script type=\"text/javascript\">\n",
       "                require([\"plotly\"], function(Plotly) {\n",
       "                    window.PLOTLYENV=window.PLOTLYENV || {};\n",
       "                    \n",
       "                if (document.getElementById(\"7a016d0b-9584-493d-b6bf-bc1a5389d207\")) {\n",
       "                    Plotly.newPlot(\n",
       "                        '7a016d0b-9584-493d-b6bf-bc1a5389d207',\n",
       "                        [{\"domain\": {\"x\": [0.0, 1.0], \"y\": [0.0, 1.0]}, \"hovertemplate\": \"name=%{label}<br>rub_value=%{value}<extra></extra>\", \"labels\": [\"Netflix\", \"Texas Instruments\", \"Baidu\", \"D.R. Horton\", \"Walt Disney\", \"Salesforce\", \"Adobe\", \"IDEXX\", \"Motorola Solutions\", \"AMD\", \"Fate Therapeutics Inc\", \"AECOM\", \"Halozyme Therapeutics Inc\", \"NIKE\", \"JD.com\", \"Amazon.com\", \"Apple\", \"Aptiv\", \"Avery Dennison\", \"Facebook\", \"Rockwell Automation\", \"Bilibili Inc\", \"FinEx \\u0410\\u043a\\u0446\\u0438\\u0438 \\u043a\\u0438\\u0442\\u0430\\u0439\\u0441\\u043a\\u0438\\u0445 \\u043a\\u043e\\u043c\\u043f\\u0430\\u043d\\u0438\\u0439\", \"FinEx \\u0410\\u043a\\u0446\\u0438\\u0438 \\u043a\\u0438\\u0442\\u0430\\u0439\\u0441\\u043a\\u0438\\u0445 \\u043a\\u043e\\u043c\\u043f\\u0430\\u043d\\u0438\\u0439\", \"FinEx \\u0410\\u043a\\u0446\\u0438\\u0438 \\u043a\\u043e\\u043c\\u043f\\u0430\\u043d\\u0438\\u0439 IT-\\u0441\\u0435\\u043a\\u0442\\u043e\\u0440\\u0430 \\u0421\\u0428\\u0410\", \"FinEx \\u0410\\u043a\\u0446\\u0438\\u0438 \\u043a\\u043e\\u043c\\u043f\\u0430\\u043d\\u0438\\u0439 IT-\\u0441\\u0435\\u043a\\u0442\\u043e\\u0440\\u0430 \\u0421\\u0428\\u0410\", \"\\u0414\\u043e\\u043b\\u043b\\u0430\\u0440 \\u0421\\u0428\\u0410\"], \"legendgroup\": \"\", \"name\": \"\", \"showlegend\": true, \"type\": \"pie\", \"values\": [78398.56, 50552.159999999996, 32900.4, 33652.799999999996, 81757.76, 34610.4, 37411.0, 34911.36, 64774.8, 14298.64, 31832.6, 15537.44, 21514.079999999998, 42180.0, 31726.2, 240008.0, 18810.0, 37531.84, 46870.72, 21704.079999999998, 37259.76, 27569.0, 255580.0, 255450.0, 401534.0, 401018.0, 0.0]}],\n",
       "                        {\"legend\": {\"tracegroupgap\": 0}, \"margin\": {\"t\": 60}, \"template\": {\"data\": {\"bar\": [{\"error_x\": {\"color\": \"#2a3f5f\"}, \"error_y\": {\"color\": \"#2a3f5f\"}, \"marker\": {\"line\": {\"color\": \"#E5ECF6\", \"width\": 0.5}}, \"type\": \"bar\"}], \"barpolar\": [{\"marker\": {\"line\": {\"color\": \"#E5ECF6\", \"width\": 0.5}}, \"type\": \"barpolar\"}], \"carpet\": [{\"aaxis\": {\"endlinecolor\": \"#2a3f5f\", \"gridcolor\": \"white\", \"linecolor\": \"white\", \"minorgridcolor\": \"white\", \"startlinecolor\": \"#2a3f5f\"}, \"baxis\": {\"endlinecolor\": \"#2a3f5f\", \"gridcolor\": \"white\", \"linecolor\": \"white\", \"minorgridcolor\": \"white\", \"startlinecolor\": \"#2a3f5f\"}, \"type\": \"carpet\"}], \"choropleth\": [{\"colorbar\": {\"outlinewidth\": 0, \"ticks\": \"\"}, \"type\": \"choropleth\"}], \"contour\": [{\"colorbar\": {\"outlinewidth\": 0, \"ticks\": \"\"}, \"colorscale\": [[0.0, \"#0d0887\"], [0.1111111111111111, \"#46039f\"], [0.2222222222222222, \"#7201a8\"], [0.3333333333333333, \"#9c179e\"], [0.4444444444444444, \"#bd3786\"], [0.5555555555555556, \"#d8576b\"], [0.6666666666666666, \"#ed7953\"], [0.7777777777777778, \"#fb9f3a\"], [0.8888888888888888, \"#fdca26\"], [1.0, \"#f0f921\"]], \"type\": \"contour\"}], \"contourcarpet\": [{\"colorbar\": {\"outlinewidth\": 0, \"ticks\": \"\"}, \"type\": \"contourcarpet\"}], \"heatmap\": [{\"colorbar\": {\"outlinewidth\": 0, \"ticks\": \"\"}, \"colorscale\": [[0.0, \"#0d0887\"], [0.1111111111111111, \"#46039f\"], [0.2222222222222222, \"#7201a8\"], [0.3333333333333333, \"#9c179e\"], [0.4444444444444444, \"#bd3786\"], [0.5555555555555556, \"#d8576b\"], [0.6666666666666666, \"#ed7953\"], [0.7777777777777778, \"#fb9f3a\"], [0.8888888888888888, \"#fdca26\"], [1.0, \"#f0f921\"]], \"type\": \"heatmap\"}], \"heatmapgl\": [{\"colorbar\": {\"outlinewidth\": 0, \"ticks\": \"\"}, \"colorscale\": [[0.0, \"#0d0887\"], [0.1111111111111111, \"#46039f\"], [0.2222222222222222, \"#7201a8\"], [0.3333333333333333, \"#9c179e\"], [0.4444444444444444, \"#bd3786\"], [0.5555555555555556, \"#d8576b\"], [0.6666666666666666, \"#ed7953\"], [0.7777777777777778, \"#fb9f3a\"], [0.8888888888888888, \"#fdca26\"], [1.0, \"#f0f921\"]], \"type\": \"heatmapgl\"}], \"histogram\": [{\"marker\": {\"colorbar\": {\"outlinewidth\": 0, \"ticks\": \"\"}}, \"type\": \"histogram\"}], \"histogram2d\": [{\"colorbar\": {\"outlinewidth\": 0, \"ticks\": \"\"}, \"colorscale\": [[0.0, \"#0d0887\"], [0.1111111111111111, \"#46039f\"], [0.2222222222222222, \"#7201a8\"], [0.3333333333333333, \"#9c179e\"], [0.4444444444444444, \"#bd3786\"], [0.5555555555555556, \"#d8576b\"], [0.6666666666666666, \"#ed7953\"], [0.7777777777777778, \"#fb9f3a\"], [0.8888888888888888, \"#fdca26\"], [1.0, \"#f0f921\"]], \"type\": \"histogram2d\"}], \"histogram2dcontour\": [{\"colorbar\": {\"outlinewidth\": 0, \"ticks\": \"\"}, \"colorscale\": [[0.0, \"#0d0887\"], [0.1111111111111111, \"#46039f\"], [0.2222222222222222, \"#7201a8\"], [0.3333333333333333, \"#9c179e\"], [0.4444444444444444, \"#bd3786\"], [0.5555555555555556, \"#d8576b\"], [0.6666666666666666, \"#ed7953\"], [0.7777777777777778, \"#fb9f3a\"], [0.8888888888888888, \"#fdca26\"], [1.0, \"#f0f921\"]], \"type\": \"histogram2dcontour\"}], \"mesh3d\": [{\"colorbar\": {\"outlinewidth\": 0, \"ticks\": \"\"}, \"type\": \"mesh3d\"}], \"parcoords\": [{\"line\": {\"colorbar\": {\"outlinewidth\": 0, \"ticks\": \"\"}}, \"type\": \"parcoords\"}], \"pie\": [{\"automargin\": true, \"type\": \"pie\"}], \"scatter\": [{\"marker\": {\"colorbar\": {\"outlinewidth\": 0, \"ticks\": \"\"}}, \"type\": \"scatter\"}], \"scatter3d\": [{\"line\": {\"colorbar\": {\"outlinewidth\": 0, \"ticks\": \"\"}}, \"marker\": {\"colorbar\": {\"outlinewidth\": 0, \"ticks\": \"\"}}, \"type\": \"scatter3d\"}], \"scattercarpet\": [{\"marker\": {\"colorbar\": {\"outlinewidth\": 0, \"ticks\": \"\"}}, \"type\": \"scattercarpet\"}], \"scattergeo\": [{\"marker\": {\"colorbar\": {\"outlinewidth\": 0, \"ticks\": \"\"}}, \"type\": \"scattergeo\"}], \"scattergl\": [{\"marker\": {\"colorbar\": {\"outlinewidth\": 0, \"ticks\": \"\"}}, \"type\": \"scattergl\"}], \"scattermapbox\": [{\"marker\": {\"colorbar\": {\"outlinewidth\": 0, \"ticks\": \"\"}}, \"type\": \"scattermapbox\"}], \"scatterpolar\": [{\"marker\": {\"colorbar\": {\"outlinewidth\": 0, \"ticks\": \"\"}}, \"type\": \"scatterpolar\"}], \"scatterpolargl\": [{\"marker\": {\"colorbar\": {\"outlinewidth\": 0, \"ticks\": \"\"}}, \"type\": \"scatterpolargl\"}], \"scatterternary\": [{\"marker\": {\"colorbar\": {\"outlinewidth\": 0, \"ticks\": \"\"}}, \"type\": \"scatterternary\"}], \"surface\": [{\"colorbar\": {\"outlinewidth\": 0, \"ticks\": \"\"}, \"colorscale\": [[0.0, \"#0d0887\"], [0.1111111111111111, \"#46039f\"], [0.2222222222222222, \"#7201a8\"], [0.3333333333333333, \"#9c179e\"], [0.4444444444444444, \"#bd3786\"], [0.5555555555555556, \"#d8576b\"], [0.6666666666666666, \"#ed7953\"], [0.7777777777777778, \"#fb9f3a\"], [0.8888888888888888, \"#fdca26\"], [1.0, \"#f0f921\"]], \"type\": \"surface\"}], \"table\": [{\"cells\": {\"fill\": {\"color\": \"#EBF0F8\"}, \"line\": {\"color\": \"white\"}}, \"header\": {\"fill\": {\"color\": \"#C8D4E3\"}, \"line\": {\"color\": \"white\"}}, \"type\": \"table\"}]}, \"layout\": {\"annotationdefaults\": {\"arrowcolor\": \"#2a3f5f\", \"arrowhead\": 0, \"arrowwidth\": 1}, \"coloraxis\": {\"colorbar\": {\"outlinewidth\": 0, \"ticks\": \"\"}}, \"colorscale\": {\"diverging\": [[0, \"#8e0152\"], [0.1, \"#c51b7d\"], [0.2, \"#de77ae\"], [0.3, \"#f1b6da\"], [0.4, \"#fde0ef\"], [0.5, \"#f7f7f7\"], [0.6, \"#e6f5d0\"], [0.7, \"#b8e186\"], [0.8, \"#7fbc41\"], [0.9, \"#4d9221\"], [1, \"#276419\"]], \"sequential\": [[0.0, \"#0d0887\"], [0.1111111111111111, \"#46039f\"], [0.2222222222222222, \"#7201a8\"], [0.3333333333333333, \"#9c179e\"], [0.4444444444444444, \"#bd3786\"], [0.5555555555555556, \"#d8576b\"], [0.6666666666666666, \"#ed7953\"], [0.7777777777777778, \"#fb9f3a\"], [0.8888888888888888, \"#fdca26\"], [1.0, \"#f0f921\"]], \"sequentialminus\": [[0.0, \"#0d0887\"], [0.1111111111111111, \"#46039f\"], [0.2222222222222222, \"#7201a8\"], [0.3333333333333333, \"#9c179e\"], [0.4444444444444444, \"#bd3786\"], [0.5555555555555556, \"#d8576b\"], [0.6666666666666666, \"#ed7953\"], [0.7777777777777778, \"#fb9f3a\"], [0.8888888888888888, \"#fdca26\"], [1.0, \"#f0f921\"]]}, \"colorway\": [\"#636efa\", \"#EF553B\", \"#00cc96\", \"#ab63fa\", \"#FFA15A\", \"#19d3f3\", \"#FF6692\", \"#B6E880\", \"#FF97FF\", \"#FECB52\"], \"font\": {\"color\": \"#2a3f5f\"}, \"geo\": {\"bgcolor\": \"white\", \"lakecolor\": \"white\", \"landcolor\": \"#E5ECF6\", \"showlakes\": true, \"showland\": true, \"subunitcolor\": \"white\"}, \"hoverlabel\": {\"align\": \"left\"}, \"hovermode\": \"closest\", \"mapbox\": {\"style\": \"light\"}, \"paper_bgcolor\": \"white\", \"plot_bgcolor\": \"#E5ECF6\", \"polar\": {\"angularaxis\": {\"gridcolor\": \"white\", \"linecolor\": \"white\", \"ticks\": \"\"}, \"bgcolor\": \"#E5ECF6\", \"radialaxis\": {\"gridcolor\": \"white\", \"linecolor\": \"white\", \"ticks\": \"\"}}, \"scene\": {\"xaxis\": {\"backgroundcolor\": \"#E5ECF6\", \"gridcolor\": \"white\", \"gridwidth\": 2, \"linecolor\": \"white\", \"showbackground\": true, \"ticks\": \"\", \"zerolinecolor\": \"white\"}, \"yaxis\": {\"backgroundcolor\": \"#E5ECF6\", \"gridcolor\": \"white\", \"gridwidth\": 2, \"linecolor\": \"white\", \"showbackground\": true, \"ticks\": \"\", \"zerolinecolor\": \"white\"}, \"zaxis\": {\"backgroundcolor\": \"#E5ECF6\", \"gridcolor\": \"white\", \"gridwidth\": 2, \"linecolor\": \"white\", \"showbackground\": true, \"ticks\": \"\", \"zerolinecolor\": \"white\"}}, \"shapedefaults\": {\"line\": {\"color\": \"#2a3f5f\"}}, \"ternary\": {\"aaxis\": {\"gridcolor\": \"white\", \"linecolor\": \"white\", \"ticks\": \"\"}, \"baxis\": {\"gridcolor\": \"white\", \"linecolor\": \"white\", \"ticks\": \"\"}, \"bgcolor\": \"#E5ECF6\", \"caxis\": {\"gridcolor\": \"white\", \"linecolor\": \"white\", \"ticks\": \"\"}}, \"title\": {\"x\": 0.05}, \"xaxis\": {\"automargin\": true, \"gridcolor\": \"white\", \"linecolor\": \"white\", \"ticks\": \"\", \"title\": {\"standoff\": 15}, \"zerolinecolor\": \"white\", \"zerolinewidth\": 2}, \"yaxis\": {\"automargin\": true, \"gridcolor\": \"white\", \"linecolor\": \"white\", \"ticks\": \"\", \"title\": {\"standoff\": 15}, \"zerolinecolor\": \"white\", \"zerolinewidth\": 2}}}},\n",
       "                        {\"responsive\": true}\n",
       "                    ).then(function(){\n",
       "                            \n",
       "var gd = document.getElementById('7a016d0b-9584-493d-b6bf-bc1a5389d207');\n",
       "var x = new MutationObserver(function (mutations, observer) {{\n",
       "        var display = window.getComputedStyle(gd).display;\n",
       "        if (!display || display === 'none') {{\n",
       "            console.log([gd, 'removed!']);\n",
       "            Plotly.purge(gd);\n",
       "            observer.disconnect();\n",
       "        }}\n",
       "}});\n",
       "\n",
       "// Listen for the removal of the full notebook cells\n",
       "var notebookContainer = gd.closest('#notebook-container');\n",
       "if (notebookContainer) {{\n",
       "    x.observe(notebookContainer, {childList: true});\n",
       "}}\n",
       "\n",
       "// Listen for the clearing of the current output cell\n",
       "var outputEl = gd.closest('.output');\n",
       "if (outputEl) {{\n",
       "    x.observe(outputEl, {childList: true});\n",
       "}}\n",
       "\n",
       "                        })\n",
       "                };\n",
       "                });\n",
       "            </script>\n",
       "        </div>"
      ]
     },
     "metadata": {},
     "output_type": "display_data"
    }
   ],
   "source": [
    "import plotly.express as px\n",
    "fig = px.pie(\n",
    "        union_df,\n",
    "        values='rub_value',\n",
    "        names='name',\n",
    "        labels='rub_value'\n",
    "#         color_discrete_sequence=['#fbec5d', '#099f77', '#ff4040', '#808080', '#ffffff', '#1ab5d0', '#fa6600', '#dda0dd'],\n",
    "#         category_orders={\"operator_name\": [\"BEE\", \"MGF\", \"MTS\", \"Other\",\"Tele2\",\"YOTA\",\"Мотив\",\"Летай\"]},\n",
    "#         width=1000,\n",
    "#         height=50,\n",
    "#         line_shape='spline' #linear\n",
    "        )\n",
    "fig.show()"
   ]
  },
  {
   "cell_type": "code",
   "execution_count": 84,
   "metadata": {},
   "outputs": [],
   "source": [
    "# etfs = client.market.market_etfs_get() \n",
    "# stocks = client.market.market_stocks_get() \n",
    "# instr_list = etfs.payload.instruments + stocks.payload.instruments\n",
    "# instr_list"
   ]
  },
  {
   "cell_type": "code",
   "execution_count": 33,
   "metadata": {},
   "outputs": [
    {
     "name": "stdout",
     "output_type": "stream",
     "text": [
      "Help on module openapi_client.openapi_streaming in openapi_client:\n",
      "\n",
      "NAME\n",
      "    openapi_client.openapi_streaming\n",
      "\n",
      "FUNCTIONS\n",
      "    callback_decider(event_string, on_candle_event, on_orderbook_event, on_instrument_info_event)\n",
      "    \n",
      "    do_nothing(event)\n",
      "    \n",
      "    print_ = print(...)\n",
      "        print(value, ..., sep=' ', end='\\n', file=sys.stdout, flush=False)\n",
      "        \n",
      "        Prints the values to a stream, or to sys.stdout by default.\n",
      "        Optional keyword arguments:\n",
      "        file:  a file-like object (stream); defaults to the current sys.stdout.\n",
      "        sep:   string inserted between values, default a space.\n",
      "        end:   string appended after the last value, default a newline.\n",
      "        flush: whether to forcibly flush the stream.\n",
      "    \n",
      "    print_event(event)\n",
      "    \n",
      "    run_stream_consumer(token, candle_subs=(), orderbook_subs=(), instrument_info_subs=(), on_candle_event=<function do_nothing at 0x000001EF7B7C1AF0>, on_orderbook_event=<function do_nothing at 0x000001EF7B7C1AF0>, on_instrument_info_event=<function do_nothing at 0x000001EF7B7C1AF0>)\n",
      "        | subscriptions example:\n",
      "        |    candle_subs = [{'figi': 'BBG000B9XRY4', 'interval': '1min'}, {'figi': 'BBG009S39JX6', 'interval': '1min'}]\n",
      "        |    orderbook_subs = [{'figi': 'BBG000B9XRY4', 'depth': 3}, {'figi': 'BBG009S39JX6', 'depth': 3}]\n",
      "        |    instrument_info_subs = [{'figi': 'BBG000B9XRY4'}, {'figi': 'BBG009S39JX6'}]\n",
      "        |\n",
      "        | callback example:\n",
      "        |    lambda x: print(x)\n",
      "    \n",
      "    subscribe_to(ws, candle_subs=(), orderbook_subs=(), instrument_info_subs=())\n",
      "    \n",
      "    to_candle_subscribe_json(figi, interval)\n",
      "    \n",
      "    to_instrument_info_subscribe_json(figi)\n",
      "    \n",
      "    to_orderbook_subscribe_json(figi, depth)\n",
      "\n",
      "FILE\n",
      "    c:\\users\\igor.i.plotnikov\\appdata\\local\\programs\\python\\python38\\lib\\site-packages\\openapi_client\\openapi_streaming.py\n",
      "\n",
      "\n"
     ]
    }
   ],
   "source": [
    "import openapi_client.openapi_streaming\n",
    "help(openapi_client.openapi_streaming)"
   ]
  },
  {
   "cell_type": "code",
   "execution_count": 1,
   "metadata": {},
   "outputs": [],
   "source": [
    "from openapi_client.openapi_streaming import run_stream_consumer\n",
    "from openapi_client.openapi_streaming import print_event"
   ]
  },
  {
   "cell_type": "code",
   "execution_count": 2,
   "metadata": {
    "scrolled": true
   },
   "outputs": [
    {
     "name": "stdout",
     "output_type": "stream",
     "text": [
      "Help on function run_stream_consumer in module openapi_client.openapi_streaming:\n",
      "\n",
      "run_stream_consumer(token, candle_subs=(), orderbook_subs=(), instrument_info_subs=(), on_candle_event=<function do_nothing at 0x00000218416A6820>, on_orderbook_event=<function do_nothing at 0x00000218416A6820>, on_instrument_info_event=<function do_nothing at 0x00000218416A6820>)\n",
      "    | subscriptions example:\n",
      "    |    candle_subs = [{'figi': 'BBG000B9XRY4', 'interval': '1min'}, {'figi': 'BBG009S39JX6', 'interval': '1min'}]\n",
      "    |    orderbook_subs = [{'figi': 'BBG000B9XRY4', 'depth': 3}, {'figi': 'BBG009S39JX6', 'depth': 3}]\n",
      "    |    instrument_info_subs = [{'figi': 'BBG000B9XRY4'}, {'figi': 'BBG009S39JX6'}]\n",
      "    |\n",
      "    | callback example:\n",
      "    |    lambda x: print(x)\n",
      "\n"
     ]
    }
   ],
   "source": [
    "help(run_stream_consumer)"
   ]
  },
  {
   "cell_type": "code",
   "execution_count": 5,
   "metadata": {},
   "outputs": [
    {
     "name": "stdout",
     "output_type": "stream",
     "text": [
      "[WinError 10060] Попытка установить соединение была безуспешной, т.к. от другого компьютера за требуемое время не получен нужный отклик, или было разорвано уже установленное соединение из-за неверного отклика уже подключенного компьютера\n"
     ]
    },
    {
     "data": {
      "text/plain": [
       "<function __main__.<lambda>(x)>"
      ]
     },
     "execution_count": 5,
     "metadata": {},
     "output_type": "execute_result"
    }
   ],
   "source": [
    "candle_subs = [{'figi': 'BBG000B9XRY4', 'interval': '1min'}, {'figi': 'BBG009S39JX6', 'interval': '1min'}]\n",
    "run_stream_consumer(token,\n",
    "                    candle_subs,\n",
    "                    on_candle_event=print_event,\n",
    "                    on_orderbook_event=print_event,\n",
    "                    on_instrument_info_event=print_event)\n",
    "lambda x: print(x)"
   ]
  },
  {
   "cell_type": "code",
   "execution_count": 31,
   "metadata": {},
   "outputs": [
    {
     "name": "stdout",
     "output_type": "stream",
     "text": [
      "b'\\x92\\xbd\\xa3\\x1b\\x8a\\x8b^\\x00\\x93\\xe3\\xdc\\x1a\\r\\xf7V\\xfe'\n",
      "b'\\x92\\xbd\\xa3\\x1b\\x8a\\x8b^\\x00\\x93\\xe3\\xdc\\x1a\\r\\xf7V\\xfe'\n",
      "b'\\xa2\\x04\\xb0\\xca\\xb2\\x95\\xaf\\xd9 E\\t\\xfcH\\xe1f\\xbd'\n",
      "b'\\xa2\\x04\\xb0\\xca\\xb2\\x95\\xaf\\xd9 E\\t\\xfcH\\xe1f\\xbd'\n",
      "b'\\xe4\\xe0h\\x02%#=\\xc4\\xc8Zm_Y\\x97\\n\\x1a\\xd8\\x0b*\\xf7'\n",
      "b'\\xe4\\xe0h\\x02%#=\\xc4\\xc8Zm_Y\\x97\\n\\x1a\\xd8\\x0b*\\xf7'\n",
      "sending: { \"event\": \"candle:subscribe\", \"figi\": \"BBG000B9XRY4\", \"interval\": \"1min\" }\n",
      "sending: { \"event\": \"candle:subscribe\", \"figi\": \"BBG009S39JX6\", \"interval\": \"1min\" }\n",
      "sending: { \"event\": \"orderbook:subscribe\", \"figi\": \"BBG0013HGFT4\", \"depth\": 1 }\n",
      "sending: { \"event\": \"orderbook:subscribe\", \"figi\": \"BBG009S39JX6\", \"depth\": 3 }\n",
      "sending: { \"event\": \"instrument_info:subscribe\", \"figi\": \"BBG000B9XRY4\" }\n",
      "sending: { \"event\": \"instrument_info:subscribe\", \"figi\": \"BBG009S39JX6\" }\n",
      "{'o': 123.58, 'c': 123.58, 'h': 123.58, 'l': 123.58, 'v': 49, 'time': '2020-12-08T10:49:00Z', 'interval': '1min', 'figi': 'BBG000B9XRY4'}\n",
      "{'o': 1814, 'c': 1814, 'h': 1814, 'l': 1814, 'v': 1, 'time': '2020-12-08T10:40:00Z', 'interval': '1min', 'figi': 'BBG009S39JX6'}\n",
      "{'figi': 'BBG0013HGFT4', 'depth': 1, 'bids': [[73.2925, 150]], 'asks': [[73.2975, 240]]}\n",
      "{'figi': 'BBG009S39JX6', 'depth': 3, 'bids': [[1811.1, 7], [1811, 1], [1810.99, 2]], 'asks': [[1814.01, 1], [1816.05, 10], [1816.06, 6]]}\n",
      "{'figi': 'BBG000B9XRY4', 'trade_status': 'normal_trading', 'min_price_increment': 0.01, 'lot': 1, 'limit_up': 125.93, 'limit_down': 120.97}\n",
      "{'figi': 'BBG009S39JX6', 'trade_status': 'normal_trading', 'min_price_increment': 0.01, 'lot': 1, 'limit_up': 1838.78, 'limit_down': 1784.26}\n",
      "{'figi': 'BBG0013HGFT4', 'depth': 1, 'bids': [[73.2925, 150]], 'asks': [[73.2975, 240]]}\n",
      "{'figi': 'BBG009S39JX6', 'depth': 3, 'bids': [[1811.1, 7], [1811, 1], [1810.99, 2]], 'asks': [[1814.01, 1], [1816.05, 10], [1816.06, 6]]}\n",
      "{'figi': 'BBG0013HGFT4', 'depth': 1, 'bids': [[73.2925, 150]], 'asks': [[73.2975, 240]]}\n",
      "{'figi': 'BBG0013HGFT4', 'depth': 1, 'bids': [[73.2925, 150]], 'asks': [[73.2975, 240]]}\n",
      "{'figi': 'BBG0013HGFT4', 'depth': 1, 'bids': [[73.2925, 150]], 'asks': [[73.2975, 240]]}\n",
      "{'figi': 'BBG0013HGFT4', 'depth': 1, 'bids': [[73.2925, 150]], 'asks': [[73.2975, 240]]}\n",
      "{'figi': 'BBG0013HGFT4', 'depth': 1, 'bids': [[73.2925, 150]], 'asks': [[73.2975, 240]]}\n",
      "{'figi': 'BBG0013HGFT4', 'depth': 1, 'bids': [[73.2925, 150]], 'asks': [[73.2975, 200]]}\n",
      "{'figi': 'BBG0013HGFT4', 'depth': 1, 'bids': [[73.2925, 150]], 'asks': [[73.2975, 200]]}\n",
      "{'figi': 'BBG0013HGFT4', 'depth': 1, 'bids': [[73.2925, 150]], 'asks': [[73.2975, 200]]}\n",
      "{'figi': 'BBG0013HGFT4', 'depth': 1, 'bids': [[73.2925, 150]], 'asks': [[73.2975, 293]]}\n",
      "{'figi': 'BBG0013HGFT4', 'depth': 1, 'bids': [[73.2925, 150]], 'asks': [[73.2975, 293]]}\n",
      "{'figi': 'BBG0013HGFT4', 'depth': 1, 'bids': [[73.2925, 150]], 'asks': [[73.2975, 293]]}\n",
      "{'figi': 'BBG0013HGFT4', 'depth': 1, 'bids': [[73.2925, 150]], 'asks': [[73.2975, 333]]}\n",
      "{'figi': 'BBG0013HGFT4', 'depth': 1, 'bids': [[73.2925, 150]], 'asks': [[73.2975, 333]]}\n",
      "{'figi': 'BBG0013HGFT4', 'depth': 1, 'bids': [[73.29, 1000]], 'asks': [[73.2975, 333]]}\n",
      "{'figi': 'BBG0013HGFT4', 'depth': 1, 'bids': [[73.29, 1000]], 'asks': [[73.2975, 433]]}\n",
      "{'figi': 'BBG0013HGFT4', 'depth': 1, 'bids': [[73.29, 1000]], 'asks': [[73.2975, 431]]}\n",
      "{'figi': 'BBG0013HGFT4', 'depth': 1, 'bids': [[73.29, 1000]], 'asks': [[73.2975, 431]]}\n",
      "{'figi': 'BBG0013HGFT4', 'depth': 1, 'bids': [[73.29, 1000]], 'asks': [[73.2975, 431]]}\n",
      "{'figi': 'BBG0013HGFT4', 'depth': 1, 'bids': [[73.29, 1000]], 'asks': [[73.2975, 421]]}\n",
      "{'figi': 'BBG0013HGFT4', 'depth': 1, 'bids': [[73.29, 1000]], 'asks': [[73.2975, 421]]}\n",
      "{'figi': 'BBG0013HGFT4', 'depth': 1, 'bids': [[73.29, 1000]], 'asks': [[73.2975, 321]]}\n",
      "{'figi': 'BBG0013HGFT4', 'depth': 1, 'bids': [[73.29, 1000]], 'asks': [[73.2975, 321]]}\n",
      "{'figi': 'BBG0013HGFT4', 'depth': 1, 'bids': [[73.29, 1000]], 'asks': [[73.2975, 321]]}\n",
      "{'figi': 'BBG0013HGFT4', 'depth': 1, 'bids': [[73.29, 1000]], 'asks': [[73.2975, 321]]}\n",
      "{'figi': 'BBG009S39JX6', 'depth': 3, 'bids': [[1811.1, 7], [1811, 1], [1810.99, 2]], 'asks': [[1814.01, 1], [1816.05, 10], [1816.06, 6]]}\n",
      "{'figi': 'BBG0013HGFT4', 'depth': 1, 'bids': [[73.29, 1000]], 'asks': [[73.2975, 321]]}\n",
      "{'figi': 'BBG0013HGFT4', 'depth': 1, 'bids': [[73.2925, 100]], 'asks': [[73.2975, 221]]}\n",
      "{'figi': 'BBG0013HGFT4', 'depth': 1, 'bids': [[73.29, 1000]], 'asks': [[73.2975, 321]]}\n",
      "{'o': 123.56, 'c': 123.56, 'h': 123.56, 'l': 123.56, 'v': 1, 'time': '2020-12-08T10:50:00Z', 'interval': '1min', 'figi': 'BBG000B9XRY4'}\n",
      "{'figi': 'BBG0013HGFT4', 'depth': 1, 'bids': [[73.29, 1000]], 'asks': [[73.2975, 471]]}\n",
      "{'figi': 'BBG009S39JX6', 'depth': 3, 'bids': [[1811.1, 7], [1811, 1], [1810.99, 2]], 'asks': [[1814.01, 1], [1816.05, 10], [1816.06, 6]]}\n",
      "\n"
     ]
    }
   ],
   "source": [
    "\n",
    "\n",
    "candle_subs = [{'figi': 'BBG000B9XRY4', 'interval': '1min'}, {'figi': 'BBG009S39JX6', 'interval': '1min'}]\n",
    "orderbook_subs = [{'figi': 'BBG0013HGFT4', 'depth': 1}, {'figi': 'BBG009S39JX6', 'depth': 3}]\n",
    "instrument_info_subs = [{'figi': 'BBG000B9XRY4'}, {'figi': 'BBG009S39JX6'}]\n",
    "\n",
    "run_stream_consumer(token,\n",
    "                    candle_subs, orderbook_subs, instrument_info_subs,\n",
    "                    on_candle_event=print_event,\n",
    "                    on_orderbook_event=print_event,\n",
    "                    on_instrument_info_event=print_event)"
   ]
  }
 ],
 "metadata": {
  "kernelspec": {
   "display_name": "Python 3",
   "language": "python",
   "name": "python3"
  },
  "language_info": {
   "codemirror_mode": {
    "name": "ipython",
    "version": 3
   },
   "file_extension": ".py",
   "mimetype": "text/x-python",
   "name": "python",
   "nbconvert_exporter": "python",
   "pygments_lexer": "ipython3",
   "version": "3.8.0"
  }
 },
 "nbformat": 4,
 "nbformat_minor": 4
}
