{
 "cells": [
  {
   "cell_type": "code",
   "execution_count": 13,
   "metadata": {},
   "outputs": [
    {
     "name": "stdout",
     "output_type": "stream",
     "text": [
      "Driver version 16.20.0.61  Database version 16.20.32.49\n"
     ]
    }
   ],
   "source": [
    "import teradatasql\n",
    "\n",
    "queryBands = {\n",
    "    'ClientSystemUserId': 'nadezhda.smeylova'\n",
    "}\n",
    "\n",
    "with teradatasql.connect ('''{\n",
    "    \"host\":\"td2800.corp.tele2.ru\",\n",
    "    \"logmech\": \"LDAP\",\n",
    "    \"logdata\":\"authcid=igor.i.plotnikov password=Anna012022\"\n",
    "    }''') as con:\n",
    "    with con.cursor () as cur:\n",
    "        cur.execute(\"SET QUERY_BAND = '{};' FOR SESSION\".format(\";\".join(\"{}={}\".format(k,v) for k, v in queryBands.items())))\n",
    "        cur.execute ('{fn teradata_nativesql}Driver version {fn teradata_driver_version}  Database version {fn teradata_database_version}')\n",
    "        print (cur.fetchone () [0])"
   ]
  },
  {
   "cell_type": "code",
   "execution_count": 15,
   "metadata": {},
   "outputs": [
    {
     "name": "stdout",
     "output_type": "stream",
     "text": [
      "Driver version 16.20.0.61  Database version 16.20.32.49\n"
     ]
    }
   ],
   "source": [
    "con = teradatasql.connect ('''{\n",
    "    \"host\":\"td2800.corp.tele2.ru\",\n",
    "    \"logmech\": \"LDAP\",\n",
    "    \"logdata\":\"authcid=igor.i.plotnikov password=Anna012022\"\n",
    "    }''')\n",
    "with con.cursor () as cur:\n",
    "    cur.execute(\"SET QUERY_BAND = '{};' FOR SESSION\".format(\";\".join(\"{}={}\".format(k,v) for k, v in queryBands.items())))\n",
    "    cur.execute ('{fn teradata_nativesql}Driver version {fn teradata_driver_version}  Database version {fn teradata_database_version}')\n",
    "    print (cur.fetchone () [0])"
   ]
  }
 ],
 "metadata": {
  "interpreter": {
   "hash": "1743910217cc41ca73c33d4a7dda2b01434e48544e0307194d5c3b7856ab476d"
  },
  "kernelspec": {
   "display_name": "Python 3.8.0 64-bit",
   "language": "python",
   "name": "python3"
  },
  "language_info": {
   "codemirror_mode": {
    "name": "ipython",
    "version": 3
   },
   "file_extension": ".py",
   "mimetype": "text/x-python",
   "name": "python",
   "nbconvert_exporter": "python",
   "pygments_lexer": "ipython3",
   "version": "3.8.0"
  },
  "orig_nbformat": 4
 },
 "nbformat": 4,
 "nbformat_minor": 2
}
