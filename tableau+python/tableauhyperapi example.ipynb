{
 "cells": [
  {
   "cell_type": "code",
   "execution_count": 4,
   "metadata": {},
   "outputs": [],
   "source": [
    "from tableauhyperapi import HyperProcess\n",
    "from pathlib import Path"
   ]
  },
  {
   "cell_type": "code",
   "execution_count": null,
   "metadata": {},
   "outputs": [],
   "source": []
  },
  {
   "cell_type": "code",
   "execution_count": 5,
   "metadata": {
    "scrolled": true
   },
   "outputs": [
    {
     "ename": "SyntaxError",
     "evalue": "EOL while scanning string literal (<ipython-input-5-4e9de8b01794>, line 1)",
     "output_type": "error",
     "traceback": [
      "\u001b[1;36m  File \u001b[1;32m\"<ipython-input-5-4e9de8b01794>\"\u001b[1;36m, line \u001b[1;32m1\u001b[0m\n\u001b[1;33m    path = Path()'C:\\Users\\igor.i.plotnikov\\Documents\\My Tableau Repository\\Workbooks\\DATA IN ROAMING since 2020-11-19.twb Files\\Data\\DATA IN ROAMING.twb Files\\')\u001b[0m\n\u001b[1;37m                                                                                                                                                                  ^\u001b[0m\n\u001b[1;31mSyntaxError\u001b[0m\u001b[1;31m:\u001b[0m EOL while scanning string literal\n"
     ]
    }
   ],
   "source": [
    "path = Path()'C:\\Users\\igor.i.plotnikov\\Documents\\My Tableau Repository\\Workbooks\\DATA IN ROAMING since 2020-11-19.twb Files\\Data\\DATA IN ROAMING.twb Files\\')"
   ]
  },
  {
   "cell_type": "code",
   "execution_count": null,
   "metadata": {},
   "outputs": [],
   "source": [
    "with HyperProcess(telemetry=Telemetry.SEND_USAGE_DATA_TO_TABLEAU ) as hyper:\n",
    "\n",
    "#  Connect to an existing .hyper file (CreateMode.NONE)\n",
    "    with Connection(endpoint=hyper.endpoint, database='mydb.hyper') as connection:\n",
    "        \n",
    "        \n",
    "        with Inserter(connection, TableName('Extract','Extract')) as inserter:\n",
    "        inserter.add_rows(rows=data_to_insert)\n",
    "        inserter.execute()"
   ]
  }
 ],
 "metadata": {
  "kernelspec": {
   "display_name": "Python 3",
   "language": "python",
   "name": "python3"
  },
  "language_info": {
   "codemirror_mode": {
    "name": "ipython",
    "version": 3
   },
   "file_extension": ".py",
   "mimetype": "text/x-python",
   "name": "python",
   "nbconvert_exporter": "python",
   "pygments_lexer": "ipython3",
   "version": "3.8.0"
  }
 },
 "nbformat": 4,
 "nbformat_minor": 4
}
