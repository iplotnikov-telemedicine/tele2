{
 "cells": [
  {
   "cell_type": "code",
   "execution_count": 1,
   "metadata": {
    "scrolled": false
   },
   "outputs": [],
   "source": [
    "# !pip install easygui --proxy http://10.2.176.162:8080"
   ]
  },
  {
   "cell_type": "code",
   "execution_count": 2,
   "metadata": {},
   "outputs": [],
   "source": [
    "import xml.etree.ElementTree as ET\n",
    "import os\n",
    "import pandas as pd\n",
    "import easygui"
   ]
  },
  {
   "cell_type": "code",
   "execution_count": 4,
   "metadata": {},
   "outputs": [
    {
     "ename": "ParseError",
     "evalue": "syntax error: line 1, column 0 (<string>)",
     "output_type": "error",
     "traceback": [
      "Traceback \u001b[1;36m(most recent call last)\u001b[0m:\n",
      "  File \u001b[0;32m\"c:\\users\\igor.i.plotnikov\\appdata\\local\\programs\\python\\python38\\lib\\site-packages\\IPython\\core\\interactiveshell.py\"\u001b[0m, line \u001b[0;32m3331\u001b[0m, in \u001b[0;35mrun_code\u001b[0m\n    exec(code_obj, self.user_global_ns, self.user_ns)\n",
      "  File \u001b[0;32m\"<ipython-input-4-eeb541f4376c>\"\u001b[0m, line \u001b[0;32m3\u001b[0m, in \u001b[0;35m<module>\u001b[0m\n    tree = ET.parse(file)\n",
      "  File \u001b[0;32m\"c:\\users\\igor.i.plotnikov\\appdata\\local\\programs\\python\\python38\\lib\\xml\\etree\\ElementTree.py\"\u001b[0m, line \u001b[0;32m1202\u001b[0m, in \u001b[0;35mparse\u001b[0m\n    tree.parse(source, parser)\n",
      "\u001b[1;36m  File \u001b[1;32m\"c:\\users\\igor.i.plotnikov\\appdata\\local\\programs\\python\\python38\\lib\\xml\\etree\\ElementTree.py\"\u001b[1;36m, line \u001b[1;32m595\u001b[1;36m, in \u001b[1;35mparse\u001b[1;36m\u001b[0m\n\u001b[1;33m    self._root = parser._parse_whole(source)\u001b[0m\n",
      "\u001b[1;36m  File \u001b[1;32m\"<string>\"\u001b[1;36m, line \u001b[1;32munknown\u001b[0m\n\u001b[1;31mParseError\u001b[0m\u001b[1;31m:\u001b[0m syntax error: line 1, column 0\n"
     ]
    }
   ],
   "source": [
    "#parse the twb file\n",
    "file = easygui.fileopenbox(filetypes=['YOURWORKBOOKNAME.twb'])\n",
    "tree = ET.parse(file)\n",
    "root = tree.getroot()"
   ]
  },
  {
   "cell_type": "code",
   "execution_count": null,
   "metadata": {},
   "outputs": [],
   "source": [
    "#create a dictionary of name and tableau generated name\n",
    "calcDict = {}\n",
    "for item in root.findall('.//column[@caption]'):\n",
    "    if item.find(\".//calculation\") is None:\n",
    "        continue\n",
    "    else:\n",
    "        calcDict[item.attrib['name']] = '[' + item.attrib['caption'] + ']'\n",
    "calcDict"
   ]
  },
  {
   "cell_type": "code",
   "execution_count": null,
   "metadata": {},
   "outputs": [],
   "source": [
    "#list of calc's name, tableau generated name, and calculation/formula\n",
    "calcList = []\n",
    "for item in root.findall('.//column[@caption]'):\n",
    "    if item.find(\".//calculation\") is None:\n",
    "        continue\n",
    "    else:\n",
    "        if item.find(\".//calculation[@formula]\") is None:\n",
    "            continue\n",
    "        else:\n",
    "            calc_caption = '[' + item.attrib['caption'] + ']'\n",
    "            calc_name = item.attrib['name']\n",
    "            calc_raw_formula = item.find(\".//calculation\").attrib['formula']\n",
    "            calc_comment = ''\n",
    "            calc_formula = ''\n",
    "            for line in calc_raw_formula.split('\\r\\n'):\n",
    "                if line.startswith('//'):\n",
    "                    calc_comment = calc_comment + line + ' '\n",
    "                else:\n",
    "                    calc_formula = calc_formula + line + ' '    \n",
    "        for name, caption in calcDict.items():\n",
    "            calc_formula = calc_formula.replace(name, caption)\n",
    "            calc_row = (calc_caption, calc_name, calc_formula, calc_comment)\n",
    "            calcList.append(list(calc_row))\n",
    "\n",
    "#convert the list of calcs into a data frame\n",
    "data = calcList\n",
    "data = pd.DataFrame(data, columns=['Name', 'Remote Name', 'Formula', 'Comment'])\n",
    "\n",
    "#remove duplicate rows from data frame\n",
    "data = data.drop_duplicates(subset=None, keep='first', inplace=False)\n",
    "\n",
    "# export to csv\n",
    "base = os.path.basename(file)\n",
    "os.path.splitext(base)\n",
    "filename = os.path.splitext(base)[0]\n",
    "data.to_csv(filename + '.csv', encoding=\"utf-8\")"
   ]
  }
 ],
 "metadata": {
  "kernelspec": {
   "display_name": "Python 3",
   "language": "python",
   "name": "python3"
  }
 },
 "nbformat": 4,
 "nbformat_minor": 4
}
