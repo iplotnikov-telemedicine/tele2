{
 "cells": [
  {
   "cell_type": "code",
   "execution_count": 1,
   "metadata": {},
   "outputs": [],
   "source": [
    "import pandas as pd\n",
    "from datetime import date\n",
    "import teradatasql\n",
    "import numpy as np\n",
    "import os"
   ]
  },
  {
   "cell_type": "code",
   "execution_count": 2,
   "metadata": {},
   "outputs": [
    {
     "name": "stdout",
     "output_type": "stream",
     "text": [
      "(0, 'SAP_data_for_BO1 old.xlsb')\n",
      "(1, 'SAP_data_for_BO1.xlsb')\n",
      "(2, 'SAP_data_for_BO1_BU.xlsb')\n",
      "(3, 'SAP_data_for_BO1_BU21.xlsb')\n",
      "Какой номер нужен? 3\n",
      "Выбран SAP_data_for_BO1_BU21.xlsb\n"
     ]
    }
   ],
   "source": [
    "path = r'P:\\\\CP_PLM\\\\Reporting\\\\Report_Data\\\\Revenue & Subs\\\\'\n",
    "for file in enumerate(os.listdir(path)):\n",
    "    print(file)\n",
    "file_index = int(input('Какой номер нужен? '))\n",
    "shortname = None\n",
    "for i, file in enumerate(os.listdir(path)):\n",
    "    if i == file_index:\n",
    "        print(f'Выбран {file}')\n",
    "        shortname = file\n",
    "        filename = path + shortname\n",
    "        break\n",
    "if not shortname:\n",
    "    print('Файл не выбран')"
   ]
  },
  {
   "cell_type": "markdown",
   "metadata": {},
   "source": [
    "### Загрузка данных SAP"
   ]
  },
  {
   "cell_type": "code",
   "execution_count": 3,
   "metadata": {
    "scrolled": false
   },
   "outputs": [
    {
     "data": {
      "text/html": [
       "<div>\n",
       "<style scoped>\n",
       "    .dataframe tbody tr th:only-of-type {\n",
       "        vertical-align: middle;\n",
       "    }\n",
       "\n",
       "    .dataframe tbody tr th {\n",
       "        vertical-align: top;\n",
       "    }\n",
       "\n",
       "    .dataframe thead th {\n",
       "        text-align: right;\n",
       "    }\n",
       "</style>\n",
       "<table border=\"1\" class=\"dataframe\">\n",
       "  <thead>\n",
       "    <tr style=\"text-align: right;\">\n",
       "      <th></th>\n",
       "      <th>version</th>\n",
       "      <th>month</th>\n",
       "      <th>year</th>\n",
       "      <th>region</th>\n",
       "      <th>base_type</th>\n",
       "      <th>tariff</th>\n",
       "      <th>account</th>\n",
       "      <th>param_value</th>\n",
       "    </tr>\n",
       "  </thead>\n",
       "  <tbody>\n",
       "    <tr>\n",
       "      <th>0</th>\n",
       "      <td>BU_2021_01</td>\n",
       "      <td>1</td>\n",
       "      <td>2021</td>\n",
       "      <td>203000</td>\n",
       "      <td>NEW</td>\n",
       "      <td>1100</td>\n",
       "      <td>Churn</td>\n",
       "      <td>-5.068000e+03</td>\n",
       "    </tr>\n",
       "    <tr>\n",
       "      <th>1</th>\n",
       "      <td>BU_2021_01</td>\n",
       "      <td>1</td>\n",
       "      <td>2021</td>\n",
       "      <td>203000</td>\n",
       "      <td>NEW</td>\n",
       "      <td>1100</td>\n",
       "      <td>DATA traffic</td>\n",
       "      <td>1.201475e+09</td>\n",
       "    </tr>\n",
       "    <tr>\n",
       "      <th>2</th>\n",
       "      <td>BU_2021_01</td>\n",
       "      <td>1</td>\n",
       "      <td>2021</td>\n",
       "      <td>203000</td>\n",
       "      <td>NEW</td>\n",
       "      <td>1100</td>\n",
       "      <td>Gross Intake</td>\n",
       "      <td>9.569000e+03</td>\n",
       "    </tr>\n",
       "    <tr>\n",
       "      <th>3</th>\n",
       "      <td>BU_2021_01</td>\n",
       "      <td>1</td>\n",
       "      <td>2021</td>\n",
       "      <td>203000</td>\n",
       "      <td>NEW</td>\n",
       "      <td>1100</td>\n",
       "      <td>International MtL Revenue</td>\n",
       "      <td>6.878894e+03</td>\n",
       "    </tr>\n",
       "    <tr>\n",
       "      <th>4</th>\n",
       "      <td>BU_2021_01</td>\n",
       "      <td>1</td>\n",
       "      <td>2021</td>\n",
       "      <td>203000</td>\n",
       "      <td>NEW</td>\n",
       "      <td>1100</td>\n",
       "      <td>International MtL VC</td>\n",
       "      <td>-2.928067e+04</td>\n",
       "    </tr>\n",
       "  </tbody>\n",
       "</table>\n",
       "</div>"
      ],
      "text/plain": [
       "      version month  year  region base_type tariff                    account  \\\n",
       "0  BU_2021_01     1  2021  203000       NEW   1100                      Churn   \n",
       "1  BU_2021_01     1  2021  203000       NEW   1100               DATA traffic   \n",
       "2  BU_2021_01     1  2021  203000       NEW   1100               Gross Intake   \n",
       "3  BU_2021_01     1  2021  203000       NEW   1100  International MtL Revenue   \n",
       "4  BU_2021_01     1  2021  203000       NEW   1100       International MtL VC   \n",
       "\n",
       "    param_value  \n",
       "0 -5.068000e+03  \n",
       "1  1.201475e+09  \n",
       "2  9.569000e+03  \n",
       "3  6.878894e+03  \n",
       "4 -2.928067e+04  "
      ]
     },
     "execution_count": 3,
     "metadata": {},
     "output_type": "execute_result"
    }
   ],
   "source": [
    "phd = pd.read_excel(filename, sheet_name = 'phd', engine='pyxlsb',\n",
    "                 names = ['version','month','year','region','base_type','tariff','account','param_value'],\n",
    "                 usecols = ['version','month','year','region','base_type','tariff','account','param_value'],\n",
    "                 dtype = {'version': str,\n",
    "                        'month': str,\n",
    "                        'year': str,\n",
    "                        'region': str,\n",
    "                        'base_type': str,\n",
    "                        'tariff': str,\n",
    "                        'account': str,\n",
    "                        'param_value': float\n",
    "                       }, skiprows = 1)\n",
    "phd = phd.dropna()\n",
    "phd.head()"
   ]
  },
  {
   "cell_type": "code",
   "execution_count": 4,
   "metadata": {},
   "outputs": [
    {
     "data": {
      "text/html": [
       "<div>\n",
       "<style scoped>\n",
       "    .dataframe tbody tr th:only-of-type {\n",
       "        vertical-align: middle;\n",
       "    }\n",
       "\n",
       "    .dataframe tbody tr th {\n",
       "        vertical-align: top;\n",
       "    }\n",
       "\n",
       "    .dataframe thead th {\n",
       "        text-align: right;\n",
       "    }\n",
       "</style>\n",
       "<table border=\"1\" class=\"dataframe\">\n",
       "  <thead>\n",
       "    <tr style=\"text-align: right;\">\n",
       "      <th></th>\n",
       "      <th>version</th>\n",
       "      <th>month</th>\n",
       "      <th>year</th>\n",
       "      <th>region</th>\n",
       "      <th>base_type</th>\n",
       "      <th>tariff</th>\n",
       "      <th>account</th>\n",
       "      <th>param_value</th>\n",
       "    </tr>\n",
       "  </thead>\n",
       "  <tbody>\n",
       "    <tr>\n",
       "      <th>0</th>\n",
       "      <td>BU_2021_01</td>\n",
       "      <td>1</td>\n",
       "      <td>2021</td>\n",
       "      <td>200000</td>\n",
       "      <td>#</td>\n",
       "      <td>#</td>\n",
       "      <td>Gross Margin 1</td>\n",
       "      <td>2.397322e+06</td>\n",
       "    </tr>\n",
       "    <tr>\n",
       "      <th>1</th>\n",
       "      <td>BU_2021_01</td>\n",
       "      <td>1</td>\n",
       "      <td>2021</td>\n",
       "      <td>203000</td>\n",
       "      <td>NEW</td>\n",
       "      <td>1100</td>\n",
       "      <td>Revenue</td>\n",
       "      <td>2.302297e+07</td>\n",
       "    </tr>\n",
       "    <tr>\n",
       "      <th>2</th>\n",
       "      <td>BU_2021_01</td>\n",
       "      <td>1</td>\n",
       "      <td>2021</td>\n",
       "      <td>203000</td>\n",
       "      <td>NEW</td>\n",
       "      <td>1100</td>\n",
       "      <td>Recurring Revenue</td>\n",
       "      <td>2.302297e+07</td>\n",
       "    </tr>\n",
       "    <tr>\n",
       "      <th>3</th>\n",
       "      <td>BU_2021_01</td>\n",
       "      <td>1</td>\n",
       "      <td>2021</td>\n",
       "      <td>203000</td>\n",
       "      <td>NEW</td>\n",
       "      <td>1100</td>\n",
       "      <td>Service revenue</td>\n",
       "      <td>2.302297e+07</td>\n",
       "    </tr>\n",
       "    <tr>\n",
       "      <th>4</th>\n",
       "      <td>BU_2021_01</td>\n",
       "      <td>1</td>\n",
       "      <td>2021</td>\n",
       "      <td>203000</td>\n",
       "      <td>NEW</td>\n",
       "      <td>1100</td>\n",
       "      <td>Service revenue (w/o interconnect)</td>\n",
       "      <td>1.888241e+07</td>\n",
       "    </tr>\n",
       "  </tbody>\n",
       "</table>\n",
       "</div>"
      ],
      "text/plain": [
       "      version month  year  region base_type tariff  \\\n",
       "0  BU_2021_01     1  2021  200000         #      #   \n",
       "1  BU_2021_01     1  2021  203000       NEW   1100   \n",
       "2  BU_2021_01     1  2021  203000       NEW   1100   \n",
       "3  BU_2021_01     1  2021  203000       NEW   1100   \n",
       "4  BU_2021_01     1  2021  203000       NEW   1100   \n",
       "\n",
       "                              account   param_value  \n",
       "0                      Gross Margin 1  2.397322e+06  \n",
       "1                             Revenue  2.302297e+07  \n",
       "2                   Recurring Revenue  2.302297e+07  \n",
       "3                     Service revenue  2.302297e+07  \n",
       "4  Service revenue (w/o interconnect)  1.888241e+07  "
      ]
     },
     "execution_count": 4,
     "metadata": {},
     "output_type": "execute_result"
    }
   ],
   "source": [
    "rev = pd.read_excel(filename, sheet_name = 'rev', engine='pyxlsb',\n",
    "                 names = ['version','month','year','region','base_type','tariff','account','param_value'],\n",
    "                 usecols = ['version','month','year','region','base_type','tariff','account','param_value'],\n",
    "                 dtype = {'version': str,\n",
    "                        'month': str,\n",
    "                        'year': str,\n",
    "                        'region': str,\n",
    "                        'base_type': str,\n",
    "                        'tariff': str,\n",
    "                        'account': str,\n",
    "                        'param_value': float\n",
    "                       }, skiprows = 1)\n",
    "rev = rev.dropna()\n",
    "rev.head()"
   ]
  },
  {
   "cell_type": "code",
   "execution_count": 5,
   "metadata": {
    "scrolled": true
   },
   "outputs": [],
   "source": [
    "# phd_rev_union = phd\n",
    "phd_rev_union = pd.concat([phd,rev])\n",
    "phd_rev = phd_rev_union.copy() # версия датафрейма для отката, если потребуется"
   ]
  },
  {
   "cell_type": "markdown",
   "metadata": {},
   "source": [
    "### Трансформация данных SAP"
   ]
  },
  {
   "cell_type": "code",
   "execution_count": 6,
   "metadata": {
    "scrolled": true
   },
   "outputs": [],
   "source": [
    "phd_rev['report_month'] = phd_rev.apply(lambda row: date(int(row.year), int(row.month), 1), axis = 1)\n",
    "tariff_dict = {'1100' : 'Bundle', '2000' : 'PAYG'}\n",
    "phd_rev.tariff = phd_rev.tariff.replace(tariff_dict)\n",
    "phd_rev.param_value = phd_rev.param_value.apply(lambda x: round(x,4))\n",
    "phd_rev.base_type = phd_rev.base_type.replace('#','NOT A')\n",
    "phd_rev.tariff = phd_rev.tariff.replace('#','NO SUBS')\n",
    "phd_rev.version = phd_rev.version.apply(lambda x: 'BU' if 'BU' in x else x)\n",
    "versions_dict = {'AC':'AC', 'F3_2020_01':'F3_2020_01'}\n",
    "versions = phd_rev.version.value_counts().index.to_list()\n",
    "for ver in versions:\n",
    "    if ver in versions_dict:\n",
    "        phd_rev.version = phd_rev.version.replace(ver, versions_dict[ver])\n",
    "#     elif ver not in versions_dict.values():\n",
    "#         new_ver = input(f'Как переназовем {ver}? ')\n",
    "#         phd_rev.version = phd_rev.version.replace(ver, new_ver)"
   ]
  },
  {
   "cell_type": "code",
   "execution_count": 7,
   "metadata": {
    "scrolled": true
   },
   "outputs": [
    {
     "data": {
      "text/html": [
       "<div>\n",
       "<style scoped>\n",
       "    .dataframe tbody tr th:only-of-type {\n",
       "        vertical-align: middle;\n",
       "    }\n",
       "\n",
       "    .dataframe tbody tr th {\n",
       "        vertical-align: top;\n",
       "    }\n",
       "\n",
       "    .dataframe thead th {\n",
       "        text-align: right;\n",
       "    }\n",
       "</style>\n",
       "<table border=\"1\" class=\"dataframe\">\n",
       "  <thead>\n",
       "    <tr style=\"text-align: right;\">\n",
       "      <th></th>\n",
       "      <th>version</th>\n",
       "      <th>month</th>\n",
       "      <th>year</th>\n",
       "      <th>region</th>\n",
       "      <th>base_type</th>\n",
       "      <th>tariff</th>\n",
       "      <th>account</th>\n",
       "      <th>param_value</th>\n",
       "      <th>report_month</th>\n",
       "      <th>BRANCH_ID</th>\n",
       "      <th>SAP_CODE</th>\n",
       "      <th>SAP_NAME_RU</th>\n",
       "    </tr>\n",
       "  </thead>\n",
       "  <tbody>\n",
       "    <tr>\n",
       "      <th>0</th>\n",
       "      <td>BU</td>\n",
       "      <td>1</td>\n",
       "      <td>2021</td>\n",
       "      <td>203000</td>\n",
       "      <td>NEW</td>\n",
       "      <td>Bundle</td>\n",
       "      <td>Churn</td>\n",
       "      <td>-5.068000e+03</td>\n",
       "      <td>2021-01-01</td>\n",
       "      <td>66.0</td>\n",
       "      <td>203000</td>\n",
       "      <td>Tele2-Бурятия</td>\n",
       "    </tr>\n",
       "    <tr>\n",
       "      <th>1</th>\n",
       "      <td>BU</td>\n",
       "      <td>1</td>\n",
       "      <td>2021</td>\n",
       "      <td>203000</td>\n",
       "      <td>NEW</td>\n",
       "      <td>Bundle</td>\n",
       "      <td>DATA traffic</td>\n",
       "      <td>1.201475e+09</td>\n",
       "      <td>2021-01-01</td>\n",
       "      <td>66.0</td>\n",
       "      <td>203000</td>\n",
       "      <td>Tele2-Бурятия</td>\n",
       "    </tr>\n",
       "    <tr>\n",
       "      <th>2</th>\n",
       "      <td>BU</td>\n",
       "      <td>1</td>\n",
       "      <td>2021</td>\n",
       "      <td>203000</td>\n",
       "      <td>NEW</td>\n",
       "      <td>Bundle</td>\n",
       "      <td>Gross Intake</td>\n",
       "      <td>9.569000e+03</td>\n",
       "      <td>2021-01-01</td>\n",
       "      <td>66.0</td>\n",
       "      <td>203000</td>\n",
       "      <td>Tele2-Бурятия</td>\n",
       "    </tr>\n",
       "  </tbody>\n",
       "</table>\n",
       "</div>"
      ],
      "text/plain": [
       "  version month  year  region base_type  tariff       account   param_value  \\\n",
       "0      BU     1  2021  203000       NEW  Bundle         Churn -5.068000e+03   \n",
       "1      BU     1  2021  203000       NEW  Bundle  DATA traffic  1.201475e+09   \n",
       "2      BU     1  2021  203000       NEW  Bundle  Gross Intake  9.569000e+03   \n",
       "\n",
       "  report_month  BRANCH_ID SAP_CODE    SAP_NAME_RU  \n",
       "0   2021-01-01       66.0   203000  Tele2-Бурятия  \n",
       "1   2021-01-01       66.0   203000  Tele2-Бурятия  \n",
       "2   2021-01-01       66.0   203000  Tele2-Бурятия  "
      ]
     },
     "execution_count": 7,
     "metadata": {},
     "output_type": "execute_result"
    }
   ],
   "source": [
    "with teradatasql.connect() as session:\n",
    "    old_query = '''sel *\n",
    "            from UAT_PRODUCT.DIC_SAP_CODES\n",
    "            '''\n",
    "    query = '''\n",
    "    sel\n",
    "        branch_id,\n",
    "        sap_code,\n",
    "        sap_name_ru\n",
    "    FROM PRD2_DIC_V.BRANCH\n",
    "    where SAP_CODE is not null\n",
    "        '''\n",
    "    dic_sap_codes = pd.read_sql(query, session)\n",
    "# dic_sap_codes.head()\n",
    "phd_rev_branch = pd.merge(phd_rev, dic_sap_codes, how='inner', left_on='region', right_on='SAP_CODE')\n",
    "phd_rev_branch.head(3)"
   ]
  },
  {
   "cell_type": "markdown",
   "metadata": {},
   "source": [
    "### Определение данных, подлежащих загрузке"
   ]
  },
  {
   "cell_type": "code",
   "execution_count": 8,
   "metadata": {},
   "outputs": [],
   "source": [
    "#по комбинации версии, месяца и счета\n",
    "columns = ['version','report_month','account']\n",
    "\n",
    "#забираем все, что лежит в PRODUCT_PARAMETERS\n",
    "with teradatasql.connect() as session:\n",
    "    query = '''\n",
    "            sel\n",
    "                PARAM_1 as \"version\",\n",
    "                REPORT_DATE as \"report_month\",\n",
    "                PARAM_2 as \"account\"\n",
    "            from UAT_PRODUCT.PRODUCT_PARAMETERS\n",
    "            WHERE (param_1 in ('BU','AC')\n",
    "                OR param_1 LIKE '%R%' OR param_1 LIKE '%F%') \n",
    "            GROUP BY 1,2,3\n",
    "            '''\n",
    "    ver_month_kpi_old = pd.read_sql(query, session)\n",
    "ver_month_kpi_old = ver_month_kpi_old.groupby(by=columns, as_index=False).size().reset_index()\n",
    "ver_month_kpi_old = ver_month_kpi_old[columns]\n",
    "ver_month_kpi_new = phd_rev_branch.groupby(by=columns, as_index=False).size().reset_index()\n",
    "ver_month_kpi_new = ver_month_kpi_new[columns]"
   ]
  },
  {
   "cell_type": "code",
   "execution_count": 21,
   "metadata": {},
   "outputs": [],
   "source": [
    "def dataframe_difference(df1, df2, which='right_only'):\n",
    "    \"\"\"Find rows which are different between two DataFrames.\"\"\"\n",
    "    comparison_df = df1.merge(df2,\n",
    "                              indicator=True,\n",
    "                              how='outer')\n",
    "    if which is None:\n",
    "        diff_df = comparison_df[comparison_df['_merge'] != 'both']\n",
    "    else:\n",
    "        diff_df = comparison_df[comparison_df['_merge'] == which]\n",
    "    return diff_df\n",
    "\n",
    "#находим разницу между имеющимися в PRODUCT_PARAMETERS и подготовленными данными по комбинации версии, месяца и счета (right_only)\n",
    "ver_month_kpi_to_insert = dataframe_difference(ver_month_kpi_old, ver_month_kpi_new)\n",
    "\n",
    "#отрезаем phd_rev_branch по комбинации версии, месяца и счета\n",
    "phd_rev_branch_ready = pd.merge(phd_rev_branch, ver_month_kpi_to_insert,  how='inner', on = columns, indicator = False)\n",
    "\n",
    "#переформатируем таблицу по макету PRODUCT_PARAMETERS в терадате\n",
    "cols = ['report_month', 'version', 'account',\n",
    "        'NULL', 'NULL1', 'BRANCH_ID', 'base_type',\n",
    "        'NULL2', 'NULL3', 'tariff', 'NULL4', 'param_value']\n",
    "df = phd_rev_branch_ready.reindex(columns = cols,  fill_value = np.NaN).where((pd.notnull(phd_rev_branch_ready)), None)\n",
    "df.head()"
   ]
  },
  {
   "cell_type": "code",
   "execution_count": 9,
   "metadata": {},
   "outputs": [
    {
     "data": {
      "text/html": [
       "<div>\n",
       "<style scoped>\n",
       "    .dataframe tbody tr th:only-of-type {\n",
       "        vertical-align: middle;\n",
       "    }\n",
       "\n",
       "    .dataframe tbody tr th {\n",
       "        vertical-align: top;\n",
       "    }\n",
       "\n",
       "    .dataframe thead th {\n",
       "        text-align: right;\n",
       "    }\n",
       "</style>\n",
       "<table border=\"1\" class=\"dataframe\">\n",
       "  <thead>\n",
       "    <tr style=\"text-align: right;\">\n",
       "      <th></th>\n",
       "      <th>report_month</th>\n",
       "      <th>version</th>\n",
       "      <th>account</th>\n",
       "      <th>NULL</th>\n",
       "      <th>NULL1</th>\n",
       "      <th>BRANCH_ID</th>\n",
       "      <th>base_type</th>\n",
       "      <th>NULL2</th>\n",
       "      <th>NULL3</th>\n",
       "      <th>tariff</th>\n",
       "      <th>NULL4</th>\n",
       "      <th>param_value</th>\n",
       "    </tr>\n",
       "  </thead>\n",
       "  <tbody>\n",
       "    <tr>\n",
       "      <th>0</th>\n",
       "      <td>2021-01-01</td>\n",
       "      <td>BU</td>\n",
       "      <td>Churn</td>\n",
       "      <td>None</td>\n",
       "      <td>None</td>\n",
       "      <td>66</td>\n",
       "      <td>NEW</td>\n",
       "      <td>None</td>\n",
       "      <td>None</td>\n",
       "      <td>Bundle</td>\n",
       "      <td>None</td>\n",
       "      <td>-5068</td>\n",
       "    </tr>\n",
       "    <tr>\n",
       "      <th>1</th>\n",
       "      <td>2021-01-01</td>\n",
       "      <td>BU</td>\n",
       "      <td>DATA traffic</td>\n",
       "      <td>None</td>\n",
       "      <td>None</td>\n",
       "      <td>66</td>\n",
       "      <td>NEW</td>\n",
       "      <td>None</td>\n",
       "      <td>None</td>\n",
       "      <td>Bundle</td>\n",
       "      <td>None</td>\n",
       "      <td>1.20148e+09</td>\n",
       "    </tr>\n",
       "    <tr>\n",
       "      <th>2</th>\n",
       "      <td>2021-01-01</td>\n",
       "      <td>BU</td>\n",
       "      <td>Gross Intake</td>\n",
       "      <td>None</td>\n",
       "      <td>None</td>\n",
       "      <td>66</td>\n",
       "      <td>NEW</td>\n",
       "      <td>None</td>\n",
       "      <td>None</td>\n",
       "      <td>Bundle</td>\n",
       "      <td>None</td>\n",
       "      <td>9569</td>\n",
       "    </tr>\n",
       "    <tr>\n",
       "      <th>3</th>\n",
       "      <td>2021-01-01</td>\n",
       "      <td>BU</td>\n",
       "      <td>International MtL Revenue</td>\n",
       "      <td>None</td>\n",
       "      <td>None</td>\n",
       "      <td>66</td>\n",
       "      <td>NEW</td>\n",
       "      <td>None</td>\n",
       "      <td>None</td>\n",
       "      <td>Bundle</td>\n",
       "      <td>None</td>\n",
       "      <td>6878.89</td>\n",
       "    </tr>\n",
       "    <tr>\n",
       "      <th>4</th>\n",
       "      <td>2021-01-01</td>\n",
       "      <td>BU</td>\n",
       "      <td>International MtL VC</td>\n",
       "      <td>None</td>\n",
       "      <td>None</td>\n",
       "      <td>66</td>\n",
       "      <td>NEW</td>\n",
       "      <td>None</td>\n",
       "      <td>None</td>\n",
       "      <td>Bundle</td>\n",
       "      <td>None</td>\n",
       "      <td>-29280.7</td>\n",
       "    </tr>\n",
       "  </tbody>\n",
       "</table>\n",
       "</div>"
      ],
      "text/plain": [
       "  report_month version                    account  NULL NULL1  BRANCH_ID  \\\n",
       "0   2021-01-01      BU                      Churn  None  None         66   \n",
       "1   2021-01-01      BU               DATA traffic  None  None         66   \n",
       "2   2021-01-01      BU               Gross Intake  None  None         66   \n",
       "3   2021-01-01      BU  International MtL Revenue  None  None         66   \n",
       "4   2021-01-01      BU       International MtL VC  None  None         66   \n",
       "\n",
       "  base_type NULL2 NULL3  tariff NULL4  param_value  \n",
       "0       NEW  None  None  Bundle  None        -5068  \n",
       "1       NEW  None  None  Bundle  None  1.20148e+09  \n",
       "2       NEW  None  None  Bundle  None         9569  \n",
       "3       NEW  None  None  Bundle  None      6878.89  \n",
       "4       NEW  None  None  Bundle  None     -29280.7  "
      ]
     },
     "execution_count": 9,
     "metadata": {},
     "output_type": "execute_result"
    }
   ],
   "source": [
    "cols = ['report_month', 'version', 'account',\n",
    "        'NULL', 'NULL1', 'BRANCH_ID', 'base_type',\n",
    "        'NULL2', 'NULL3', 'tariff', 'NULL4', 'param_value']\n",
    "df = phd_rev_branch.reindex(columns = cols,  fill_value = np.NaN).where((pd.notnull(phd_rev_branch)), None)\n",
    "df.head()"
   ]
  },
  {
   "cell_type": "code",
   "execution_count": 10,
   "metadata": {},
   "outputs": [
    {
     "data": {
      "text/plain": [
       "array(['BU'], dtype=object)"
      ]
     },
     "execution_count": 10,
     "metadata": {},
     "output_type": "execute_result"
    }
   ],
   "source": [
    "df.version.unique()"
   ]
  },
  {
   "cell_type": "code",
   "execution_count": 12,
   "metadata": {},
   "outputs": [
    {
     "data": {
      "text/plain": [
       "array([datetime.date(2021, 1, 1), datetime.date(2021, 2, 1),\n",
       "       datetime.date(2021, 3, 1), datetime.date(2021, 4, 1),\n",
       "       datetime.date(2021, 5, 1), datetime.date(2021, 6, 1),\n",
       "       datetime.date(2021, 7, 1), datetime.date(2021, 8, 1),\n",
       "       datetime.date(2021, 9, 1), datetime.date(2021, 10, 1),\n",
       "       datetime.date(2021, 11, 1), datetime.date(2021, 12, 1)],\n",
       "      dtype=object)"
      ]
     },
     "execution_count": 12,
     "metadata": {},
     "output_type": "execute_result"
    }
   ],
   "source": [
    "df.report_month.unique()"
   ]
  },
  {
   "cell_type": "markdown",
   "metadata": {},
   "source": [
    "### BACKUP данных PRODUCT_PARAMETERS"
   ]
  },
  {
   "cell_type": "code",
   "execution_count": 11,
   "metadata": {
    "scrolled": false
   },
   "outputs": [
    {
     "name": "stdout",
     "output_type": "stream",
     "text": [
      "2600469 rows inserted into UAT_PRODUCT.PRODUCT_PARAMETERS_BACKUP.\n"
     ]
    }
   ],
   "source": [
    "# чистим PRODUCT_PARAMETERS_BACKUP и заполняем данными\n",
    "with teradatasql.connect() as con:\n",
    "    with con.cursor() as cur:\n",
    "        cur.execute('''\n",
    "            delete from UAT_PRODUCT.PRODUCT_PARAMETERS_BACKUP; \n",
    "            INSERT INTO UAT_PRODUCT.PRODUCT_PARAMETERS_BACKUP\n",
    "            select *\n",
    "            from uat_product.product_parameters\n",
    "            WHERE (param_1 in ('BU','AC')\n",
    "                OR param_1 LIKE '%R%' OR param_1 LIKE '%F%')\n",
    "        ''')\n",
    "print(f'{cur.rowcount} rows inserted into UAT_PRODUCT.PRODUCT_PARAMETERS_BACKUP.')"
   ]
  },
  {
   "cell_type": "markdown",
   "metadata": {},
   "source": [
    "### Очистка и заполнение промежуточной таблицы PRODUCT_PARAMETERS_TEST_FOR_SAP"
   ]
  },
  {
   "cell_type": "code",
   "execution_count": 13,
   "metadata": {
    "scrolled": true
   },
   "outputs": [
    {
     "name": "stdout",
     "output_type": "stream",
     "text": [
      "deleting from uat_product.product_parameters_test_for_sap...\n",
      "178571 rows deleted from uat_product.product_parameters_test_for_sap\n",
      "inserting into uat_product.product_parameters_test_for_sap...\n",
      "89508 rows inserted into uat_product.product_parameters_test_for_sap.\n"
     ]
    }
   ],
   "source": [
    "with teradatasql.connect() as con:\n",
    "    with con.cursor() as cur:\n",
    "\n",
    "        print('deleting from uat_product.product_parameters_test_for_sap...')\n",
    "        cur.execute('''\n",
    "            delete from uat_product.product_parameters_test_for_sap;\n",
    "        ''')\n",
    "        print(f'{cur.rowcount} rows deleted from uat_product.product_parameters_test_for_sap')\n",
    "        \n",
    "        batchsize = 100000\n",
    "        print('inserting into uat_product.product_parameters_test_for_sap...')\n",
    "        for num in range(0, len(df), batchsize):\n",
    "            cur.executemany(f'''\n",
    "             INSERT into uat_product.product_parameters_test_for_sap ({','.join('?'*len(df.columns))})\n",
    "            ''',\n",
    "                [tuple(row) for row in df.iloc[num:num+batchsize,:].itertuples(index=False)]\n",
    "                )\n",
    "        print(f'{len(df)} rows inserted into uat_product.product_parameters_test_for_sap.')"
   ]
  },
  {
   "cell_type": "markdown",
   "metadata": {},
   "source": [
    "### Очистка PRODUCT_PARAMETERS (при необходимости)"
   ]
  },
  {
   "cell_type": "code",
   "execution_count": 14,
   "metadata": {},
   "outputs": [
    {
     "name": "stdout",
     "output_type": "stream",
     "text": [
      "2630421 rows deleted from uat_product.product_parameters\n"
     ]
    }
   ],
   "source": [
    "with teradatasql.connect() as con:\n",
    "    with con.cursor() as cur:\n",
    "        cur.execute('''\n",
    "            delete from UAT_PRODUCT.PRODUCT_PARAMETERS\n",
    "            WHERE param_1 in ('BU')\n",
    "                AND report_date between date'2021-01-01' and date'2021-12-31'\n",
    "        ''')      \n",
    "        print(f'{cur.rowcount} rows deleted from uat_product.product_parameters')"
   ]
  },
  {
   "cell_type": "markdown",
   "metadata": {},
   "source": [
    "### Заполнение PRODUCT_PARAMETERS"
   ]
  },
  {
   "cell_type": "code",
   "execution_count": 15,
   "metadata": {
    "scrolled": true
   },
   "outputs": [
    {
     "name": "stdout",
     "output_type": "stream",
     "text": [
      "2722554 rows inserted into UAT_PRODUCT.PRODUCT_PARAMETERS.\n"
     ]
    }
   ],
   "source": [
    "with teradatasql.connect() as con:\n",
    "    with con.cursor() as cur:\n",
    "        cur.execute('''\n",
    "            insert into UAT_PRODUCT.PRODUCT_PARAMETERS\n",
    "                sel\n",
    "                    cal.calendar_date as REPORT_DATE,\n",
    "                    product_parameters_test_for_sap.PARAM_1,\n",
    "                    product_parameters_test_for_sap.PARAM_2,\n",
    "                    product_parameters_test_for_sap.PARAM_3,\n",
    "                    product_parameters_test_for_sap.PARAM_4,\n",
    "                    product_parameters_test_for_sap.BRANCH_ID,\n",
    "                    product_parameters_test_for_sap.BASE_TYPE,\n",
    "                    product_parameters_test_for_sap.TP_ID_1,\n",
    "                    product_parameters_test_for_sap.TP_ID_2,\n",
    "                    product_parameters_test_for_sap.TARIFF_1,\n",
    "                    product_parameters_test_for_sap.TARIFF_2,\n",
    "                    PARAM_VALUE/EXTRACT(DAY FROM LAST_DAY(REPORT_DATE)) as PARAM_VALUE\n",
    "                 from uat_product.product_parameters_test_for_sap\n",
    "                 left join Sys_Calendar.BusinessCalendar cal\n",
    "                    on product_parameters_test_for_sap.REPORT_DATE = trunc(cal.calendar_date,'mon')\n",
    "                 where product_parameters_test_for_sap.PARAM_1 <> 'AC'\n",
    "\n",
    "                 union all\n",
    "\n",
    "                 sel *\n",
    "                 from uat_product.product_parameters_test_for_sap\n",
    "                  where product_parameters_test_for_sap.PARAM_1 = 'AC'\n",
    "        ''')      \n",
    "        print(f'{cur.rowcount} rows inserted into UAT_PRODUCT.PRODUCT_PARAMETERS.')"
   ]
  },
  {
   "cell_type": "code",
   "execution_count": null,
   "metadata": {},
   "outputs": [],
   "source": []
  },
  {
   "cell_type": "code",
   "execution_count": null,
   "metadata": {},
   "outputs": [],
   "source": []
  },
  {
   "cell_type": "code",
   "execution_count": null,
   "metadata": {},
   "outputs": [],
   "source": []
  },
  {
   "cell_type": "code",
   "execution_count": null,
   "metadata": {},
   "outputs": [],
   "source": []
  },
  {
   "cell_type": "code",
   "execution_count": null,
   "metadata": {},
   "outputs": [],
   "source": []
  },
  {
   "cell_type": "code",
   "execution_count": null,
   "metadata": {},
   "outputs": [],
   "source": [
    "### Очистка PRODUCT_PARAMETERS при необходимости заменить устаревшие данные\n",
    "# rows_counter = 0\n",
    "# with teradatasql.connect() as con:\n",
    "#     with con.cursor() as cur:\n",
    "#         for row in ver_month_kpi_new.itertuples(index=False):\n",
    "#             version = row[0]\n",
    "#             report_month = row[1]\n",
    "#             kpi = row[2]\n",
    "#             cur.execute(\n",
    "#                   f'''\n",
    "#                         delete from uat_product.product_parameters\n",
    "#                         WHERE PARAM_1='{version}'\n",
    "#                               AND REPORT_DATE = DATE'{report_month}'\n",
    "#                               AND PARAM_2 in {kpi}\n",
    "#                         ;\n",
    "#                     '''\n",
    "#                  )\n",
    "#             rows_counter = rows_counter + cur.rowcount\n",
    "#         print(f'{rows_counter} rows deleted on {tuple(kpis)} between {start_date} and {end_date}')"
   ]
  },
  {
   "cell_type": "code",
   "execution_count": null,
   "metadata": {},
   "outputs": [],
   "source": [
    "# newfilename = r'*.xlsx'\n",
    "# phd_rev_branch.to_excel(newfilename, index = False)"
   ]
  }
 ],
 "metadata": {
  "kernelspec": {
   "display_name": "Python 3",
   "language": "python",
   "name": "python3"
  },
  "language_info": {
   "codemirror_mode": {
    "name": "ipython",
    "version": 3
   },
   "file_extension": ".py",
   "mimetype": "text/x-python",
   "name": "python",
   "nbconvert_exporter": "python",
   "pygments_lexer": "ipython3",
   "version": "3.8.0"
  }
 },
 "nbformat": 4,
 "nbformat_minor": 4
}
